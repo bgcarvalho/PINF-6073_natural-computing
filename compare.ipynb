{
 "cells": [
  {
   "cell_type": "markdown",
   "metadata": {},
   "source": [
    "# Natural Computing\n",
    "\n",
    "This is an exercise from 2019/2 period of the course \"Natural Computing\" at UFES, in Vitória/ES - Brazil.\n",
    "\n",
    "Task: Compare different nature-inspired optimization algorithms.\n",
    "\n",
    "Master's degree candidate: Bruno Carvalho\n",
    "\n",
    "## Algorithms\n",
    "\n",
    "- GA - Genetic Algorithms\n",
    "- PSO - Particle Swarm Optimization\n",
    "- ES - Evolution Strategy\n",
    "\n",
    "\n",
    "## References\n",
    "\n",
    "."
   ]
  },
  {
   "cell_type": "code",
   "execution_count": 32,
   "metadata": {
    "ExecuteTime": {
     "end_time": "2019-09-14T17:24:06.920802Z",
     "start_time": "2019-09-14T17:24:06.904679Z"
    }
   },
   "outputs": [],
   "source": [
    "import os\n",
    "import sys\n",
    "import time\n",
    "import itertools\n",
    "import random\n",
    "import platform\n",
    "\n",
    "import numpy as np\n",
    "import pandas as pd\n",
    "import sklearn\n",
    "\n",
    "from tqdm import tqdm\n",
    "import matplotlib as mpl\n",
    "from matplotlib import pyplot as plt\n",
    "\n",
    "from benchmarks import *\n",
    "\n",
    "%matplotlib inline\n",
    "%config InlineBackend.figure_format = 'png'\n"
   ]
  },
  {
   "cell_type": "code",
   "execution_count": 33,
   "metadata": {
    "ExecuteTime": {
     "end_time": "2019-09-14T17:24:08.903686Z",
     "start_time": "2019-09-14T17:24:08.895315Z"
    }
   },
   "outputs": [
    {
     "name": "stdout",
     "output_type": "stream",
     "text": [
      "The memory_profiler extension is already loaded. To reload it, use:\n",
      "  %reload_ext memory_profiler\n",
      "The autoreload extension is already loaded. To reload it, use:\n",
      "  %reload_ext autoreload\n"
     ]
    }
   ],
   "source": [
    "%load_ext memory_profiler\n",
    "%load_ext autoreload\n",
    "%autoreload 2"
   ]
  },
  {
   "cell_type": "markdown",
   "metadata": {},
   "source": [
    "# System"
   ]
  },
  {
   "cell_type": "code",
   "execution_count": 34,
   "metadata": {
    "ExecuteTime": {
     "end_time": "2019-09-14T17:24:10.852496Z",
     "start_time": "2019-09-14T17:24:10.843944Z"
    }
   },
   "outputs": [
    {
     "name": "stdout",
     "output_type": "stream",
     "text": [
      "OS posix\n",
      "system Linux 5.0.0-27-generic\n",
      "python 3.7.3\n",
      "numpy 1.16.4\n",
      "pandas 0.23.4\n",
      "scikit-learn 0.21.2\n",
      "matplotlib 3.1.0\n"
     ]
    }
   ],
   "source": [
    "print('OS', os.name)\n",
    "print('system', platform.system(), platform.release())\n",
    "print('python', platform.python_version())\n",
    "print('numpy', np.__version__)\n",
    "print('pandas', pd.__version__)\n",
    "print('scikit-learn', sklearn.__version__)\n",
    "print('matplotlib', mpl.__version__)\n"
   ]
  },
  {
   "cell_type": "markdown",
   "metadata": {},
   "source": [
    "# Default parameters"
   ]
  },
  {
   "cell_type": "code",
   "execution_count": 3,
   "metadata": {
    "ExecuteTime": {
     "end_time": "2019-09-14T16:14:44.535572Z",
     "start_time": "2019-09-14T16:14:44.524202Z"
    }
   },
   "outputs": [],
   "source": [
    "#benchmarks = ['ackley_function', 'sphere_function', 'rastrigin_function', 'rosenbrock_function', 'schwefel']\n",
    "benchmarks = ['ackley_function', 'sphere_function']\n",
    "\n",
    "py_globals = globals()\n",
    "\n",
    "execution_dict = {\n",
    "    'time_elapsed': 0,\n",
    "    'algorithm': '',\n",
    "    'metrics': {\n",
    "        'best': [],\n",
    "        'all_best': 0.0,\n",
    "        'all_worst': 0.0,\n",
    "        'time': [],\n",
    "        'objective': [],\n",
    "        'scores': [],\n",
    "    },\n",
    "    'n_eval': 0,\n",
    "    'max_eval': 0,\n",
    "}\n",
    "\n",
    "compare_cols = [\n",
    "    'algorithm',\n",
    "    'benchmark',\n",
    "    'seed',\n",
    "    'population',\n",
    "    'dimension',\n",
    "    'max_iter',\n",
    "    'upper_bound',\n",
    "    'lower_bound',\n",
    "    'best',\n",
    "    'worst',\n",
    "    'mean',\n",
    "    'time',\n",
    "    'n_func_eval'\n",
    "]\n",
    "compare_data = pd.DataFrame(columns=compare_cols)"
   ]
  },
  {
   "cell_type": "code",
   "execution_count": 4,
   "metadata": {
    "ExecuteTime": {
     "end_time": "2019-09-14T16:14:44.559797Z",
     "start_time": "2019-09-14T16:14:44.536777Z"
    },
    "code_folding": [
     46,
     102,
     121,
     127,
     133
    ]
   },
   "outputs": [],
   "source": [
    "def ga_optimizer(obj_func, parameters):\n",
    "    \"\"\"\n",
    "\n",
    "    Inspired by:\n",
    "    https://github.com/7ossam81/EvoloPy/blob/master/GA.py\n",
    "\n",
    "    \"\"\"\n",
    "    lower = parameters.get('lower', [-1.0])\n",
    "    upper = parameters.get('upper', [1.0])\n",
    "    dimension = parameters.get('dimension', 30)\n",
    "    seed = parameters.get('seed', 1)\n",
    "    max_iterations = parameters.get('max_iterations', 100)\n",
    "    population = parameters.get('population', 100)\n",
    "    crossover_rate = parameters.get('crossover_rate', 1.0)\n",
    "    mutation_rate = parameters.get('mutation_rate', 0.01)\n",
    "    best_to_keep = parameters.get('best_to_keep', 2)\n",
    "    crossover_alpha = parameters.get('crossover_alpha', 0.25)\n",
    "    max_eval = parameters.get('max_eval', 0)\n",
    "    \n",
    "    np.random.seed(seed)\n",
    "    \n",
    "    # Input Objective function has variable dimensions\n",
    "    # consider equi-distance \"square\"\n",
    "    if not isinstance(lower, list):\n",
    "        lower = [lower]\n",
    "    if not isinstance(upper, list):\n",
    "        upper = [upper]\n",
    "\n",
    "    lower = lower * dimension\n",
    "    upper = upper * dimension\n",
    "\n",
    "    # track execution\n",
    "    exec_info = execution_dict.copy()\n",
    "    n_eval = 0\n",
    "    \n",
    "    # allocate memory\n",
    "    exec_info['metrics']['time'] = np.zeros([max_iterations], dtype='float')\n",
    "    exec_info['metrics']['best'] = np.zeros([max_iterations, dimension], dtype='float')\n",
    "    exec_info['metrics']['objective'] = np.zeros([max_iterations], dtype='float')\n",
    "    exec_info['metrics']['scores'] = np.full([max_iterations, population], np.inf, dtype='float')\n",
    "\n",
    "    begin = time.time()\n",
    "\n",
    "    space = np.random.uniform(0, 1, [population, dimension])\n",
    "    scores = np.random.uniform(0.0, 1.0, population)\n",
    "    \n",
    "    def crossover(space, scores):\n",
    "        search_space = np.zeros_like(space) + np.random.uniform(0, 1)\n",
    "        #search_space = np.zeros_like(space)\n",
    "        search_space[0:best_to_keep, :] = space[0:best_to_keep, :]\n",
    "        \n",
    "        # renew BETA every generation\n",
    "        beta = np.random.uniform(-crossover_alpha, 1 + crossover_alpha)\n",
    "        \n",
    "        for cross  in range(best_to_keep + 1, population - 1, 2):\n",
    "\n",
    "            # using SET parents will always be different\n",
    "            #parents = set()\n",
    "            \n",
    "            # using LIST parents can repeat!\n",
    "            parents = []\n",
    "            \n",
    "            parent1_idx = np.random.randint(0, population)\n",
    "            parent2_idx = np.random.randint(0, population)\n",
    "            \n",
    "            parents.append(parent1_idx)\n",
    "            parents.append(parent2_idx)\n",
    "\n",
    "            \"\"\"\n",
    "            while len(parents) < 2:\n",
    "                parent1_idx = np.random.randint(0, population)\n",
    "                parent2_idx = np.random.randint(0, population)\n",
    "            \n",
    "                if scores[parent1_idx] > scores[parent2_idx]:\n",
    "                    # p1 is better then p2\n",
    "                    parents.add(parent1_idx)\n",
    "                else:\n",
    "                    parents.add(parent2_idx)               \n",
    "            \"\"\"\n",
    "            \n",
    "            lp = list(parents)\n",
    "            parent1 = space[lp[0], :]\n",
    "            parent2 = space[lp[1], :]\n",
    "            \n",
    "            # ARITHMETIC CROSSOVER\n",
    "            child1 = parent1 * beta + (1.0 - beta) * parent2\n",
    "            child2 = parent2 * beta + (1.0 - beta) * parent1\n",
    "            \n",
    "            crossover_chance = np.random.uniform(0.0, 1.0)\n",
    "            if crossover_chance < crossover_rate:\n",
    "                search_space[cross, :] = np.copy(child1)\n",
    "                search_space[cross + 1, :] = np.copy(child2)  \n",
    "            else:\n",
    "                search_space[cross, :] = np.copy(parent1)\n",
    "                search_space[cross + 1, :] = np.copy(parent2)\n",
    "            \n",
    "            for j in range(dimension):\n",
    "                search_space[cross, j] = np.clip(search_space[cross, j], lower[j], upper[j])\n",
    "                search_space[cross + 1, j] = np.clip(search_space[cross + 1, j], lower[j], upper[j])\n",
    "                \n",
    "        return search_space\n",
    "    \n",
    "    def mutation(space, gen):\n",
    "        n_mutate = np.int(population * mutation_rate)\n",
    "        for m in range(n_mutate):\n",
    "            # keep best => do not mutate\n",
    "            rand_individual = np.random.randint(best_to_keep + 1, population)\n",
    "            #rand_individual = np.random.randint(0, population)\n",
    "            # decrease stdev with generations\n",
    "            #stdev = 5.0 / np.sqrt(gen)\n",
    "            stdev = 2\n",
    "            new_value = np.zeros(dimension)\n",
    "            for j in range(dimension):\n",
    "                new_value[j] = np.random.normal(space[rand_individual, j], stdev)\n",
    "                new_value[j] = np.clip(new_value[j], lower[j], upper[j])\n",
    "\n",
    "            # store\n",
    "            space[rand_individual, :] = new_value\n",
    "\n",
    "        return space\n",
    "    \n",
    "    def sort_iter(_space, _scores):\n",
    "        idx = scores.argsort()\n",
    "        _space = _space[idx]\n",
    "        _scores = _scores[idx]\n",
    "        return _space, _scores\n",
    "    \n",
    "    def eval_obj(func, _space):\n",
    "        _scores = np.full(population, np.inf)\n",
    "        for p in range(population):\n",
    "            _scores[p] = func(_space[p, :])\n",
    "        return _scores\n",
    "\n",
    "    for i in range(dimension):\n",
    "        # init search space inside bounds\n",
    "        space[:, i] = np.random.uniform(0, 1, population) * (upper[i] - lower[i]) + lower[i]\n",
    "    \n",
    "    for _iter in range(1, max_iterations):\n",
    "        \n",
    "        # crossover\n",
    "        space = crossover(space, scores)\n",
    "        \n",
    "        # mutation\n",
    "        space = mutation(space, _iter)\n",
    "        \n",
    "        # evaluate objective\n",
    "        scores = eval_obj(obj_func, space)\n",
    "        n_eval += population\n",
    "        \n",
    "        # remove duplicates\n",
    "        \n",
    "        # sort\n",
    "        space, scores = sort_iter(space, scores)\n",
    "        \n",
    "        # save\n",
    "        exec_info['metrics']['scores'][_iter] = scores\n",
    "        exec_info['metrics']['time'][_iter] = time.time() - begin\n",
    "        exec_info['metrics']['best'][_iter] = space[0, :]\n",
    "        \n",
    "        if _iter % np.int((max_iterations + 1) / 5) == 0:\n",
    "            print(f'\\t\\tGen {_iter:06d}, '\n",
    "                  f'f_min = {scores[0]:+13.5e}, '\n",
    "            )\n",
    "\n",
    "        if max_eval > 0 and _iter > max_eval:\n",
    "            break\n",
    "\n",
    "    exec_info['algorithm'] = 'GA - Genetic Algorithm'\n",
    "    exec_info['time_elapsed'] = time.time() - begin\n",
    "    exec_info['n_eval'] = n_eval\n",
    "    \n",
    "    return exec_info"
   ]
  },
  {
   "cell_type": "code",
   "execution_count": 5,
   "metadata": {
    "ExecuteTime": {
     "end_time": "2019-09-14T16:14:44.577822Z",
     "start_time": "2019-09-14T16:14:44.561042Z"
    },
    "code_folding": []
   },
   "outputs": [],
   "source": [
    "def pso_optimizer(obj_func, parameters):\n",
    "    \"\"\"\n",
    "\n",
    "    Inspired by:\n",
    "    https://github.com/7ossam81/EvoloPy/blob/master/PSO.py\n",
    "\n",
    "    \"\"\"\n",
    "    lower = parameters.get('lower', [-1.0])\n",
    "    upper = parameters.get('upper', [1.0])\n",
    "    dimension = parameters.get('dimension', 30)\n",
    "    population = parameters.get('population', 100)\n",
    "    seed = parameters.get('seed', 1)\n",
    "    max_iterations = parameters.get('max_iterations', 100)\n",
    "    velocity_max = np.full(dimension, parameters.get('velocity_max', 5.0))\n",
    "    \n",
    "    w_max = parameters.get('w_max', 0.9)\n",
    "    w_min = parameters.get('w_min', 0.2)\n",
    "\n",
    "    if not isinstance(lower, list):\n",
    "        lower = [lower]\n",
    "    if not isinstance(upper, list):\n",
    "        upper = [upper]\n",
    "\n",
    "    lower = lower * dimension\n",
    "    upper = upper * dimension\n",
    "\n",
    "    # track execution\n",
    "    exec_info = execution_dict.copy()\n",
    "    exec_info['metrics']['scores'] = np.zeros(max_iterations, dtype='float')\n",
    "\n",
    "    # inner variables\n",
    "    \n",
    "    c1 = 2.0\n",
    "    c2 = 2.0\n",
    "    \n",
    "    velocity = np.full([population, dimension], 0.0)\n",
    "    \n",
    "    p_best_score = np.full(population, np.inf)\n",
    "    p_best = np.full([population, dimension], 0.0)\n",
    "    \n",
    "    g_best_score = np.inf\n",
    "    g_best = np.full(population, 0.0)\n",
    "    \n",
    "    space = np.full([population, dimension], 0.0)\n",
    "    \n",
    "    begin = time.time()\n",
    "\n",
    "    # init fill\n",
    "    for _d in range(dimension):\n",
    "        rand_dim = np.random.uniform(0, 1, population)\n",
    "        space[:, _d] = rand_dim * (upper[_d] - lower[_d]) + lower[_d]\n",
    "    \n",
    "    n_eval = 0\n",
    "    for _iter in range(max_iterations):\n",
    "        for _p in range(population):\n",
    "            # keep inside bounds / search limits\n",
    "            space[_p, :] = np.clip(space[_p, :], lower, upper)\n",
    "            \n",
    "            # eval\n",
    "            score = obj_func(space[_p, :])\n",
    "            n_eval += 1\n",
    "            \n",
    "            # check\n",
    "            if p_best_score[_p] > score:\n",
    "                p_best_score[_p] = score\n",
    "                p_best[_p, :] = np.copy(space[_p, :])\n",
    "            \n",
    "            if g_best_score > score:\n",
    "                g_best_score = score\n",
    "                g_best = np.copy(space[_p, :])\n",
    "        \n",
    "        w = w_max - _iter * ((w_max - w_min) / max_iterations)\n",
    "        \n",
    "        for _p in range(population):\n",
    "            r1 = np.random.random([dimension])\n",
    "            r2 = np.random.random([dimension])\n",
    "            \n",
    "            v = velocity[_p, :]\n",
    "            \n",
    "            a1 = c1 * r1 * (p_best[_p, :] - space[_p, :])\n",
    "            a2 = c2 * r2 * (g_best - space[_p, :])\n",
    "            \n",
    "            velocity[_p, :] = w * v + a1 + a2\n",
    "            \n",
    "            velocity[_p, :] = np.fmax(velocity[_p, :], -velocity_max)  # negative!!\n",
    "            velocity[_p, :] = np.fmin(velocity[_p, :],  velocity_max)\n",
    "            \n",
    "            # UPDATE space\n",
    "            space[_p, :] += velocity[_p, :]\n",
    "\n",
    "        # save data to analyse and plot later\n",
    "        exec_info['metrics']['scores'][_iter] = g_best_score\n",
    "        \n",
    "        # some logging\n",
    "        if _iter % np.int((max_iterations + 1) / 5.0) == 0:\n",
    "            print(f'\\t\\tIteration {_iter:05d}, f_minx = {g_best_score:+12.5e}')\n",
    "\n",
    "    # finished\n",
    "    exec_info['algorithm'] = 'PSO - Particle Swarm Optimization'\n",
    "    exec_info['time_elapsed'] = time.time() - begin\n",
    "    exec_info['n_eval'] = n_eval\n",
    "\n",
    "    return exec_info"
   ]
  },
  {
   "cell_type": "code",
   "execution_count": 6,
   "metadata": {
    "ExecuteTime": {
     "end_time": "2019-09-14T16:14:44.595828Z",
     "start_time": "2019-09-14T16:14:44.578946Z"
    },
    "code_folding": [
     0
    ]
   },
   "outputs": [],
   "source": [
    "def bb_pso_optimizer(obj_func, parameters):\n",
    "    \"\"\"\n",
    "\n",
    "\n",
    "    \"\"\"\n",
    "    lower = parameters.get('lower', [-1.0])\n",
    "    upper = parameters.get('upper', [1.0])\n",
    "    dimension = parameters.get('dimension', 30)\n",
    "    population = parameters.get('population', 100)\n",
    "    seed = parameters.get('seed', 1)\n",
    "    max_iterations = parameters.get('max_iterations', 100)\n",
    "    velocity_max = np.full(dimension, parameters.get('velocity_max', 5.0))\n",
    "\n",
    "    np.random.seed(seed)\n",
    "\n",
    "    w_max = parameters.get('w_max', 0.9)\n",
    "    w_min = parameters.get('w_min', 0.2)\n",
    "\n",
    "    if not isinstance(lower, list):\n",
    "        lower = [lower]\n",
    "    if not isinstance(upper, list):\n",
    "        upper = [upper]\n",
    "\n",
    "    lower = lower * dimension\n",
    "    upper = upper * dimension\n",
    "\n",
    "    # track execution\n",
    "    exec_info = execution_dict.copy()\n",
    "    exec_info['metrics']['scores'] = np.zeros(max_iterations, dtype='float')\n",
    "\n",
    "    # inner variables\n",
    "\n",
    "    c1 = 2.0\n",
    "    c2 = 2.0\n",
    "\n",
    "    velocity = np.full([population, dimension], 0.0)\n",
    "\n",
    "    p_best_score = np.full(population, np.inf)\n",
    "    p_best = np.full([population, dimension], 0.0)\n",
    "\n",
    "    g_best_score = np.inf\n",
    "    g_best = np.full(population, 0.0)\n",
    "\n",
    "    space = np.full([population, dimension], 0.0)\n",
    "\n",
    "    begin = time.time()\n",
    "\n",
    "    # init fill\n",
    "    for _d in range(dimension):\n",
    "        rand_dim = np.random.uniform(0, 1, population)\n",
    "        space[:, _d] = rand_dim * (upper[_d] - lower[_d]) + lower[_d]\n",
    "\n",
    "    n_eval = 0\n",
    "    for _iter in range(max_iterations):\n",
    "        for _p in range(population):\n",
    "            # keep inside bounds / search limits\n",
    "            space[_p, :] = np.clip(space[_p, :], lower, upper)\n",
    "\n",
    "            # eval\n",
    "            score = obj_func(space[_p, :])\n",
    "            n_eval += 1\n",
    "\n",
    "            # check\n",
    "            if p_best_score[_p] > score:\n",
    "                p_best_score[_p] = score\n",
    "                p_best[_p, :] = np.copy(space[_p, :])\n",
    "\n",
    "            if g_best_score > score:\n",
    "                g_best_score = score\n",
    "                g_best = np.copy(space[_p, :])\n",
    "\n",
    "        w = w_max - _iter * ((w_max - w_min) / max_iterations)\n",
    "\n",
    "        for _p in range(population):\n",
    "            r1 = np.random.random([dimension])\n",
    "            r2 = np.random.random([dimension])\n",
    "\n",
    "            v = velocity[_p, :]\n",
    "\n",
    "            a1 = c1 * r1 * (p_best[_p, :] - space[_p, :])\n",
    "            a2 = c2 * r2 * (g_best - space[_p, :])\n",
    "\n",
    "            velocity[_p, :] = w * v + a1 + a2\n",
    "\n",
    "            velocity[_p, :] = np.fmax(velocity[_p, :], -velocity_max)  # negative!!\n",
    "            velocity[_p, :] = np.fmin(velocity[_p, :],  velocity_max)\n",
    "\n",
    "            # UPDATE space\n",
    "            space[_p, :] += velocity[_p, :]\n",
    "\n",
    "        # save data to analyse and plot later\n",
    "        exec_info['metrics']['scores'][_iter] = g_best_score\n",
    "\n",
    "        # some logging\n",
    "        if _iter % np.int(max_iterations / 10.0) == 0:\n",
    "            print(f'\\tIteration {_iter:05d}, f_minx = {g_best_score:+12.5e}')\n",
    "\n",
    "    # finished\n",
    "    exec_info['algorithm'] = 'BBPSO'\n",
    "    exec_info['time_elapsed'] = time.time() - begin\n",
    "\n",
    "    return exec_info"
   ]
  },
  {
   "cell_type": "code",
   "execution_count": 7,
   "metadata": {
    "ExecuteTime": {
     "end_time": "2019-09-14T16:14:44.605500Z",
     "start_time": "2019-09-14T16:14:44.596896Z"
    },
    "code_folding": [
     0
    ]
   },
   "outputs": [],
   "source": [
    "def es_optimizer(obj_func, parameters):\n",
    "    \"\"\"\n",
    "    \"\"\"\n",
    "    seed = parameters.get('seed', 1)\n",
    "    lower = parameters.get('lower', [-1.0])\n",
    "    upper = parameters.get('upper', [1.0])\n",
    "    dimension = parameters.get('dimension', 30)\n",
    "    population = parameters.get('population', 100)\n",
    "    max_iterations = parameters.get('max_iterations', 100)\n",
    "    crossover_rate = parameters.get('crossover_rate', 1.0)\n",
    "    mutation_rate = parameters.get('mutation_rate', 0.01)\n",
    "    \n",
    "    np.random.seed(seed)\n",
    "    begin = time.time()\n",
    "    n_eval = 0\n",
    "    exec_info['algorithm'] = 'ES'\n",
    "    exec_info['time_elapsed'] = time.time() - begin\n",
    "    exec_info['n_eval'] = n_eval"
   ]
  },
  {
   "cell_type": "code",
   "execution_count": 8,
   "metadata": {
    "ExecuteTime": {
     "end_time": "2019-09-14T16:14:44.615720Z",
     "start_time": "2019-09-14T16:14:44.607119Z"
    },
    "code_folding": [
     0
    ]
   },
   "outputs": [],
   "source": [
    "def cma_es_optimizer(obj_func, parameters):\n",
    "    \"\"\"\n",
    "    \"\"\"\n",
    "    seed = parameters.get('seed', 1)\n",
    "    lower = parameters.get('lower', [-1.0])\n",
    "    upper = parameters.get('upper', [1.0])\n",
    "    dimension = parameters.get('dimension', 30)\n",
    "    population = parameters.get('population', 100)\n",
    "    max_iterations = parameters.get('max_iterations', 100)\n",
    "    crossover_rate = parameters.get('crossover_rate', 1.0)\n",
    "    mutation_rate = parameters.get('mutation_rate', 0.01)\n",
    "\n",
    "    \n",
    "    np.random.seed(seed)\n",
    "    begin = time.time()\n",
    "    n_eval = 0\n",
    "    exec_info['algorithm'] = 'CMA-ES'\n",
    "    exec_info['time_elapsed'] = time.time() - begin\n",
    "    exec_info['n_eval'] = n_eval"
   ]
  },
  {
   "cell_type": "markdown",
   "metadata": {},
   "source": [
    "# GA - Genetic Algorithm"
   ]
  },
  {
   "cell_type": "code",
   "execution_count": 9,
   "metadata": {
    "ExecuteTime": {
     "end_time": "2019-09-14T16:14:54.797226Z",
     "start_time": "2019-09-14T16:14:44.616984Z"
    },
    "code_folding": []
   },
   "outputs": [
    {
     "name": "stdout",
     "output_type": "stream",
     "text": [
      "Benchmark ackley_function\n",
      "\tDimensions: 30, Seed=1\n",
      "\t\tGen 000200, f_min =  +6.36001e-03, \n",
      "\t\tGen 000400, f_min =  +3.18091e-04, \n",
      "\t\tGen 000600, f_min =  +3.18091e-04, \n",
      "\t\tGen 000800, f_min =  +3.18091e-04, \n",
      "\t\tTop 3 f(x) values, after    5.53s\n",
      "\t\tf= [0.00031809 0.00031809 0.18064996]\n",
      "Benchmark sphere_function\n",
      "\tDimensions: 30, Seed=1\n",
      "\t\tGen 000200, f_min =  +3.92370e-04, \n",
      "\t\tGen 000400, f_min =  +1.89315e-07, \n",
      "\t\tGen 000600, f_min =  +1.89315e-07, \n",
      "\t\tGen 000800, f_min =  +1.89315e-07, \n",
      "\t\tTop 3 f(x) values, after    4.64s\n",
      "\t\tf= [1.89314808e-07 1.89314808e-07 3.47494405e-02]\n"
     ]
    }
   ],
   "source": [
    "results = []\n",
    "_dim = 30\n",
    "\n",
    "for bmrk in benchmarks:\n",
    "    print('Benchmark', bmrk)\n",
    "    for seed in range(1, 2):\n",
    "        params = {\n",
    "            'seed': seed,\n",
    "            'dimension': _dim,\n",
    "            'max_iterations': 1000,\n",
    "            'population': 100,\n",
    "            'upper': [30],\n",
    "            'lower': [-30],\n",
    "        }\n",
    "        print(f'\\tDimensions: {_dim}, Seed={seed}')\n",
    "        tmp_result = ga_optimizer(py_globals[bmrk], params)\n",
    "        results.append(tmp_result.copy())\n",
    "        print(f\"\\t\\tTop 3 f(x) values, after {tmp_result['time_elapsed']:7.2f}s\")\n",
    "        print('\\t\\tf=', tmp_result['metrics']['scores'][-1][:3])\n",
    "        #print('\\tx=')\n",
    "        #for xv in tmp_result['metrics']['best'][-1]:\n",
    "        #    print(f'\\t\\t {xv:+12.7e}')\n",
    "        #    pass\n",
    "\n",
    "        compare_data = compare_data.append(\n",
    "            pd.DataFrame(data=[[\n",
    "                'GA',\n",
    "                bmrk,\n",
    "                seed,\n",
    "                params['population'],\n",
    "                _dim,\n",
    "                params['max_iterations'],\n",
    "                params['upper'][0],\n",
    "                params['lower'][0],\n",
    "                np.amin(tmp_result['metrics']['scores'][-1]),\n",
    "                np.inf,\n",
    "                np.inf,\n",
    "                tmp_result['time_elapsed'],\n",
    "                tmp_result['n_eval']\n",
    "            ]], columns=compare_cols),\n",
    "            ignore_index=True\n",
    "        )"
   ]
  },
  {
   "cell_type": "code",
   "execution_count": 10,
   "metadata": {
    "ExecuteTime": {
     "end_time": "2019-09-14T16:14:54.806079Z",
     "start_time": "2019-09-14T16:14:54.798358Z"
    }
   },
   "outputs": [],
   "source": [
    "r_dim = results[0]\n",
    "y_plot = []\n",
    "for _iter2 in range(r_dim['metrics']['scores'].shape[0]):\n",
    "    y_plot.append(r_dim['metrics']['scores'][_iter2][0])"
   ]
  },
  {
   "cell_type": "code",
   "execution_count": 11,
   "metadata": {
    "ExecuteTime": {
     "end_time": "2019-09-14T16:14:54.944550Z",
     "start_time": "2019-09-14T16:14:54.807221Z"
    }
   },
   "outputs": [
    {
     "data": {
      "text/plain": [
       "Text(0, 0.5, 'log of f')"
      ]
     },
     "execution_count": 11,
     "metadata": {},
     "output_type": "execute_result"
    },
    {
     "data": {
      "image/png": "[encoded data removed]",
      "text/plain": [
       "<Figure size 432x288 with 1 Axes>"
      ]
     },
     "metadata": {
      "needs_background": "light"
     },
     "output_type": "display_data"
    }
   ],
   "source": [
    "# change plot scale to LOG => better view\n",
    "plt.plot(-np.log(y_plot))\n",
    "\n",
    "plt.title('GA - Genetic Algorithm')\n",
    "#plt.subtitle('log of f(x) for x = best')\n",
    "plt.xlabel('generations')\n",
    "plt.ylabel('log of f')"
   ]
  },
  {
   "cell_type": "code",
   "execution_count": 12,
   "metadata": {
    "ExecuteTime": {
     "end_time": "2019-09-14T16:14:54.967636Z",
     "start_time": "2019-09-14T16:14:54.945529Z"
    }
   },
   "outputs": [
    {
     "name": "stdout",
     "output_type": "stream",
     "text": [
      "                         best               n_func_eval      time worst\n",
      "                         amax          amin        amax      mean  amax\n",
      "benchmark                                                              \n",
      "ackley_function  3.180905e-04  3.180905e-04       99900  5.525611   inf\n",
      "sphere_function  1.893148e-07  1.893148e-07       99900  4.639950   inf\n"
     ]
    }
   ],
   "source": [
    "pt = pd.pivot_table(\n",
    "    compare_data[compare_data['algorithm'] == 'GA'],\n",
    "    values=['best', 'worst', 'time', 'n_func_eval'],\n",
    "    #values=['best'],\n",
    "    index=['benchmark'],\n",
    "    aggfunc={\n",
    "        'best': [np.amin, np.amax],\n",
    "        'worst': np.amax,\n",
    "        'time': np.mean,\n",
    "        'n_func_eval': np.amax\n",
    "    }\n",
    ")\n",
    "print(pt)"
   ]
  },
  {
   "cell_type": "markdown",
   "metadata": {},
   "source": [
    "# PSO - Particle Swarm Optimization algorithm"
   ]
  },
  {
   "cell_type": "code",
   "execution_count": 13,
   "metadata": {
    "ExecuteTime": {
     "end_time": "2019-09-14T16:15:01.047951Z",
     "start_time": "2019-09-14T16:14:54.968818Z"
    }
   },
   "outputs": [
    {
     "name": "stdout",
     "output_type": "stream",
     "text": [
      "Benchmark function ackley_function\n",
      "\tDimensions: 30, Seed=1\n",
      "\t\tIteration 00000, f_minx = +2.03910e+01\n",
      "\t\tIteration 00200, f_minx = +5.02361e+00\n",
      "\t\tIteration 00400, f_minx = +2.67499e+00\n",
      "\t\tIteration 00600, f_minx = +6.72546e-02\n",
      "\t\tIteration 00800, f_minx = +1.97741e-04\n",
      "\t\tTop 3 f(x) values, after    3.02s\n",
      "\t\tf= [2.76158869e-08 2.59598107e-08 2.42420879e-08]\n",
      "Benchmark function sphere_function\n",
      "\tDimensions: 30, Seed=1\n",
      "\t\tIteration 00000, f_minx = +2.01738e+01\n",
      "\t\tIteration 00200, f_minx = +5.00414e+00\n",
      "\t\tIteration 00400, f_minx = +2.79233e+00\n",
      "\t\tIteration 00600, f_minx = +4.99513e-02\n",
      "\t\tIteration 00800, f_minx = +1.34484e-04\n",
      "\t\tTop 3 f(x) values, after    3.04s\n",
      "\t\tf= [1.87786076e-08 1.85672921e-08 1.83388527e-08]\n"
     ]
    }
   ],
   "source": [
    "results = []\n",
    "_dim = 30\n",
    "\n",
    "for bmrk in benchmarks:\n",
    "    print('Benchmark function', bmrk)\n",
    "    for seed in range(1, 2):\n",
    "        params = {\n",
    "            'seed': seed,\n",
    "            'dimension': _dim,\n",
    "            'max_iterations': 1000,\n",
    "            'population': 100,\n",
    "            'upper': [30],\n",
    "            'lower': [-30],\n",
    "        }\n",
    "        print(f'\\tDimensions: {_dim}, Seed={seed}')\n",
    "        tmp_result = pso_optimizer(ackley_function, params)\n",
    "        results.append(tmp_result.copy())\n",
    "        print(f\"\\t\\tTop 3 f(x) values, after {tmp_result['time_elapsed']:7.2f}s\")\n",
    "        print('\\t\\tf=', tmp_result['metrics']['scores'][-3:])\n",
    "\n",
    "        compare_data = compare_data.append(\n",
    "            pd.DataFrame(data=[[\n",
    "                'PSO',\n",
    "                bmrk,\n",
    "                seed,\n",
    "                params['population'],\n",
    "                _dim,\n",
    "                params['max_iterations'],\n",
    "                params['upper'][0],\n",
    "                params['lower'][0],\n",
    "                np.amin(tmp_result['metrics']['scores'][-1]),\n",
    "                np.inf,\n",
    "                np.inf,\n",
    "                tmp_result['time_elapsed'],\n",
    "                tmp_result['n_eval']\n",
    "            ]], columns=compare_cols),\n",
    "            ignore_index=True\n",
    "        )"
   ]
  },
  {
   "cell_type": "code",
   "execution_count": 14,
   "metadata": {
    "ExecuteTime": {
     "end_time": "2019-09-14T16:15:01.056529Z",
     "start_time": "2019-09-14T16:15:01.049155Z"
    }
   },
   "outputs": [],
   "source": [
    "r_dim = results[0]\n",
    "y_plot = []\n",
    "for _iter2 in range(r_dim['metrics']['scores'].shape[0]):\n",
    "    y_plot.append(r_dim['metrics']['scores'][_iter2])"
   ]
  },
  {
   "cell_type": "code",
   "execution_count": 15,
   "metadata": {
    "ExecuteTime": {
     "end_time": "2019-09-14T16:15:01.161689Z",
     "start_time": "2019-09-14T16:15:01.057655Z"
    }
   },
   "outputs": [
    {
     "data": {
      "text/plain": [
       "Text(0, 0.5, 'log of f')"
      ]
     },
     "execution_count": 15,
     "metadata": {},
     "output_type": "execute_result"
    },
    {
     "data": {
      "image/png": "[encoded data removed]",
      "text/plain": [
       "<Figure size 432x288 with 1 Axes>"
      ]
     },
     "metadata": {
      "needs_background": "light"
     },
     "output_type": "display_data"
    }
   ],
   "source": [
    "plt.plot(-np.log(y_plot))\n",
    "plt.title('PSO - Particle Swarm Optimization')\n",
    "#plt.subtitle('log of f(x) for x = best')\n",
    "plt.xlabel('generations')\n",
    "plt.ylabel('log of f')"
   ]
  },
  {
   "cell_type": "markdown",
   "metadata": {},
   "source": [
    "## BBPSO - Bare-bone Particle Swarm Optimization algorithm"
   ]
  },
  {
   "cell_type": "code",
   "execution_count": 16,
   "metadata": {
    "ExecuteTime": {
     "end_time": "2019-09-14T16:15:13.644962Z",
     "start_time": "2019-09-14T16:15:01.162675Z"
    }
   },
   "outputs": [
    {
     "name": "stdout",
     "output_type": "stream",
     "text": [
      "Dimensions: 30\n",
      "\tIteration 00000, f_minx = +2.01560e+01\n",
      "\tIteration 00100, f_minx = +6.05940e+00\n",
      "\tIteration 00200, f_minx = +5.06456e+00\n",
      "\tIteration 00300, f_minx = +4.12944e+00\n",
      "\tIteration 00400, f_minx = +2.74094e+00\n",
      "\tIteration 00500, f_minx = +1.27433e+00\n",
      "\tIteration 00600, f_minx = +1.01893e-01\n",
      "\tIteration 00700, f_minx = +2.59541e-03\n",
      "\tIteration 00800, f_minx = +1.05898e-04\n",
      "\tIteration 00900, f_minx = +1.52412e-06\n",
      "\tTop 5 f(x) values, after    3.13s\n",
      "\tf= [3.84706493e-08 3.75591900e-08 3.66692814e-08 3.61498960e-08\n",
      " 3.50870448e-08]\n",
      "Dimensions: 30\n",
      "\tIteration 00000, f_minx = +2.04892e+01\n",
      "\tIteration 00100, f_minx = +6.64058e+00\n",
      "\tIteration 00200, f_minx = +5.34522e+00\n",
      "\tIteration 00300, f_minx = +3.67770e+00\n",
      "\tIteration 00400, f_minx = +2.79543e+00\n",
      "\tIteration 00500, f_minx = +5.11629e-01\n",
      "\tIteration 00600, f_minx = +2.79944e-02\n",
      "\tIteration 00700, f_minx = +1.27782e-03\n",
      "\tIteration 00800, f_minx = +5.23599e-05\n",
      "\tIteration 00900, f_minx = +1.29654e-06\n",
      "\tTop 5 f(x) values, after    3.12s\n",
      "\tf= [8.10641554e-09 7.16162818e-09 6.87046198e-09 6.58792887e-09\n",
      " 6.28678309e-09]\n",
      "Dimensions: 30\n",
      "\tIteration 00000, f_minx = +2.05848e+01\n",
      "\tIteration 00100, f_minx = +5.87962e+00\n",
      "\tIteration 00200, f_minx = +5.08239e+00\n",
      "\tIteration 00300, f_minx = +3.84144e+00\n",
      "\tIteration 00400, f_minx = +2.12101e+00\n",
      "\tIteration 00500, f_minx = +2.23865e-01\n",
      "\tIteration 00600, f_minx = +3.13356e-02\n",
      "\tIteration 00700, f_minx = +2.29926e-03\n",
      "\tIteration 00800, f_minx = +6.34921e-05\n",
      "\tIteration 00900, f_minx = +5.90517e-07\n",
      "\tTop 5 f(x) values, after    3.09s\n",
      "\tf= [7.08508852e-09 6.79276058e-09 6.31929398e-09 5.86672089e-09\n",
      " 5.41828316e-09]\n",
      "Dimensions: 30\n",
      "\tIteration 00000, f_minx = +2.02572e+01\n",
      "\tIteration 00100, f_minx = +6.24968e+00\n",
      "\tIteration 00200, f_minx = +4.76642e+00\n",
      "\tIteration 00300, f_minx = +3.36934e+00\n",
      "\tIteration 00400, f_minx = +2.63241e+00\n",
      "\tIteration 00500, f_minx = +9.26747e-01\n",
      "\tIteration 00600, f_minx = +8.43598e-02\n",
      "\tIteration 00700, f_minx = +3.75813e-03\n",
      "\tIteration 00800, f_minx = +1.52836e-04\n",
      "\tIteration 00900, f_minx = +2.36022e-06\n",
      "\tTop 5 f(x) values, after    3.12s\n",
      "\tf= [1.75182895e-08 1.67108571e-08 1.59374918e-08 1.48887236e-08\n",
      " 1.34871603e-08]\n"
     ]
    }
   ],
   "source": [
    "results = []\n",
    "_dim = 30\n",
    "\n",
    "for seed in range(1, 5):\n",
    "    params = {\n",
    "        'seed': seed,\n",
    "        'dimension': _dim,\n",
    "        'max_iterations': 1000,\n",
    "        'population': 100,\n",
    "        'upper': [30],\n",
    "        'lower': [-30],\n",
    "    }\n",
    "    print(f'Dimensions: {_dim}')\n",
    "    tmp_result = bb_pso_optimizer(ackley_function, params)\n",
    "    results.append(tmp_result.copy())\n",
    "    print(f\"\\tTop 5 f(x) values, after {tmp_result['time_elapsed']:7.2f}s\")\n",
    "    print('\\tf=', tmp_result['metrics']['scores'][-5:])\n"
   ]
  },
  {
   "cell_type": "markdown",
   "metadata": {},
   "source": [
    "# ES - Evolutionary Strategy algorithm"
   ]
  },
  {
   "cell_type": "code",
   "execution_count": 17,
   "metadata": {
    "ExecuteTime": {
     "end_time": "2019-09-14T16:15:13.653333Z",
     "start_time": "2019-09-14T16:15:13.646060Z"
    }
   },
   "outputs": [
    {
     "data": {
      "text/plain": [
       "0"
      ]
     },
     "execution_count": 17,
     "metadata": {},
     "output_type": "execute_result"
    }
   ],
   "source": [
    "0"
   ]
  },
  {
   "cell_type": "markdown",
   "metadata": {},
   "source": [
    "# CMA-ES - Covariance Matrix Evolutionary Strategy algorithm"
   ]
  },
  {
   "cell_type": "code",
   "execution_count": null,
   "metadata": {
    "ExecuteTime": {
     "end_time": "2019-09-14T16:15:13.718456Z",
     "start_time": "2019-09-14T16:15:13.654386Z"
    }
   },
   "outputs": [],
   "source": []
  },
  {
   "cell_type": "markdown",
   "metadata": {},
   "source": [
    "# Direct comparison\n",
    "\n",
    "Compare results for each benchmark function."
   ]
  },
  {
   "cell_type": "code",
   "execution_count": 20,
   "metadata": {
    "ExecuteTime": {
     "end_time": "2019-09-14T16:16:03.471714Z",
     "start_time": "2019-09-14T16:16:03.451445Z"
    }
   },
   "outputs": [
    {
     "name": "stdout",
     "output_type": "stream",
     "text": [
      "                                   best               n_func_eval      time\n",
      "                                   amax          amin        amax      mean\n",
      "benchmark       algorithm                                                  \n",
      "ackley_function GA         3.180905e-04  3.180905e-04       99900  5.525611\n",
      "                PSO        2.424209e-08  2.424209e-08      100000  3.021803\n",
      "sphere_function GA         1.893148e-07  1.893148e-07       99900  4.639950\n",
      "                PSO        1.833885e-08  1.833885e-08      100000  3.042623\n"
     ]
    }
   ],
   "source": [
    "pt = pd.pivot_table(\n",
    "    compare_data,\n",
    "    #values=['best', 'worst', 'time', 'n_func_eval'],\n",
    "    values=['best', 'time', 'n_func_eval'],\n",
    "    index=['benchmark', 'algorithm'],\n",
    "    aggfunc={\n",
    "        'best': [np.amin, np.amax],\n",
    "        #'worst': np.amax,\n",
    "        'time': np.mean,\n",
    "        'n_func_eval': np.amax\n",
    "    }\n",
    ")\n",
    "print(pt)"
   ]
  },
  {
   "cell_type": "code",
   "execution_count": 21,
   "metadata": {
    "ExecuteTime": {
     "end_time": "2019-09-14T16:17:41.376581Z",
     "start_time": "2019-09-14T16:17:41.369480Z"
    }
   },
   "outputs": [
    {
     "name": "stdout",
     "output_type": "stream",
     "text": [
      "<class 'pandas.core.frame.DataFrame'>\n"
     ]
    }
   ],
   "source": [
    "print(type(pt))"
   ]
  },
  {
   "cell_type": "code",
   "execution_count": 23,
   "metadata": {
    "ExecuteTime": {
     "end_time": "2019-09-14T16:22:47.498476Z",
     "start_time": "2019-09-14T16:22:47.491281Z"
    }
   },
   "outputs": [
    {
     "name": "stdout",
     "output_type": "stream",
     "text": [
      "MultiIndex(levels=[['best', 'n_func_eval', 'time'], ['amax', 'amin', 'mean']],\n",
      "           labels=[[0, 0, 1, 2], [0, 1, 0, 2]])\n"
     ]
    }
   ],
   "source": [
    "print(pt.columns)"
   ]
  },
  {
   "cell_type": "code",
   "execution_count": 26,
   "metadata": {
    "ExecuteTime": {
     "end_time": "2019-09-14T16:26:34.037291Z",
     "start_time": "2019-09-14T16:26:34.025519Z"
    }
   },
   "outputs": [
    {
     "ename": "AttributeError",
     "evalue": "'MultiIndex' object has no attribute 'gel_loc'",
     "output_type": "error",
     "traceback": [
      "\u001b[0;31m---------------------------------------------------------------------------\u001b[0m",
      "\u001b[0;31mAttributeError\u001b[0m                            Traceback (most recent call last)",
      "\u001b[0;32m<ipython-input-26-59c137257dfd>\u001b[0m in \u001b[0;36m<module>\u001b[0;34m\u001b[0m\n\u001b[1;32m      9\u001b[0m \u001b[0;34m\u001b[0m\u001b[0m\n\u001b[1;32m     10\u001b[0m \u001b[0;32mfor\u001b[0m \u001b[0mi\u001b[0m \u001b[0;32min\u001b[0m \u001b[0mrange\u001b[0m\u001b[0;34m(\u001b[0m\u001b[0mpt\u001b[0m\u001b[0;34m.\u001b[0m\u001b[0mshape\u001b[0m\u001b[0;34m[\u001b[0m\u001b[0;36m0\u001b[0m\u001b[0;34m]\u001b[0m\u001b[0;34m)\u001b[0m\u001b[0;34m:\u001b[0m\u001b[0;34m\u001b[0m\u001b[0;34m\u001b[0m\u001b[0m\n\u001b[0;32m---> 11\u001b[0;31m     \u001b[0mf\u001b[0m \u001b[0;34m=\u001b[0m \u001b[0mpt\u001b[0m\u001b[0;34m.\u001b[0m\u001b[0miloc\u001b[0m\u001b[0;34m[\u001b[0m\u001b[0mi\u001b[0m\u001b[0;34m,\u001b[0m \u001b[0mpt\u001b[0m\u001b[0;34m.\u001b[0m\u001b[0mcolumns\u001b[0m\u001b[0;34m.\u001b[0m\u001b[0mgel_loc\u001b[0m\u001b[0;34m(\u001b[0m\u001b[0;34m'benchmark'\u001b[0m\u001b[0;34m)\u001b[0m\u001b[0;34m]\u001b[0m\u001b[0;34m\u001b[0m\u001b[0;34m\u001b[0m\u001b[0m\n\u001b[0m\u001b[1;32m     12\u001b[0m     \u001b[0ma\u001b[0m \u001b[0;34m=\u001b[0m \u001b[0mpt\u001b[0m\u001b[0;34m.\u001b[0m\u001b[0miloc\u001b[0m\u001b[0;34m[\u001b[0m\u001b[0mi\u001b[0m\u001b[0;34m,\u001b[0m \u001b[0mpt\u001b[0m\u001b[0;34m.\u001b[0m\u001b[0mgel_loc\u001b[0m\u001b[0;34m(\u001b[0m\u001b[0;34m'algorithm'\u001b[0m\u001b[0;34m)\u001b[0m\u001b[0;34m]\u001b[0m\u001b[0;34m\u001b[0m\u001b[0;34m\u001b[0m\u001b[0m\n\u001b[1;32m     13\u001b[0m     plot(pt.iloc[i, pt.gel_loc('time')],\n",
      "\u001b[0;31mAttributeError\u001b[0m: 'MultiIndex' object has no attribute 'gel_loc'"
     ]
    }
   ],
   "source": [
    "colors = {\n",
    "    'ackley_function': 'b',\n",
    "    'sphere_function': 'r'\n",
    "}\n",
    "markers = {\n",
    "    'GA': 's',\n",
    "    'PSO': 'o'\n",
    "}\n",
    "\n",
    "for i in range(pt.shape[0]):\n",
    "    f = pt.iloc[i, pt.columns.gel_loc('benchmark')]\n",
    "    a = pt.iloc[i, pt.gel_loc('algorithm')]\n",
    "    plot(pt.iloc[i, pt.gel_loc('time')],\n",
    "         pt.iloc[i, pt.gel_loc('amax')],\n",
    "         color=colors[f], marker=markers[a], linestyle='none', markersize=12)"
   ]
  },
  {
   "cell_type": "code",
   "execution_count": null,
   "metadata": {},
   "outputs": [],
   "source": []
  }
 ],
 "metadata": {
  "kernelspec": {
   "display_name": "Python 3",
   "language": "python",
   "name": "python3"
  },
  "language_info": {
   "codemirror_mode": {
    "name": "ipython",
    "version": 3
   },
   "file_extension": ".py",
   "mimetype": "text/x-python",
   "name": "python",
   "nbconvert_exporter": "python",
   "pygments_lexer": "ipython3",
   "version": "3.7.3"
  },
  "varInspector": {
   "cols": {
    "lenName": 16,
    "lenType": 16,
    "lenVar": 40
   },
   "kernels_config": {
    "python": {
     "delete_cmd_postfix": "",
     "delete_cmd_prefix": "del ",
     "library": "var_list.py",
     "varRefreshCmd": "print(var_dic_list())"
    },
    "r": {
     "delete_cmd_postfix": ") ",
     "delete_cmd_prefix": "rm(",
     "library": "var_list.r",
     "varRefreshCmd": "cat(var_dic_list()) "
    }
   },
   "types_to_exclude": [
    "module",
    "function",
    "builtin_function_or_method",
    "instance",
    "_Feature"
   ],
   "window_display": false
  }
 },
 "nbformat": 4,
 "nbformat_minor": 4
}
