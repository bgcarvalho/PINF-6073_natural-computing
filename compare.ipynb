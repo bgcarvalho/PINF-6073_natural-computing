{
 "cells": [
  {
   "cell_type": "markdown",
   "metadata": {},
   "source": [
    "# Natural Computing\n",
    "\n",
    "This is an exercise from 2019/2 period of the course \"Natural Computing\" at UFES, in Vitória/ES - Brazil.\n",
    "\n",
    "Task: Compare different nature-inspired optimization algorithms.\n",
    "\n",
    "Master's degree candidate: Bruno Carvalho\n",
    "\n",
    "## Algorithms\n",
    "\n",
    "- GA - Genetic Algorithms\n",
    "- PSO - Particle Swarm Optimization\n",
    "- ES - Evolution Strategy\n",
    "\n",
    "\n",
    "## References\n",
    "\n",
    "."
   ]
  },
  {
   "cell_type": "code",
   "execution_count": 1,
   "metadata": {
    "ExecuteTime": {
     "end_time": "2019-09-14T19:07:15.537896Z",
     "start_time": "2019-09-14T19:07:15.210094Z"
    }
   },
   "outputs": [],
   "source": [
    "import os\n",
    "import sys\n",
    "import time\n",
    "import itertools\n",
    "import random\n",
    "import platform\n",
    "import subprocess\n",
    "import re\n",
    "\n",
    "import psutil\n",
    "import numpy as np\n",
    "import pandas as pd\n",
    "from tqdm import tqdm\n",
    "import matplotlib as mpl\n",
    "from matplotlib import pyplot as plt\n",
    "\n",
    "from benchmarks import *\n",
    "\n",
    "%matplotlib inline\n",
    "#%matplotlib notebook\n",
    "%config InlineBackend.figure_format = 'png'\n"
   ]
  },
  {
   "cell_type": "code",
   "execution_count": 2,
   "metadata": {
    "ExecuteTime": {
     "end_time": "2019-09-14T19:07:15.551700Z",
     "start_time": "2019-09-14T19:07:15.539008Z"
    }
   },
   "outputs": [],
   "source": [
    "%load_ext memory_profiler\n",
    "%load_ext line_profiler\n",
    "%load_ext autoreload\n",
    "%autoreload 2"
   ]
  },
  {
   "cell_type": "markdown",
   "metadata": {},
   "source": [
    "# System"
   ]
  },
  {
   "cell_type": "code",
   "execution_count": 3,
   "metadata": {
    "ExecuteTime": {
     "end_time": "2019-09-14T19:07:15.561068Z",
     "start_time": "2019-09-14T19:07:15.552915Z"
    }
   },
   "outputs": [],
   "source": [
    "def get_processor_name():\n",
    "    if platform.system() == \"Windows\":\n",
    "        return platform.processor()\n",
    "    elif platform.system() == \"Darwin\":\n",
    "        os.environ['PATH'] = os.environ['PATH'] + os.pathsep + '/usr/sbin'\n",
    "        command =\"sysctl -n machdep.cpu.brand_string\"\n",
    "        return subprocess.check_output(command).strip()\n",
    "    elif platform.system() == \"Linux\":\n",
    "        command = \"cat /proc/cpuinfo\"\n",
    "        all_info = subprocess.check_output(command, shell=True).decode('utf-8').strip()\n",
    "        for line in all_info.split(\"\\n\"):\n",
    "            if \"model name\" in line:\n",
    "                return re.sub( \".*model name.*:\", \"\", line,1)\n",
    "    return \"\""
   ]
  },
  {
   "cell_type": "code",
   "execution_count": 4,
   "metadata": {
    "ExecuteTime": {
     "end_time": "2019-09-14T19:07:15.598657Z",
     "start_time": "2019-09-14T19:07:15.562072Z"
    }
   },
   "outputs": [
    {
     "name": "stdout",
     "output_type": "stream",
     "text": [
      "OS posix\n",
      "system Linux 5.0.0-27-generic\n",
      "cpu x86_64\n",
      "processors 6  Intel(R) Core(TM) i5-9600K CPU @ 3.70GHz\n",
      "memory 31.3 GB\n",
      "python 3.6.8\n",
      "numpy 1.17.2\n",
      "pandas 0.25.1\n",
      "matplotlib 3.1.1\n"
     ]
    }
   ],
   "source": [
    "mem = psutil.virtual_memory()\n",
    "swap = psutil.swap_memory()\n",
    "print('OS', os.name)\n",
    "print('system', platform.system(), platform.release())\n",
    "print('cpu', platform.processor())\n",
    "print('processors', psutil.cpu_count(), get_processor_name())\n",
    "print('memory', f'{(mem.total / 1024 / 1024 / 1024):4.1f} GB')\n",
    "print('python', platform.python_version())\n",
    "print('numpy', np.__version__)\n",
    "print('pandas', pd.__version__)\n",
    "print('matplotlib', mpl.__version__)"
   ]
  },
  {
   "cell_type": "markdown",
   "metadata": {},
   "source": [
    "# Default parameters"
   ]
  },
  {
   "cell_type": "code",
   "execution_count": 5,
   "metadata": {
    "ExecuteTime": {
     "end_time": "2019-09-14T19:07:15.613777Z",
     "start_time": "2019-09-14T19:07:15.599742Z"
    }
   },
   "outputs": [],
   "source": [
    "#benchmarks = ['ackley_function', 'sphere_function', 'rastrigin_function', 'rosenbrock_function', 'schwefel']\n",
    "benchmarks = ['ackley_function', 'sphere_function']\n",
    "\n",
    "py_globals = globals()\n",
    "\n",
    "execution_dict = {\n",
    "    'time_elapsed': 0,\n",
    "    'algorithm': '',\n",
    "    'metrics': {\n",
    "        'best': [],\n",
    "        'all_best': 0.0,\n",
    "        'all_worst': 0.0,\n",
    "        'time': [],\n",
    "        'objective': [],\n",
    "        'scores': [],\n",
    "    },\n",
    "    'n_eval': 0,\n",
    "    'max_eval': 0,\n",
    "}\n",
    "\n",
    "compare_cols = [\n",
    "    'algorithm',\n",
    "    'benchmark',\n",
    "    'seed',\n",
    "    'population',\n",
    "    'dimension',\n",
    "    'max_iter',\n",
    "    'upper_bound',\n",
    "    'lower_bound',\n",
    "    'best',\n",
    "    'worst',\n",
    "    'mean',\n",
    "    'time',\n",
    "    'n_func_eval'\n",
    "]\n",
    "compare_data = pd.DataFrame(columns=compare_cols)"
   ]
  },
  {
   "cell_type": "code",
   "execution_count": 6,
   "metadata": {
    "ExecuteTime": {
     "end_time": "2019-09-14T19:07:15.663103Z",
     "start_time": "2019-09-14T19:07:15.614859Z"
    },
    "code_folding": [
     0,
     105,
     124,
     130,
     136
    ]
   },
   "outputs": [],
   "source": [
    "def ga_optimizer(obj_func, parameters):\n",
    "    \"\"\"\n",
    "\n",
    "    Inspired by:\n",
    "    https://github.com/7ossam81/EvoloPy/blob/master/GA.py\n",
    "\n",
    "    \"\"\"\n",
    "    lower = parameters.get('lower', [-1.0])\n",
    "    upper = parameters.get('upper', [1.0])\n",
    "    dimension = parameters.get('dimension', 30)\n",
    "    seed = parameters.get('seed', 1)\n",
    "    max_iterations = parameters.get('max_iterations', 100)\n",
    "    population = parameters.get('population', 100)\n",
    "    crossover_rate = parameters.get('crossover_rate', 1.0)\n",
    "    mutation_rate = parameters.get('mutation_rate', 0.01)\n",
    "    best_to_keep = parameters.get('best_to_keep', 2)\n",
    "    crossover_alpha = parameters.get('crossover_alpha', 0.25)\n",
    "    max_eval = parameters.get('max_eval', 0)\n",
    "    verbose = parameters.get('verbose', 0)\n",
    "    \n",
    "    np.random.seed(seed)\n",
    "    \n",
    "    # Input Objective function has variable dimensions\n",
    "    # consider equi-distance \"square\"\n",
    "    if not isinstance(lower, list):\n",
    "        lower = [lower]\n",
    "    if not isinstance(upper, list):\n",
    "        upper = [upper]\n",
    "\n",
    "    lower = lower * dimension\n",
    "    upper = upper * dimension\n",
    "\n",
    "    # track execution\n",
    "    exec_info = execution_dict.copy()\n",
    "    n_eval = 0\n",
    "    \n",
    "    # allocate memory\n",
    "    exec_info['metrics']['time'] = np.zeros([max_iterations], dtype='float')\n",
    "    exec_info['metrics']['best'] = np.zeros([max_iterations, dimension], dtype='float')\n",
    "    exec_info['metrics']['objective'] = np.zeros([max_iterations], dtype='float')\n",
    "    exec_info['metrics']['scores'] = np.full([max_iterations, population], np.inf, dtype='float')\n",
    "\n",
    "    begin = time.time()\n",
    "\n",
    "    space = np.random.uniform(0, 1, [population, dimension])\n",
    "    scores = np.random.uniform(0.0, 1.0, population)\n",
    "    \n",
    "    def crossover(space, scores):\n",
    "        #population, dimension = space.shape\n",
    "        search_space = np.zeros_like(space) + np.random.uniform(0, 1)\n",
    "        #search_space = np.zeros_like(space)\n",
    "        search_space[0:best_to_keep, :] = space[0:best_to_keep, :]\n",
    "        \n",
    "        # renew BETA every generation\n",
    "        beta = np.random.uniform(-crossover_alpha, 1 + crossover_alpha)\n",
    "        \n",
    "        for cross  in range(best_to_keep + 1, population - 1, 2):\n",
    "\n",
    "            # using SET parents will always be different\n",
    "            #parents = set()\n",
    "            \n",
    "            # using LIST parents can repeat!\n",
    "            parents = []\n",
    "            \n",
    "            parent1_idx = np.random.randint(0, population)\n",
    "            parent2_idx = np.random.randint(0, population)\n",
    "            \n",
    "            parents.append(parent1_idx)\n",
    "            parents.append(parent2_idx)\n",
    "\n",
    "            \"\"\"\n",
    "            while len(parents) < 2:\n",
    "                parent1_idx = np.random.randint(0, population)\n",
    "                parent2_idx = np.random.randint(0, population)\n",
    "            \n",
    "                if scores[parent1_idx] > scores[parent2_idx]:\n",
    "                    # p1 is better then p2\n",
    "                    parents.add(parent1_idx)\n",
    "                else:\n",
    "                    parents.add(parent2_idx)               \n",
    "            \"\"\"\n",
    "            \n",
    "            lp = list(parents)\n",
    "            parent1 = space[lp[0], :]\n",
    "            parent2 = space[lp[1], :]\n",
    "            \n",
    "            # ARITHMETIC CROSSOVER\n",
    "            child1 = parent1 * beta + (1.0 - beta) * parent2\n",
    "            child2 = parent2 * beta + (1.0 - beta) * parent1\n",
    "            \n",
    "            crossover_chance = np.random.uniform(0.0, 1.0)\n",
    "\n",
    "            if crossover_chance < crossover_rate:\n",
    "                search_space[cross, :] = np.copy(child1)\n",
    "                search_space[cross + 1, :] = np.copy(child2)  \n",
    "            else:\n",
    "                search_space[cross, :] = np.copy(parent1)\n",
    "                search_space[cross + 1, :] = np.copy(parent2)\n",
    "            \n",
    "            for j in range(dimension):\n",
    "                search_space[cross, j] = np.clip(search_space[cross, j], lower[j], upper[j])\n",
    "                search_space[cross + 1, j] = np.clip(search_space[cross + 1, j], lower[j], upper[j])\n",
    "                \n",
    "        return search_space\n",
    "    \n",
    "    def mutation(space, gen):\n",
    "        n_mutate = np.int(population * mutation_rate)\n",
    "        for m in range(n_mutate):\n",
    "            # keep best => do not mutate\n",
    "            rand_individual = np.random.randint(best_to_keep + 1, population)\n",
    "            #rand_individual = np.random.randint(0, population)\n",
    "            # decrease stdev with generations\n",
    "            #stdev = 5.0 / np.sqrt(gen + 1)\n",
    "            stdev = 2\n",
    "            new_value = np.zeros(dimension)\n",
    "            for j in range(dimension):\n",
    "                new_value[j] = np.random.normal(space[rand_individual, j], stdev)\n",
    "                new_value[j] = np.clip(new_value[j], lower[j], upper[j])\n",
    "\n",
    "            # store\n",
    "            space[rand_individual, :] = new_value\n",
    "\n",
    "        return space\n",
    "    \n",
    "    def sort_iter(_space, _scores):\n",
    "        idx = scores.argsort()\n",
    "        _space = _space[idx]\n",
    "        _scores = _scores[idx]\n",
    "        return _space, _scores\n",
    "    \n",
    "    def eval_obj(func, _space):\n",
    "        _scores = np.full(population, np.inf)\n",
    "        for p in range(population):\n",
    "            _scores[p] = func(_space[p, :])\n",
    "        return _scores\n",
    "\n",
    "    for i in range(dimension):\n",
    "        # init search space inside bounds\n",
    "        space[:, i] = np.random.uniform(0, 1, population) * (upper[i] - lower[i]) + lower[i]\n",
    "    \n",
    "    for _iter in range(0, max_iterations):\n",
    "        \n",
    "        # crossover\n",
    "        space = crossover(space, scores)\n",
    "        \n",
    "        # mutation\n",
    "        space = mutation(space, _iter)\n",
    "        \n",
    "        # evaluate objective\n",
    "        scores = eval_obj(obj_func, space)\n",
    "        n_eval += population\n",
    "        \n",
    "        # remove duplicates\n",
    "        \n",
    "        # sort\n",
    "        space, scores = sort_iter(space, scores)\n",
    "        \n",
    "        # save\n",
    "        exec_info['metrics']['scores'][_iter] = scores\n",
    "        exec_info['metrics']['time'][_iter] = time.time() - begin\n",
    "        exec_info['metrics']['best'][_iter] = space[0, :]\n",
    "        \n",
    "        if verbose and _iter % np.int((max_iterations + 1) / 5) == 0:\n",
    "            print(f'\\t\\tGen {_iter:06d}, '\n",
    "                  f'f_min = {scores[0]:+13.5e}, '\n",
    "            )\n",
    "\n",
    "        #if max_eval > 0 and _iter > max_eval:\n",
    "        #    break\n",
    "\n",
    "    exec_info['algorithm'] = 'GA - Genetic Algorithm'\n",
    "    exec_info['time_elapsed'] = time.time() - begin\n",
    "    exec_info['n_eval'] = n_eval\n",
    "    \n",
    "    return exec_info"
   ]
  },
  {
   "cell_type": "code",
   "execution_count": 7,
   "metadata": {
    "ExecuteTime": {
     "end_time": "2019-09-14T19:07:15.679194Z",
     "start_time": "2019-09-14T19:07:15.664097Z"
    },
    "code_folding": [
     0
    ]
   },
   "outputs": [],
   "source": [
    "def pso_optimizer(obj_func, parameters):\n",
    "    \"\"\"\n",
    "\n",
    "    Inspired by:\n",
    "    https://github.com/7ossam81/EvoloPy/blob/master/PSO.py\n",
    "\n",
    "    \"\"\"\n",
    "    lower = parameters.get('lower', [-1.0])\n",
    "    upper = parameters.get('upper', [1.0])\n",
    "    dimension = parameters.get('dimension', 30)\n",
    "    population = parameters.get('population', 100)\n",
    "    seed = parameters.get('seed', 1)\n",
    "    max_iterations = parameters.get('max_iterations', 100)\n",
    "    velocity_max = np.full(dimension, parameters.get('velocity_max', 5.0))\n",
    "    \n",
    "    w_max = parameters.get('w_max', 0.9)\n",
    "    w_min = parameters.get('w_min', 0.2)\n",
    "\n",
    "    if not isinstance(lower, list):\n",
    "        lower = [lower]\n",
    "    if not isinstance(upper, list):\n",
    "        upper = [upper]\n",
    "\n",
    "    lower = lower * dimension\n",
    "    upper = upper * dimension\n",
    "\n",
    "    # track execution\n",
    "    exec_info = execution_dict.copy()\n",
    "    exec_info['metrics']['scores'] = np.zeros(max_iterations, dtype='float')\n",
    "\n",
    "    # inner variables\n",
    "    \n",
    "    c1 = 2.0\n",
    "    c2 = 2.0\n",
    "    \n",
    "    velocity = np.full([population, dimension], 0.0)\n",
    "    \n",
    "    p_best_score = np.full(population, np.inf)\n",
    "    p_best = np.full([population, dimension], 0.0)\n",
    "    \n",
    "    g_best_score = np.inf\n",
    "    g_best = np.full(population, 0.0)\n",
    "    \n",
    "    space = np.full([population, dimension], 0.0)\n",
    "    \n",
    "    begin = time.time()\n",
    "\n",
    "    # init fill\n",
    "    for _d in range(dimension):\n",
    "        rand_dim = np.random.uniform(0, 1, population)\n",
    "        space[:, _d] = rand_dim * (upper[_d] - lower[_d]) + lower[_d]\n",
    "    \n",
    "    n_eval = 0\n",
    "    for _iter in range(max_iterations):\n",
    "        for _p in range(population):\n",
    "            # keep inside bounds / search limits\n",
    "            space[_p, :] = np.clip(space[_p, :], lower, upper)\n",
    "            \n",
    "            # eval\n",
    "            score = obj_func(space[_p, :])\n",
    "            n_eval += 1\n",
    "            \n",
    "            # check\n",
    "            if p_best_score[_p] > score:\n",
    "                p_best_score[_p] = score\n",
    "                p_best[_p, :] = np.copy(space[_p, :])\n",
    "            \n",
    "            if g_best_score > score:\n",
    "                g_best_score = score\n",
    "                g_best = np.copy(space[_p, :])\n",
    "        \n",
    "        w = w_max - _iter * ((w_max - w_min) / max_iterations)\n",
    "        \n",
    "        for _p in range(population):\n",
    "            r1 = np.random.random([dimension])\n",
    "            r2 = np.random.random([dimension])\n",
    "            \n",
    "            v = velocity[_p, :]\n",
    "            \n",
    "            a1 = c1 * r1 * (p_best[_p, :] - space[_p, :])\n",
    "            a2 = c2 * r2 * (g_best - space[_p, :])\n",
    "            \n",
    "            velocity[_p, :] = w * v + a1 + a2\n",
    "            \n",
    "            velocity[_p, :] = np.fmax(velocity[_p, :], -velocity_max)  # negative!!\n",
    "            velocity[_p, :] = np.fmin(velocity[_p, :],  velocity_max)\n",
    "            \n",
    "            # UPDATE space\n",
    "            space[_p, :] += velocity[_p, :]\n",
    "\n",
    "        # save data to analyse and plot later\n",
    "        exec_info['metrics']['scores'][_iter] = g_best_score\n",
    "        \n",
    "        # some logging\n",
    "        if _iter % np.int((max_iterations + 1) / 5.0) == 0:\n",
    "            print(f'\\t\\tIteration {_iter:05d}, f_minx = {g_best_score:+12.5e}')\n",
    "\n",
    "    # finished\n",
    "    exec_info['algorithm'] = 'PSO - Particle Swarm Optimization'\n",
    "    exec_info['time_elapsed'] = time.time() - begin\n",
    "    exec_info['n_eval'] = n_eval\n",
    "\n",
    "    return exec_info"
   ]
  },
  {
   "cell_type": "code",
   "execution_count": 42,
   "metadata": {
    "ExecuteTime": {
     "end_time": "2019-09-14T19:21:32.577126Z",
     "start_time": "2019-09-14T19:21:32.564356Z"
    },
    "code_folding": []
   },
   "outputs": [],
   "source": [
    "def bb_pso_optimizer(obj_func, parameters):\n",
    "    \"\"\"\n",
    "\n",
    "\n",
    "    \"\"\"\n",
    "    lower = parameters.get('lower', [-1.0])\n",
    "    upper = parameters.get('upper', [1.0])\n",
    "    dimension = parameters.get('dimension', 30)\n",
    "    population = parameters.get('population', 100)\n",
    "    seed = parameters.get('seed', 1)\n",
    "    max_iterations = parameters.get('max_iterations', 100)\n",
    "    verbose = parameters.get('verbose', 0)\n",
    "\n",
    "    np.random.seed(seed)\n",
    "\n",
    "    if not isinstance(lower, list):\n",
    "        lower = [lower]\n",
    "    if not isinstance(upper, list):\n",
    "        upper = [upper]\n",
    "\n",
    "    lower = lower * dimension\n",
    "    upper = upper * dimension\n",
    "\n",
    "    # track execution\n",
    "    exec_info = execution_dict.copy()\n",
    "    exec_info['metrics']['scores'] = np.zeros(max_iterations, dtype='float')\n",
    "\n",
    "    p_best_score = np.full(population, np.inf)\n",
    "    p_best = np.full([population, dimension], 0.0)\n",
    "\n",
    "    g_best_score = np.inf\n",
    "    g_best = np.full(population, 0.0)\n",
    "\n",
    "    begin = time.time()\n",
    "\n",
    "    # init fill\n",
    "    for _d in range(dimension):\n",
    "        rand_dim = np.random.uniform(0, 1, population)\n",
    "        p_best[:, _d] = rand_dim * (upper[_d] - lower[_d]) + lower[_d]\n",
    "\n",
    "    n_eval = 0\n",
    "    for _iter in range(max_iterations):\n",
    "        for _p in range(population):\n",
    "\n",
    "            # eval\n",
    "            score = obj_func(p_best[_p, :])\n",
    "            n_eval += 1\n",
    "\n",
    "            # check\n",
    "            if score < p_best_score[_p]:\n",
    "                p_best_score[_p] = score\n",
    "\n",
    "            if g_best_score > score:\n",
    "                g_best_score = score\n",
    "                g_best = np.copy(p_best[_p, :])\n",
    "\n",
    "            # update positions\n",
    "            mean = 0.5 * (g_best + p_best[_p, :])\n",
    "            std = np.fabs(g_best - p_best[_p, :])\n",
    "            tmp = np.random.normal(mean, std, dimension)\n",
    "            p_best[_p, :] = np.clip(tmp, lower, upper)\n",
    "\n",
    "        # save data to analyse and plot later\n",
    "        exec_info['metrics']['scores'][_iter] = g_best_score\n",
    "\n",
    "        # some logging\n",
    "        if verbose and _iter % np.int((max_iterations + 1) / 5.0) == 0:\n",
    "            print(f'\\t\\tIteration {_iter:05d}, f_minx = {g_best_score:+12.5e}')\n",
    "\n",
    "    # finished\n",
    "    exec_info['algorithm'] = 'BBPSO'\n",
    "    exec_info['time_elapsed'] = time.time() - begin\n",
    "    exec_info['n_eval'] = n_eval\n",
    "\n",
    "    return exec_info"
   ]
  },
  {
   "cell_type": "code",
   "execution_count": 9,
   "metadata": {
    "ExecuteTime": {
     "end_time": "2019-09-14T19:07:15.705552Z",
     "start_time": "2019-09-14T19:07:15.697155Z"
    },
    "code_folding": []
   },
   "outputs": [],
   "source": [
    "def es_optimizer(obj_func, parameters):\n",
    "    \"\"\"\n",
    "    \n",
    "    Inspired by:\n",
    "    \n",
    "    \"\"\"\n",
    "    seed = parameters.get('seed', 1)\n",
    "    lower = parameters.get('lower', [-1.0])\n",
    "    upper = parameters.get('upper', [1.0])\n",
    "    dimension = parameters.get('dimension', 30)\n",
    "    population = parameters.get('population', 100)\n",
    "    max_iterations = parameters.get('max_iterations', 100)\n",
    "    crossover_rate = parameters.get('crossover_rate', 1.0)\n",
    "    mutation_rate = parameters.get('mutation_rate', 0.01)\n",
    "    \n",
    "    np.random.seed(seed)\n",
    "    begin = time.time()\n",
    "    n_eval = 0\n",
    "    exec_info['algorithm'] = 'ES'\n",
    "    exec_info['time_elapsed'] = time.time() - begin\n",
    "    exec_info['n_eval'] = n_eval"
   ]
  },
  {
   "cell_type": "code",
   "execution_count": 10,
   "metadata": {
    "ExecuteTime": {
     "end_time": "2019-09-14T19:07:15.714742Z",
     "start_time": "2019-09-14T19:07:15.706716Z"
    },
    "code_folding": []
   },
   "outputs": [],
   "source": [
    "def cma_es_optimizer(obj_func, parameters):\n",
    "    \"\"\"\n",
    "    \n",
    "    Inspired by:\n",
    "    https://github.com/jenkspt/CMA-ES\n",
    "\n",
    "    \"\"\"\n",
    "    seed = parameters.get('seed', 1)\n",
    "    lower = parameters.get('lower', [-1.0])\n",
    "    upper = parameters.get('upper', [1.0])\n",
    "    dimension = parameters.get('dimension', 30)\n",
    "    population = parameters.get('population', 100)\n",
    "    max_iterations = parameters.get('max_iterations', 100)\n",
    "    crossover_rate = parameters.get('crossover_rate', 1.0)\n",
    "    mutation_rate = parameters.get('mutation_rate', 0.01)\n",
    "\n",
    "    \n",
    "    np.random.seed(seed)\n",
    "    begin = time.time()\n",
    "    n_eval = 0\n",
    "    exec_info['algorithm'] = 'CMA-ES'\n",
    "    exec_info['time_elapsed'] = time.time() - begin\n",
    "    exec_info['n_eval'] = n_eval"
   ]
  },
  {
   "cell_type": "markdown",
   "metadata": {},
   "source": [
    "# GA - Genetic Algorithm"
   ]
  },
  {
   "cell_type": "code",
   "execution_count": 11,
   "metadata": {
    "ExecuteTime": {
     "end_time": "2019-09-14T19:07:15.722954Z",
     "start_time": "2019-09-14T19:07:15.715728Z"
    }
   },
   "outputs": [],
   "source": [
    "params = {\n",
    "    'seed': 1,\n",
    "    'dimension': 30,\n",
    "    'max_iterations': 100,\n",
    "    'population': 100,\n",
    "    'upper': [30],\n",
    "    'lower': [-30],\n",
    "}"
   ]
  },
  {
   "cell_type": "code",
   "execution_count": 12,
   "metadata": {
    "ExecuteTime": {
     "end_time": "2019-09-14T19:07:21.852692Z",
     "start_time": "2019-09-14T19:07:15.724092Z"
    }
   },
   "outputs": [
    {
     "name": "stdout",
     "output_type": "stream",
     "text": [
      "\n",
      "*** Profile printout saved to text file 'ga_lprof.txt'. \n"
     ]
    }
   ],
   "source": [
    "%lprun -T ga_lprof.txt -f ga_optimizer ga_optimizer(py_globals['ackley_function'], params)"
   ]
  },
  {
   "cell_type": "code",
   "execution_count": 13,
   "metadata": {
    "ExecuteTime": {
     "end_time": "2019-09-14T19:08:32.051160Z",
     "start_time": "2019-09-14T19:07:21.853718Z"
    },
    "code_folding": []
   },
   "outputs": [
    {
     "name": "stdout",
     "output_type": "stream",
     "text": [
      "Benchmark ackley_function\n",
      "\tDimensions: 30, Seed=1\n",
      "\t\tGen 000000, f_min =  +3.98924e+00, \n",
      "\t\tGen 000200, f_min =  +6.36001e-03, \n",
      "\t\tGen 000400, f_min =  +3.18091e-04, \n",
      "\t\tGen 000600, f_min =  +3.18091e-04, \n",
      "\t\tGen 000800, f_min =  +3.18091e-04, \n",
      "\t\tTop 3 f(x) values, after   35.31s\n",
      "\t\tf= [3.18090537e-04 3.18090537e-04 1.09070522e+00]\n",
      "Benchmark sphere_function\n",
      "\tDimensions: 30, Seed=1\n",
      "\t\tGen 000000, f_min =  +2.21689e+01, \n",
      "\t\tGen 000200, f_min =  +3.92370e-04, \n",
      "\t\tGen 000400, f_min =  +1.89315e-07, \n",
      "\t\tGen 000600, f_min =  +1.89315e-07, \n",
      "\t\tGen 000800, f_min =  +1.89315e-07, \n",
      "\t\tTop 3 f(x) values, after   34.74s\n",
      "\t\tf= [1.89314808e-07 1.89314808e-07 5.16894766e-01]\n",
      "\n",
      "peak memory: 107.39 MiB, increment: 2.20 MiB\n"
     ]
    }
   ],
   "source": [
    "%%memit\n",
    "\n",
    "results = []\n",
    "_dim = 30\n",
    "\n",
    "for bmrk in benchmarks:\n",
    "    print('Benchmark', bmrk)\n",
    "    for seed in range(1, 2):\n",
    "        params = {\n",
    "            'seed': seed,\n",
    "            'dimension': _dim,\n",
    "            'max_iterations': 1000,\n",
    "            'population': 100,\n",
    "            'upper': [30],\n",
    "            'lower': [-30],\n",
    "            'verbose': 1,\n",
    "        }\n",
    "        print(f'\\tDimensions: {_dim}, Seed={seed}')\n",
    "        tmp_result = ga_optimizer(py_globals[bmrk], params)\n",
    "        results.append(tmp_result.copy())\n",
    "        print(f\"\\t\\tTop 3 f(x) values, after {tmp_result['time_elapsed']:7.2f}s\")\n",
    "        print('\\t\\tf=', tmp_result['metrics']['scores'][-1][:3])\n",
    "        #print('\\tx=')\n",
    "        #for xv in tmp_result['metrics']['best'][-1]:\n",
    "        #    print(f'\\t\\t {xv:+12.7e}')\n",
    "        #    pass\n",
    "\n",
    "        compare_data = compare_data.append(\n",
    "            pd.DataFrame(data=[[\n",
    "                'GA',\n",
    "                bmrk,\n",
    "                seed,\n",
    "                params['population'],\n",
    "                _dim,\n",
    "                params['max_iterations'],\n",
    "                params['upper'][0],\n",
    "                params['lower'][0],\n",
    "                np.amin(tmp_result['metrics']['scores'][-1]),\n",
    "                np.inf,\n",
    "                np.inf,\n",
    "                tmp_result['time_elapsed'],\n",
    "                tmp_result['n_eval']\n",
    "            ]], columns=compare_cols),\n",
    "            ignore_index=True\n",
    "        )\n",
    "print('')"
   ]
  },
  {
   "cell_type": "code",
   "execution_count": 14,
   "metadata": {
    "ExecuteTime": {
     "end_time": "2019-09-14T19:08:32.060739Z",
     "start_time": "2019-09-14T19:08:32.052176Z"
    }
   },
   "outputs": [],
   "source": [
    "r_dim = results[0]\n",
    "y_plot = []\n",
    "for _iter2 in range(r_dim['metrics']['scores'].shape[0]):\n",
    "    y_plot.append(r_dim['metrics']['scores'][_iter2][0])"
   ]
  },
  {
   "cell_type": "code",
   "execution_count": 15,
   "metadata": {
    "ExecuteTime": {
     "end_time": "2019-09-14T19:08:32.195384Z",
     "start_time": "2019-09-14T19:08:32.061655Z"
    }
   },
   "outputs": [
    {
     "data": {
      "text/plain": [
       "Text(0, 0.5, 'log of f')"
      ]
     },
     "execution_count": 15,
     "metadata": {},
     "output_type": "execute_result"
    },
    {
     "data": {
      "image/png": "[encoded data removed]",
      "text/plain": [
       "<Figure size 432x288 with 1 Axes>"
      ]
     },
     "metadata": {
      "needs_background": "light"
     },
     "output_type": "display_data"
    }
   ],
   "source": [
    "# change plot scale to LOG => better view\n",
    "plt.plot(-np.log(y_plot))\n",
    "\n",
    "plt.title('GA - Genetic Algorithm')\n",
    "#plt.subtitle('log of f(x) for x = best')\n",
    "plt.xlabel('generations')\n",
    "plt.ylabel('log of f')"
   ]
  },
  {
   "cell_type": "code",
   "execution_count": 16,
   "metadata": {
    "ExecuteTime": {
     "end_time": "2019-09-14T19:08:32.221915Z",
     "start_time": "2019-09-14T19:08:32.196518Z"
    }
   },
   "outputs": [
    {
     "name": "stdout",
     "output_type": "stream",
     "text": [
      "                         best               n_func_eval       time worst\n",
      "                         amax          amin        amax       mean  amax\n",
      "benchmark                                                               \n",
      "ackley_function  3.180905e-04  3.180905e-04      100000  35.310101   inf\n",
      "sphere_function  1.893148e-07  1.893148e-07      100000  34.740786   inf\n"
     ]
    }
   ],
   "source": [
    "pt = pd.pivot_table(\n",
    "    compare_data[compare_data['algorithm'] == 'GA'],\n",
    "    values=['best', 'worst', 'time', 'n_func_eval'],\n",
    "    #values=['best'],\n",
    "    index=['benchmark'],\n",
    "    aggfunc={\n",
    "        'best': [np.amin, np.amax],\n",
    "        'worst': np.amax,\n",
    "        'time': np.mean,\n",
    "        'n_func_eval': np.amax\n",
    "    }\n",
    ")\n",
    "print(pt)"
   ]
  },
  {
   "cell_type": "markdown",
   "metadata": {},
   "source": [
    "# PSO - Particle Swarm Optimization algorithm"
   ]
  },
  {
   "cell_type": "code",
   "execution_count": 17,
   "metadata": {
    "ExecuteTime": {
     "end_time": "2019-09-14T19:08:41.372136Z",
     "start_time": "2019-09-14T19:08:32.223181Z"
    }
   },
   "outputs": [
    {
     "name": "stdout",
     "output_type": "stream",
     "text": [
      "Benchmark function ackley_function\n",
      "\tDimensions: 30, Seed=1\n",
      "\t\tIteration 00000, f_minx = +1.99463e+01\n",
      "\t\tIteration 00200, f_minx = +5.24985e+00\n",
      "\t\tIteration 00400, f_minx = +3.07140e+00\n",
      "\t\tIteration 00600, f_minx = +5.42037e-02\n",
      "\t\tIteration 00800, f_minx = +2.52959e-04\n",
      "\t\tTop 3 f(x) values, after    4.60s\n",
      "\t\tf= [2.45367535e-08 2.35803168e-08 2.30137194e-08]\n",
      "Benchmark function sphere_function\n",
      "\tDimensions: 30, Seed=1\n",
      "\t\tIteration 00000, f_minx = +2.04818e+01\n",
      "\t\tIteration 00200, f_minx = +4.72920e+00\n",
      "\t\tIteration 00400, f_minx = +2.37490e+00\n",
      "\t\tIteration 00600, f_minx = +3.23256e-02\n",
      "\t\tIteration 00800, f_minx = +4.21573e-05\n",
      "\t\tTop 3 f(x) values, after    4.53s\n",
      "\t\tf= [8.97398111e-09 8.65135918e-09 8.44193737e-09]\n"
     ]
    }
   ],
   "source": [
    "results = []\n",
    "_dim = 30\n",
    "\n",
    "for bmrk in benchmarks:\n",
    "    print('Benchmark function', bmrk)\n",
    "    for seed in range(1, 2):\n",
    "        params = {\n",
    "            'seed': seed,\n",
    "            'dimension': _dim,\n",
    "            'max_iterations': 1000,\n",
    "            'population': 100,\n",
    "            'upper': [30],\n",
    "            'lower': [-30],\n",
    "        }\n",
    "        print(f'\\tDimensions: {_dim}, Seed={seed}')\n",
    "        tmp_result = pso_optimizer(ackley_function, params)\n",
    "        results.append(tmp_result.copy())\n",
    "        print(f\"\\t\\tTop 3 f(x) values, after {tmp_result['time_elapsed']:7.2f}s\")\n",
    "        print('\\t\\tf=', tmp_result['metrics']['scores'][-3:])\n",
    "\n",
    "        compare_data = compare_data.append(\n",
    "            pd.DataFrame(data=[[\n",
    "                'PSO',\n",
    "                bmrk,\n",
    "                seed,\n",
    "                params['population'],\n",
    "                _dim,\n",
    "                params['max_iterations'],\n",
    "                params['upper'][0],\n",
    "                params['lower'][0],\n",
    "                np.amin(tmp_result['metrics']['scores'][-1]),\n",
    "                np.inf,\n",
    "                np.inf,\n",
    "                tmp_result['time_elapsed'],\n",
    "                tmp_result['n_eval']\n",
    "            ]], columns=compare_cols),\n",
    "            ignore_index=True\n",
    "        )"
   ]
  },
  {
   "cell_type": "code",
   "execution_count": 18,
   "metadata": {
    "ExecuteTime": {
     "end_time": "2019-09-14T19:08:41.381121Z",
     "start_time": "2019-09-14T19:08:41.373414Z"
    }
   },
   "outputs": [],
   "source": [
    "r_dim = results[0]\n",
    "y_plot = []\n",
    "for _iter2 in range(r_dim['metrics']['scores'].shape[0]):\n",
    "    y_plot.append(r_dim['metrics']['scores'][_iter2])"
   ]
  },
  {
   "cell_type": "code",
   "execution_count": 28,
   "metadata": {
    "ExecuteTime": {
     "end_time": "2019-09-14T19:13:46.313269Z",
     "start_time": "2019-09-14T19:13:46.201175Z"
    }
   },
   "outputs": [
    {
     "data": {
      "text/plain": [
       "Text(0, 0.5, 'log of f')"
      ]
     },
     "execution_count": 28,
     "metadata": {},
     "output_type": "execute_result"
    },
    {
     "data": {
      "image/png": "[encoded data removed]",
      "text/plain": [
       "<Figure size 432x288 with 1 Axes>"
      ]
     },
     "metadata": {
      "needs_background": "light"
     },
     "output_type": "display_data"
    }
   ],
   "source": [
    "plt.plot(-np.log(y_plot))\n",
    "plt.title('PSO - Particle Swarm Optimization')\n",
    "#plt.subtitle('log of f(x) for x = best')\n",
    "plt.xlabel('generations')\n",
    "plt.ylabel('log of f')"
   ]
  },
  {
   "cell_type": "markdown",
   "metadata": {},
   "source": [
    "## BBPSO - Bare-bone Particle Swarm Optimization algorithm"
   ]
  },
  {
   "cell_type": "code",
   "execution_count": 41,
   "metadata": {
    "ExecuteTime": {
     "end_time": "2019-09-14T19:21:21.704721Z",
     "start_time": "2019-09-14T19:21:01.440082Z"
    }
   },
   "outputs": [
    {
     "name": "stdout",
     "output_type": "stream",
     "text": [
      "Benchmark function ackley_function\n",
      "\tDimensions: 30\n",
      "\tIteration 00000, f_minx = +2.01560e+01\n",
      "\tIteration 00400, f_minx = +4.17033e+00\n",
      "\tIteration 00800, f_minx = +2.09590e-04\n",
      "\tIteration 01200, f_minx = +1.82247e-08\n",
      "\tIteration 01600, f_minx = +5.22693e-13\n",
      "\t\tTop 3 f(x) values, after    9.96s\n",
      "\t\tf= [5.01820807e-14 5.01820807e-14 5.01820807e-14]\n",
      "Benchmark function sphere_function\n",
      "\tDimensions: 30\n",
      "\tIteration 00000, f_minx = +2.01560e+01\n",
      "\tIteration 00400, f_minx = +4.17033e+00\n",
      "\tIteration 00800, f_minx = +2.09590e-04\n",
      "\tIteration 01200, f_minx = +1.82247e-08\n",
      "\tIteration 01600, f_minx = +5.22693e-13\n",
      "\t\tTop 3 f(x) values, after   10.17s\n",
      "\t\tf= [5.01820807e-14 5.01820807e-14 5.01820807e-14]\n"
     ]
    },
    {
     "data": {
      "text/plain": [
       "Text(0, 0.5, 'log of f')"
      ]
     },
     "execution_count": 41,
     "metadata": {},
     "output_type": "execute_result"
    },
    {
     "data": {
      "image/png": "[encoded data removed]",
      "text/plain": [
       "<Figure size 432x288 with 1 Axes>"
      ]
     },
     "metadata": {
      "needs_background": "light"
     },
     "output_type": "display_data"
    }
   ],
   "source": [
    "results = []\n",
    "_dim = 30\n",
    "\n",
    "for bmrk in benchmarks:\n",
    "    print('Benchmark function', bmrk)\n",
    "    for seed in range(1, 2):\n",
    "        params = {\n",
    "            'seed': seed,\n",
    "            'dimension': _dim,\n",
    "            'max_iterations': 2000,\n",
    "            'population': 100,\n",
    "            'upper': [30],\n",
    "            'lower': [-30],\n",
    "            'verbose': 1,\n",
    "        }\n",
    "        print(f'\\tDimensions: {_dim}, Seed={seed}')\n",
    "        tmp_result = bb_pso_optimizer(ackley_function, params)\n",
    "        results.append(tmp_result.copy())\n",
    "        print(f\"\\t\\tTop 3 f(x) values, after {tmp_result['time_elapsed']:7.2f}s\")\n",
    "        print('\\t\\tf=', tmp_result['metrics']['scores'][-3:])\n",
    "\n",
    "        compare_data = compare_data.append(\n",
    "            pd.DataFrame(data=[[\n",
    "                'BBPSO',\n",
    "                bmrk,\n",
    "                seed,\n",
    "                params['population'],\n",
    "                _dim,\n",
    "                params['max_iterations'],\n",
    "                params['upper'][0],\n",
    "                params['lower'][0],\n",
    "                np.amin(tmp_result['metrics']['scores'][-1]),\n",
    "                np.inf,\n",
    "                np.inf,\n",
    "                tmp_result['time_elapsed'],\n",
    "                tmp_result['n_eval']\n",
    "            ]], columns=compare_cols),\n",
    "            ignore_index=True\n",
    "        )\n",
    "\n",
    "r_dim = results[0] # seed=1, ackley\n",
    "y_plot = []\n",
    "for _iter2 in range(r_dim['metrics']['scores'].shape[0]):\n",
    "    y_plot.append(r_dim['metrics']['scores'][_iter2])\n",
    "\n",
    "plt.plot(-np.log(y_plot))\n",
    "plt.title('BBPSO => Achley benchmark, seed=1')\n",
    "#plt.subtitle('log of f(x) for x = best')\n",
    "plt.xlabel('generations')\n",
    "plt.ylabel('log of f')"
   ]
  },
  {
   "cell_type": "code",
   "execution_count": 39,
   "metadata": {
    "ExecuteTime": {
     "end_time": "2019-09-14T19:19:59.928004Z",
     "start_time": "2019-09-14T19:19:59.802632Z"
    }
   },
   "outputs": [
    {
     "data": {
      "text/plain": [
       "Text(0, 0.5, 'log of f')"
      ]
     },
     "execution_count": 39,
     "metadata": {},
     "output_type": "execute_result"
    },
    {
     "data": {
      "image/png": "[encoded data removed]",
      "text/plain": [
       "<Figure size 432x288 with 1 Axes>"
      ]
     },
     "metadata": {
      "needs_background": "light"
     },
     "output_type": "display_data"
    }
   ],
   "source": [
    "r_dim = results[0] # seed=1, ackley\n",
    "y_plot = []\n",
    "for _iter2 in range(r_dim['metrics']['scores'].shape[0]):\n",
    "    y_plot.append(r_dim['metrics']['scores'][_iter2])\n",
    "\n",
    "plt.plot(-np.log(y_plot))\n",
    "plt.title('BBPSO => Achley benchmark, seed=1')\n",
    "#plt.subtitle('log of f(x) for x = best')\n",
    "plt.xlabel('generations')\n",
    "plt.ylabel('log of f')"
   ]
  },
  {
   "cell_type": "markdown",
   "metadata": {},
   "source": [
    "# ES - Evolutionary Strategy algorithm"
   ]
  },
  {
   "cell_type": "code",
   "execution_count": 21,
   "metadata": {
    "ExecuteTime": {
     "end_time": "2019-09-14T19:09:00.026696Z",
     "start_time": "2019-09-14T19:09:00.017952Z"
    }
   },
   "outputs": [
    {
     "data": {
      "text/plain": [
       "0"
      ]
     },
     "execution_count": 21,
     "metadata": {},
     "output_type": "execute_result"
    }
   ],
   "source": [
    "0"
   ]
  },
  {
   "cell_type": "markdown",
   "metadata": {},
   "source": [
    "# CMA-ES - Covariance Matrix Evolutionary Strategy algorithm"
   ]
  },
  {
   "cell_type": "code",
   "execution_count": null,
   "metadata": {
    "ExecuteTime": {
     "end_time": "2019-09-14T16:15:13.718456Z",
     "start_time": "2019-09-14T16:15:13.654386Z"
    }
   },
   "outputs": [],
   "source": []
  },
  {
   "cell_type": "markdown",
   "metadata": {},
   "source": [
    "# Direct comparison\n",
    "\n",
    "Compare results for each benchmark function."
   ]
  },
  {
   "cell_type": "code",
   "execution_count": 22,
   "metadata": {
    "ExecuteTime": {
     "end_time": "2019-09-14T19:09:00.049865Z",
     "start_time": "2019-09-14T19:09:00.027832Z"
    }
   },
   "outputs": [
    {
     "name": "stdout",
     "output_type": "stream",
     "text": [
      "                                   best               n_func_eval       time\n",
      "                                   amax          amin        amax       mean\n",
      "benchmark       algorithm                                                   \n",
      "ackley_function GA         3.180905e-04  3.180905e-04      100000  35.310101\n",
      "                PSO        2.301372e-08  2.301372e-08      100000   4.600862\n",
      "sphere_function GA         1.893148e-07  1.893148e-07      100000  34.740786\n",
      "                PSO        8.441937e-09  8.441937e-09      100000   4.533197\n"
     ]
    }
   ],
   "source": [
    "pt = pd.pivot_table(\n",
    "    compare_data,\n",
    "    #values=['best', 'worst', 'time', 'n_func_eval'],\n",
    "    values=['best', 'time', 'n_func_eval'],\n",
    "    index=['benchmark', 'algorithm'],\n",
    "    aggfunc={\n",
    "        'best': [np.amin, np.amax],\n",
    "        #'worst': np.amax,\n",
    "        'time': np.mean,\n",
    "        'n_func_eval': np.amax\n",
    "    }\n",
    ")\n",
    "print(pt)"
   ]
  },
  {
   "cell_type": "code",
   "execution_count": 23,
   "metadata": {
    "ExecuteTime": {
     "end_time": "2019-09-14T19:09:00.062972Z",
     "start_time": "2019-09-14T19:09:00.052885Z"
    }
   },
   "outputs": [
    {
     "name": "stdout",
     "output_type": "stream",
     "text": [
      "<class 'pandas.core.frame.DataFrame'>\n"
     ]
    }
   ],
   "source": [
    "print(type(pt))"
   ]
  },
  {
   "cell_type": "code",
   "execution_count": 24,
   "metadata": {
    "ExecuteTime": {
     "end_time": "2019-09-14T19:09:00.073274Z",
     "start_time": "2019-09-14T19:09:00.064812Z"
    }
   },
   "outputs": [
    {
     "name": "stdout",
     "output_type": "stream",
     "text": [
      "MultiIndex([(       'best', 'amax'),\n",
      "            (       'best', 'amin'),\n",
      "            ('n_func_eval', 'amax'),\n",
      "            (       'time', 'mean')],\n",
      "           )\n"
     ]
    }
   ],
   "source": [
    "print(pt.columns)"
   ]
  },
  {
   "cell_type": "code",
   "execution_count": 25,
   "metadata": {
    "ExecuteTime": {
     "end_time": "2019-09-14T19:09:00.145522Z",
     "start_time": "2019-09-14T19:09:00.074359Z"
    }
   },
   "outputs": [
    {
     "ename": "AttributeError",
     "evalue": "'MultiIndex' object has no attribute 'gel_loc'",
     "output_type": "error",
     "traceback": [
      "\u001b[0;31m---------------------------------------------------------------------------\u001b[0m",
      "\u001b[0;31mAttributeError\u001b[0m                            Traceback (most recent call last)",
      "\u001b[0;32m<ipython-input-25-59c137257dfd>\u001b[0m in \u001b[0;36m<module>\u001b[0;34m\u001b[0m\n\u001b[1;32m      9\u001b[0m \u001b[0;34m\u001b[0m\u001b[0m\n\u001b[1;32m     10\u001b[0m \u001b[0;32mfor\u001b[0m \u001b[0mi\u001b[0m \u001b[0;32min\u001b[0m \u001b[0mrange\u001b[0m\u001b[0;34m(\u001b[0m\u001b[0mpt\u001b[0m\u001b[0;34m.\u001b[0m\u001b[0mshape\u001b[0m\u001b[0;34m[\u001b[0m\u001b[0;36m0\u001b[0m\u001b[0;34m]\u001b[0m\u001b[0;34m)\u001b[0m\u001b[0;34m:\u001b[0m\u001b[0;34m\u001b[0m\u001b[0;34m\u001b[0m\u001b[0m\n\u001b[0;32m---> 11\u001b[0;31m     \u001b[0mf\u001b[0m \u001b[0;34m=\u001b[0m \u001b[0mpt\u001b[0m\u001b[0;34m.\u001b[0m\u001b[0miloc\u001b[0m\u001b[0;34m[\u001b[0m\u001b[0mi\u001b[0m\u001b[0;34m,\u001b[0m \u001b[0mpt\u001b[0m\u001b[0;34m.\u001b[0m\u001b[0mcolumns\u001b[0m\u001b[0;34m.\u001b[0m\u001b[0mgel_loc\u001b[0m\u001b[0;34m(\u001b[0m\u001b[0;34m'benchmark'\u001b[0m\u001b[0;34m)\u001b[0m\u001b[0;34m]\u001b[0m\u001b[0;34m\u001b[0m\u001b[0;34m\u001b[0m\u001b[0m\n\u001b[0m\u001b[1;32m     12\u001b[0m     \u001b[0ma\u001b[0m \u001b[0;34m=\u001b[0m \u001b[0mpt\u001b[0m\u001b[0;34m.\u001b[0m\u001b[0miloc\u001b[0m\u001b[0;34m[\u001b[0m\u001b[0mi\u001b[0m\u001b[0;34m,\u001b[0m \u001b[0mpt\u001b[0m\u001b[0;34m.\u001b[0m\u001b[0mgel_loc\u001b[0m\u001b[0;34m(\u001b[0m\u001b[0;34m'algorithm'\u001b[0m\u001b[0;34m)\u001b[0m\u001b[0;34m]\u001b[0m\u001b[0;34m\u001b[0m\u001b[0;34m\u001b[0m\u001b[0m\n\u001b[1;32m     13\u001b[0m     plot(pt.iloc[i, pt.gel_loc('time')],\n",
      "\u001b[0;31mAttributeError\u001b[0m: 'MultiIndex' object has no attribute 'gel_loc'"
     ]
    }
   ],
   "source": [
    "colors = {\n",
    "    'ackley_function': 'b',\n",
    "    'sphere_function': 'r'\n",
    "}\n",
    "markers = {\n",
    "    'GA': 's',\n",
    "    'PSO': 'o'\n",
    "}\n",
    "\n",
    "for i in range(pt.shape[0]):\n",
    "    f = pt.iloc[i, pt.columns.gel_loc('benchmark')]\n",
    "    a = pt.iloc[i, pt.gel_loc('algorithm')]\n",
    "    plot(pt.iloc[i, pt.gel_loc('time')],\n",
    "         pt.iloc[i, pt.gel_loc('amax')],\n",
    "         color=colors[f], marker=markers[a], linestyle='none', markersize=12)"
   ]
  },
  {
   "cell_type": "code",
   "execution_count": null,
   "metadata": {},
   "outputs": [],
   "source": []
  }
 ],
 "metadata": {
  "kernelspec": {
   "display_name": "Python 3",
   "language": "python",
   "name": "python3"
  },
  "language_info": {
   "codemirror_mode": {
    "name": "ipython",
    "version": 3
   },
   "file_extension": ".py",
   "mimetype": "text/x-python",
   "name": "python",
   "nbconvert_exporter": "python",
   "pygments_lexer": "ipython3",
   "version": "3.6.8"
  },
  "varInspector": {
   "cols": {
    "lenName": 16,
    "lenType": 16,
    "lenVar": 40
   },
   "kernels_config": {
    "python": {
     "delete_cmd_postfix": "",
     "delete_cmd_prefix": "del ",
     "library": "var_list.py",
     "varRefreshCmd": "print(var_dic_list())"
    },
    "r": {
     "delete_cmd_postfix": ") ",
     "delete_cmd_prefix": "rm(",
     "library": "var_list.r",
     "varRefreshCmd": "cat(var_dic_list()) "
    }
   },
   "types_to_exclude": [
    "module",
    "function",
    "builtin_function_or_method",
    "instance",
    "_Feature"
   ],
   "window_display": false
  }
 },
 "nbformat": 4,
 "nbformat_minor": 4
}
