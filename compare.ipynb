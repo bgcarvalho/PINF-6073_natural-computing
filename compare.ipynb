{
 "cells": [
  {
   "cell_type": "markdown",
   "metadata": {},
   "source": [
    "# Natural Computing\n",
    "\n",
    "This is an exercise from 2019/2 period of the course \"Natural Computing\" at UFES, in Vitória/ES - Brazil.\n",
    "\n",
    "Task: Compare different nature-inspired optimization algorithms.\n",
    "\n",
    "Master's degree candidate: Bruno Carvalho\n",
    "\n",
    "## Algorithms\n",
    "\n",
    "- GA - Genetic Algorithms\n",
    "- GP - Genetic Programming\n",
    "- ES - Evolution Strategy\n",
    "- DE - Differential Evolution\n",
    "\n",
    "- PSO - Particle Swarm Optimization [Kennedy and Eberhart, 1995]\n",
    "- ACO - Ant Colony Optimization [Korošec and Šilc, 2009]\n",
    "- CS - Cuckoo Search\n",
    "- GWO - Grey Wolf Optimizer\n",
    "- MVO - Multi-Verse Optimizer\n",
    "- MFO - Moth-flame Optimization \n",
    "- WOA - Whale Optimization Algorithm\n",
    "- BAT - Bat Algorithm\n",
    "- FFA - Firefly Algorithm\n",
    "\n",
    "## References\n",
    "\n",
    "."
   ]
  },
  {
   "cell_type": "code",
   "execution_count": 1,
   "metadata": {
    "ExecuteTime": {
     "end_time": "2019-09-10T00:32:07.753731Z",
     "start_time": "2019-09-10T00:32:07.531528Z"
    }
   },
   "outputs": [],
   "source": [
    "import os\n",
    "import sys\n",
    "import time\n",
    "import itertools\n",
    "import random\n",
    "\n",
    "import numpy as np\n",
    "import pandas as pd\n",
    "\n",
    "from tqdm import tqdm\n",
    "from matplotlib import pyplot as plt\n",
    "\n",
    "%matplotlib inline\n",
    "%config InlineBackend.figure_format = 'png'\n"
   ]
  },
  {
   "cell_type": "code",
   "execution_count": 2,
   "metadata": {
    "ExecuteTime": {
     "end_time": "2019-09-10T00:32:07.770122Z",
     "start_time": "2019-09-10T00:32:07.754778Z"
    }
   },
   "outputs": [],
   "source": [
    "%load_ext memory_profiler\n",
    "%load_ext autoreload\n",
    "%autoreload 2"
   ]
  },
  {
   "cell_type": "code",
   "execution_count": 3,
   "metadata": {
    "ExecuteTime": {
     "end_time": "2019-09-10T00:32:07.778030Z",
     "start_time": "2019-09-10T00:32:07.771291Z"
    }
   },
   "outputs": [],
   "source": [
    "execution_dict = {\n",
    "    'time_elapsed': 0,\n",
    "    'algorithm': '',\n",
    "    'metrics': {\n",
    "        'best': [],\n",
    "        'time': [],\n",
    "        'objective': [],\n",
    "        'scores': [],\n",
    "    }\n",
    "}"
   ]
  },
  {
   "cell_type": "code",
   "execution_count": 4,
   "metadata": {
    "ExecuteTime": {
     "end_time": "2019-09-10T00:32:07.800602Z",
     "start_time": "2019-09-10T00:32:07.779009Z"
    },
    "code_folding": [
     0
    ]
   },
   "outputs": [],
   "source": [
    "def ga_optimizer(obj_func, parameters):\n",
    "    \"\"\"\n",
    "\n",
    "    Inspired by:\n",
    "    https://github.com/7ossam81/EvoloPy/blob/master/GA.py\n",
    "\n",
    "    \"\"\"\n",
    "    lower = parameters.get('lower', [-1.0])\n",
    "    upper = parameters.get('upper', [1.0])\n",
    "    dimension = parameters.get('dimension', 30)\n",
    "    seed = parameters.get('seed', 1)\n",
    "    max_iterations = parameters.get('max_iterations', 100)\n",
    "    population = parameters.get('population', 100)\n",
    "    crossover_rate = parameters.get('crossover_rate', 1.0)\n",
    "    mutation_rate = parameters.get('mutation_rate', 0.01)\n",
    "    best_to_keep = parameters.get('best_to_keep', 2)\n",
    "    crossover_alpha = parameters.get('crossover_alpha', 0.25)\n",
    "    \n",
    "    np.random.seed(seed)\n",
    "    \n",
    "    # Input Objective function has variable dimensions\n",
    "    # consider equi-distance \"square\"\n",
    "    if not isinstance(lower, list):\n",
    "        lower = [lower]\n",
    "    if not isinstance(upper, list):\n",
    "        upper = [upper]\n",
    "\n",
    "    lower = lower * dimension\n",
    "    upper = upper * dimension\n",
    "\n",
    "    # track execution\n",
    "    exec_info = execution_dict.copy()\n",
    "    \n",
    "    # allocate memory\n",
    "    exec_info['metrics']['time'] = np.zeros([max_iterations], dtype='float')\n",
    "    exec_info['metrics']['best'] = np.zeros([max_iterations, dimension], dtype='float')\n",
    "    exec_info['metrics']['objective'] = np.zeros([max_iterations], dtype='float')\n",
    "    exec_info['metrics']['scores'] = np.full([max_iterations, population], np.inf, dtype='float')\n",
    "\n",
    "    begin = time.time()\n",
    "\n",
    "    # search space - Zero init array\n",
    "    #space = np.full([population, dimension], 0.0)\n",
    "    space = np.random.uniform(0, 1, [population, dimension])\n",
    "\n",
    "    # objective evaluation scores\n",
    "    scores = np.random.uniform(0.0, 1.0, population)\n",
    "    \n",
    "    def crossover(space, scores):\n",
    "        search_space = np.zeros_like(space) + np.random.uniform(0, 1)\n",
    "        #search_space = np.zeros_like(space)\n",
    "        search_space[0:best_to_keep, :] = space[0:best_to_keep, :]\n",
    "        \n",
    "        # renew BETA every generation\n",
    "        beta = np.random.uniform(-crossover_alpha, 1 + crossover_alpha)\n",
    "        \n",
    "        for cross  in range(best_to_keep + 1, population - 1, 2):\n",
    "\n",
    "            # using SET parents will always be different\n",
    "            #parents = set()\n",
    "            \n",
    "            # using LIST parents can repeat!\n",
    "            parents = []\n",
    "            \n",
    "            parent1_idx = np.random.randint(0, population)\n",
    "            parent2_idx = np.random.randint(0, population)\n",
    "            \n",
    "            parents.append(parent1_idx)\n",
    "            parents.append(parent2_idx)\n",
    "\n",
    "            \"\"\"\n",
    "            while len(parents) < 2:\n",
    "                parent1_idx = np.random.randint(0, population)\n",
    "                parent2_idx = np.random.randint(0, population)\n",
    "            \n",
    "                if scores[parent1_idx] > scores[parent2_idx]:\n",
    "                    # p1 is better then p2\n",
    "                    parents.add(parent1_idx)\n",
    "                else:\n",
    "                    parents.add(parent2_idx)               \n",
    "            \"\"\"\n",
    "            \n",
    "            lp = list(parents)\n",
    "            parent1 = space[lp[0], :]\n",
    "            parent2 = space[lp[1], :]\n",
    "            \n",
    "            # ARITHMETIC CROSSOVER\n",
    "            child1 = parent1 * beta + (1.0 - beta) * parent2\n",
    "            child2 = parent2 * beta + (1.0 - beta) * parent1\n",
    "            \n",
    "            crossover_chance = np.random.uniform(0.0, 1.0)\n",
    "            if crossover_chance < crossover_rate:\n",
    "                search_space[cross, :] = np.copy(child1)\n",
    "                search_space[cross + 1, :] = np.copy(child2)  \n",
    "            else:\n",
    "                search_space[cross, :] = np.copy(parent1)\n",
    "                search_space[cross + 1, :] = np.copy(parent2)\n",
    "            \n",
    "            for j in range(dimension):\n",
    "                search_space[cross, j] = np.clip(search_space[cross, j], lower[j], upper[j])\n",
    "                search_space[cross + 1, j] = np.clip(search_space[cross + 1, j], lower[j], upper[j])\n",
    "                \n",
    "        return search_space\n",
    "    \n",
    "    def mutation(space, gen):\n",
    "        n_mutate = np.int(population * mutation_rate)\n",
    "        for m in range(n_mutate):\n",
    "            # keep best => do not mutate\n",
    "            rand_individual = np.random.randint(best_to_keep + 1, population)\n",
    "            #rand_individual = np.random.randint(0, population)\n",
    "            # decrease stdev with generations\n",
    "            #stdev = 5.0 / np.sqrt(gen)\n",
    "            stdev = 2\n",
    "            new_value = np.zeros(dimension)\n",
    "            for j in range(dimension):\n",
    "                new_value[j] = np.random.normal(space[rand_individual, j], stdev)\n",
    "                new_value[j] = np.clip(new_value[j], lower[j], upper[j])\n",
    "\n",
    "            # store\n",
    "            space[rand_individual, :] = new_value\n",
    "\n",
    "        return space\n",
    "    \n",
    "    def sort_iter(_space, _scores):\n",
    "        idx = scores.argsort()\n",
    "        _space = _space[idx]\n",
    "        _scores = _scores[idx]\n",
    "        return _space, _scores\n",
    "    \n",
    "    def eval_obj(func, _space):\n",
    "        _scores = np.full(population, np.inf)\n",
    "        for p in range(population):\n",
    "            _scores[p] = func(_space[p, :])\n",
    "        return _scores\n",
    "\n",
    "    for i in range(dimension):\n",
    "        space[:, i] = np.random.uniform(0, 1, population) * (upper[i] - lower[i]) + lower[i]\n",
    "    \n",
    "    for _iter in range(1, max_iterations):\n",
    "        \n",
    "        # crossover\n",
    "        space = crossover(space, scores)\n",
    "        \n",
    "        # mutation\n",
    "        space = mutation(space, _iter)\n",
    "        \n",
    "        # evaluate objective\n",
    "        scores = eval_obj(obj_func, space)\n",
    "        \n",
    "        # remove duplicates\n",
    "        \n",
    "        # sort\n",
    "        space, scores = sort_iter(space, scores)\n",
    "        \n",
    "        # save\n",
    "        exec_info['metrics']['scores'][_iter] = scores\n",
    "        exec_info['metrics']['time'][_iter] = time.time() - begin\n",
    "        exec_info['metrics']['best'][_iter] = space[0, :]\n",
    "        \n",
    "        if _iter % np.int(max_iterations / 10) == 0:\n",
    "            print(f'\\tGen {_iter:06d} (10%), '\n",
    "                  f'f_min = {scores[0]:+13.5e}, '\n",
    "            )\n",
    "            #print(\n",
    "            #      f'\\tx[0, 0] = {space[0, 0]:+13.5e}, '\n",
    "            #      f'x[0, d] = {space[0, -1]:+13.5e}, '\n",
    "            #      f'x[p, d] = {space[-1, -1]:+13.5e}'\n",
    "            #)\n",
    "            #print(space)\n",
    "            #print(scores)\n",
    "\n",
    "    exec_info['algorithm'] = 'GA - Genetic Algorithm'\n",
    "    exec_info['time_elapsed'] = time.time() - begin\n",
    "    #print(space)\n",
    "    #print(scores)\n",
    "    #print(scores.shape)\n",
    "    \n",
    "    return exec_info"
   ]
  },
  {
   "cell_type": "code",
   "execution_count": 5,
   "metadata": {
    "ExecuteTime": {
     "end_time": "2019-09-10T00:32:07.817216Z",
     "start_time": "2019-09-10T00:32:07.801698Z"
    },
    "code_folding": [
     0
    ]
   },
   "outputs": [],
   "source": [
    "def pso_optimizer(obj_func, parameters):\n",
    "    \"\"\"\n",
    "\n",
    "    Inspired by:\n",
    "    https://github.com/7ossam81/EvoloPy/blob/master/PSO.py\n",
    "\n",
    "    \"\"\"\n",
    "    lower = parameters.get('lower', [-1.0])\n",
    "    upper = parameters.get('upper', [1.0])\n",
    "    dimension = parameters.get('dimension', 30)\n",
    "    population = parameters.get('population', 100)\n",
    "    seed = parameters.get('seed', 1)\n",
    "    max_iterations = parameters.get('max_iterations', 100)\n",
    "    velocity_max = np.full(dimension, parameters.get('velocity_max', 5.0))\n",
    "    \n",
    "    w_max = parameters.get('w_max', 0.9)\n",
    "    w_min = parameters.get('w_min', 0.2)\n",
    "\n",
    "    if not isinstance(lower, list):\n",
    "        lower = [lower]\n",
    "    if not isinstance(upper, list):\n",
    "        upper = [upper]\n",
    "\n",
    "    lower = lower * dimension\n",
    "    upper = upper * dimension\n",
    "\n",
    "    # track execution\n",
    "    exec_info = execution_dict.copy()\n",
    "    exec_info['metrics']['scores'] = np.zeros(max_iterations, dtype='float')\n",
    "\n",
    "    # inner variables\n",
    "    \n",
    "    c1 = 2.0\n",
    "    c2 = 2.0\n",
    "    \n",
    "    velocity = np.full([population, dimension], 0.0)\n",
    "    \n",
    "    p_best_score = np.full(population, np.inf)\n",
    "    p_best = np.full([population, dimension], 0.0)\n",
    "    \n",
    "    g_best_score = np.inf\n",
    "    g_best = np.full(population, 0.0)\n",
    "    \n",
    "    space = np.full([population, dimension], 0.0)\n",
    "    \n",
    "    begin = time.time()\n",
    "\n",
    "    # init fill\n",
    "    for _d in range(dimension):\n",
    "        rand_dim = np.random.uniform(0, 1, population)\n",
    "        space[:, _d] = rand_dim * (upper[_d] - lower[_d]) + lower[_d]\n",
    "    \n",
    "    for _iter in range(max_iterations):\n",
    "        for _p in range(population):\n",
    "            # keep inside bounds / search limits\n",
    "            space[_p, :] = np.clip(space[_p, :], lower, upper)\n",
    "            \n",
    "            # eval\n",
    "            score = obj_func(space[_p, :])\n",
    "            \n",
    "            # check\n",
    "            if p_best_score[_p] > score:\n",
    "                p_best_score[_p] = score\n",
    "                p_best[_p, :] = np.copy(space[_p, :])\n",
    "            \n",
    "            if g_best_score > score:\n",
    "                g_best_score = score\n",
    "                g_best = np.copy(space[_p, :])\n",
    "        \n",
    "        w = w_max - _iter * ((w_max - w_min) / max_iterations)\n",
    "        \n",
    "        for _p in range(population):\n",
    "            r1 = np.random.random([dimension])\n",
    "            r2 = np.random.random([dimension])\n",
    "            \n",
    "            v = velocity[_p, :]\n",
    "            \n",
    "            a1 = c1 * r1 * (p_best[_p, :] - space[_p, :])\n",
    "            a2 = c2 * r2 * (g_best - space[_p, :])\n",
    "            \n",
    "            #r = w * v + a1 + a2\n",
    "            #print(r)\n",
    "            \n",
    "            velocity[_p, :] = w * v + a1 + a2\n",
    "            \n",
    "            velocity[_p, :] = np.fmax(velocity[_p, :], -velocity_max)  # negative!!\n",
    "            velocity[_p, :] = np.fmin(velocity[_p, :],  velocity_max)\n",
    "            \n",
    "            # UPDATE space\n",
    "            space[_p, :] += velocity[_p, :]\n",
    "\n",
    "        # save data to analyse and plot later\n",
    "        exec_info['metrics']['scores'][_iter] = g_best_score\n",
    "        \n",
    "        # some logging\n",
    "        if _iter % np.int(max_iterations / 10.0) == 0:\n",
    "            print(f'Iteration {_iter:05d}, f_minx = {g_best_score:+12.5e}')\n",
    "\n",
    "    # finished\n",
    "    exec_info['algorithm'] = 'PSO - Particle Swarm Optimization'\n",
    "    exec_info['time_elapsed'] = time.time() - begin\n",
    "\n",
    "    return exec_info"
   ]
  },
  {
   "cell_type": "code",
   "execution_count": null,
   "metadata": {},
   "outputs": [],
   "source": []
  },
  {
   "cell_type": "code",
   "execution_count": 6,
   "metadata": {
    "ExecuteTime": {
     "end_time": "2019-09-10T00:32:07.825463Z",
     "start_time": "2019-09-10T00:32:07.818171Z"
    }
   },
   "outputs": [],
   "source": [
    "def ackley_function(x):\n",
    "    \"\"\"David Ackley, 1987.\n",
    "    \n",
    "    Minimum is ZERO at x = [0, 0, ..., 0]\n",
    "    \n",
    "    \"\"\"\n",
    "    n = x.shape[0]\n",
    "    exp1 = -0.2 * np.sqrt((1/n) * np.dot(x.T, x))\n",
    "    exp2 = (1/n) * np.sum(np.cos(2 * np.pi * x))\n",
    "    return np.squeeze(-20 * np.exp(exp1) - np.exp(exp2) + 20 + np.e)"
   ]
  },
  {
   "cell_type": "code",
   "execution_count": 7,
   "metadata": {
    "ExecuteTime": {
     "end_time": "2019-09-10T00:32:07.833067Z",
     "start_time": "2019-09-10T00:32:07.826696Z"
    }
   },
   "outputs": [],
   "source": [
    "def rastrigin_function(x):\n",
    "    pass"
   ]
  },
  {
   "cell_type": "code",
   "execution_count": 8,
   "metadata": {
    "ExecuteTime": {
     "end_time": "2019-09-10T00:32:07.840420Z",
     "start_time": "2019-09-10T00:32:07.834506Z"
    }
   },
   "outputs": [],
   "source": [
    "def sphere_function(x):\n",
    "    pass"
   ]
  },
  {
   "cell_type": "code",
   "execution_count": 9,
   "metadata": {
    "ExecuteTime": {
     "end_time": "2019-09-10T00:32:07.847873Z",
     "start_time": "2019-09-10T00:32:07.841625Z"
    }
   },
   "outputs": [],
   "source": [
    "def rosenbrock_function(x):\n",
    "    pass"
   ]
  },
  {
   "cell_type": "code",
   "execution_count": 10,
   "metadata": {
    "ExecuteTime": {
     "end_time": "2019-09-10T00:32:07.856780Z",
     "start_time": "2019-09-10T00:32:07.848851Z"
    }
   },
   "outputs": [],
   "source": [
    "def beale_function(x):\n",
    "    pass"
   ]
  },
  {
   "cell_type": "code",
   "execution_count": 11,
   "metadata": {
    "ExecuteTime": {
     "end_time": "2019-09-10T00:32:07.864760Z",
     "start_time": "2019-09-10T00:32:07.857962Z"
    }
   },
   "outputs": [],
   "source": [
    "def goldstein_price_function(x):\n",
    "    pass"
   ]
  },
  {
   "cell_type": "code",
   "execution_count": 12,
   "metadata": {
    "ExecuteTime": {
     "end_time": "2019-09-10T00:32:07.872987Z",
     "start_time": "2019-09-10T00:32:07.865945Z"
    }
   },
   "outputs": [],
   "source": [
    "def booth_function(x):\n",
    "    pass"
   ]
  },
  {
   "cell_type": "code",
   "execution_count": 13,
   "metadata": {
    "ExecuteTime": {
     "end_time": "2019-09-10T00:32:07.881310Z",
     "start_time": "2019-09-10T00:32:07.874402Z"
    }
   },
   "outputs": [],
   "source": [
    "def bukin_function_6(x):\n",
    "    pass"
   ]
  },
  {
   "cell_type": "code",
   "execution_count": 14,
   "metadata": {
    "ExecuteTime": {
     "end_time": "2019-09-10T00:32:07.888831Z",
     "start_time": "2019-09-10T00:32:07.882501Z"
    }
   },
   "outputs": [],
   "source": [
    "def matyas_function(x):\n",
    "    pass"
   ]
  },
  {
   "cell_type": "code",
   "execution_count": 15,
   "metadata": {
    "ExecuteTime": {
     "end_time": "2019-09-10T00:32:07.896279Z",
     "start_time": "2019-09-10T00:32:07.889812Z"
    }
   },
   "outputs": [],
   "source": [
    "def levi_function_13(x):\n",
    "    pass"
   ]
  },
  {
   "cell_type": "code",
   "execution_count": 16,
   "metadata": {
    "ExecuteTime": {
     "end_time": "2019-09-10T00:32:07.904012Z",
     "start_time": "2019-09-10T00:32:07.897312Z"
    }
   },
   "outputs": [],
   "source": [
    "def himmelblau_function(x):\n",
    "    pass"
   ]
  },
  {
   "cell_type": "code",
   "execution_count": 17,
   "metadata": {
    "ExecuteTime": {
     "end_time": "2019-09-10T00:32:07.912868Z",
     "start_time": "2019-09-10T00:32:07.905203Z"
    }
   },
   "outputs": [],
   "source": [
    "def three_hump_camel_function(x):\n",
    "    pass"
   ]
  },
  {
   "cell_type": "code",
   "execution_count": 18,
   "metadata": {
    "ExecuteTime": {
     "end_time": "2019-09-10T00:32:07.920460Z",
     "start_time": "2019-09-10T00:32:07.913862Z"
    }
   },
   "outputs": [],
   "source": [
    "def easom_function(x):\n",
    "    pass"
   ]
  },
  {
   "cell_type": "code",
   "execution_count": 19,
   "metadata": {
    "ExecuteTime": {
     "end_time": "2019-09-10T00:32:07.929269Z",
     "start_time": "2019-09-10T00:32:07.921522Z"
    }
   },
   "outputs": [],
   "source": [
    "def cross_in_tray_function(x):\n",
    "    pass"
   ]
  },
  {
   "cell_type": "code",
   "execution_count": 20,
   "metadata": {
    "ExecuteTime": {
     "end_time": "2019-09-10T00:32:07.936783Z",
     "start_time": "2019-09-10T00:32:07.930254Z"
    }
   },
   "outputs": [],
   "source": [
    "def eggholder_function(x):\n",
    "    pass"
   ]
  },
  {
   "cell_type": "code",
   "execution_count": 21,
   "metadata": {
    "ExecuteTime": {
     "end_time": "2019-09-10T00:32:07.944145Z",
     "start_time": "2019-09-10T00:32:07.937758Z"
    }
   },
   "outputs": [],
   "source": [
    "def hoelder_table_function(x):\n",
    "    pass"
   ]
  },
  {
   "cell_type": "code",
   "execution_count": 22,
   "metadata": {
    "ExecuteTime": {
     "end_time": "2019-09-10T00:32:07.953816Z",
     "start_time": "2019-09-10T00:32:07.945064Z"
    }
   },
   "outputs": [],
   "source": [
    "def mccormick_function(x):\n",
    "    pass"
   ]
  },
  {
   "cell_type": "code",
   "execution_count": 23,
   "metadata": {
    "ExecuteTime": {
     "end_time": "2019-09-10T00:32:07.962818Z",
     "start_time": "2019-09-10T00:32:07.956274Z"
    }
   },
   "outputs": [],
   "source": [
    "def schaffer_function_2(x):\n",
    "    pass"
   ]
  },
  {
   "cell_type": "code",
   "execution_count": 24,
   "metadata": {
    "ExecuteTime": {
     "end_time": "2019-09-10T00:32:07.970875Z",
     "start_time": "2019-09-10T00:32:07.964325Z"
    }
   },
   "outputs": [],
   "source": [
    "def schaffer_function_4(x):\n",
    "    pass"
   ]
  },
  {
   "cell_type": "code",
   "execution_count": 25,
   "metadata": {
    "ExecuteTime": {
     "end_time": "2019-09-10T00:32:07.978736Z",
     "start_time": "2019-09-10T00:32:07.972010Z"
    }
   },
   "outputs": [],
   "source": [
    "def styblinski_tang_function(x):\n",
    "    pass"
   ]
  },
  {
   "cell_type": "code",
   "execution_count": 25,
   "metadata": {},
   "outputs": [
    {
     "name": "stdout",
     "output_type": "stream",
     "text": [
      "Dimensions: 2\n",
      "\tGen 010000 (10%), f_min =  +4.63255e-05, \n",
      "\tGen 020000 (10%), f_min =  +9.82377e-06, \n",
      "\tGen 030000 (10%), f_min =  +9.82377e-06, \n",
      "\tGen 040000 (10%), f_min =  +8.76370e-06, \n",
      "\tGen 050000 (10%), f_min =  +5.35473e-06, \n",
      "\tGen 060000 (10%), f_min =  +5.35473e-06, \n",
      "\tGen 070000 (10%), f_min =  +5.35473e-06, \n",
      "\tGen 080000 (10%), f_min =  +4.14630e-06, \n",
      "\tGen 090000 (10%), f_min =  +4.14630e-06, \n",
      "\tTop 5 f(x) values, after  155.44s\n",
      "\tf= [4.14629846e-06 4.14629846e-06 1.20012345e-01 1.60236443e-01\n",
      " 2.26085492e-01]\n",
      "\tx=\n",
      "\t\t -1.1995791e-06\n",
      "\t\t +8.4257020e-07\n"
     ]
    }
   ],
   "source": [
    "params = {\n",
    "    'seed': 5\n",
    "}\n",
    "results = []\n",
    "\n",
    "total_ndim = 2\n",
    "for _dim in range(2, total_ndim + 1):\n",
    "    params = {\n",
    "        'seed': 1,\n",
    "        'dimension': _dim,\n",
    "        'max_iterations': 100000,\n",
    "        'population': 100,\n",
    "        'upper': [30],\n",
    "        'lower': [-30],\n",
    "    }\n",
    "    print(f'Dimensions: {_dim}')\n",
    "    ga_result = ga_optimizer(ackley_function, params)\n",
    "    results.append(ga_result.copy())\n",
    "    print(f\"\\tTop 5 f(x) values, after {ga_result['time_elapsed']:7.2f}s\")\n",
    "    print('\\tf=', ga_result['metrics']['scores'][-1][:5])\n",
    "    print('\\tx=')\n",
    "    for xv in ga_result['metrics']['best'][-1]:\n",
    "        print(f'\\t\\t {xv:+12.7e}')\n"
   ]
  },
  {
   "cell_type": "code",
   "execution_count": 26,
   "metadata": {},
   "outputs": [],
   "source": [
    "dim = 2\n",
    "r_dim = results[0]\n",
    "y_plot = []\n",
    "for _iter2 in range(r_dim['metrics']['scores'].shape[0]):\n",
    "    y_plot.append(r_dim['metrics']['scores'][_iter2][0])"
   ]
  },
  {
   "cell_type": "code",
   "execution_count": 1,
   "metadata": {
    "ExecuteTime": {
     "end_time": "2019-09-10T00:21:06.533851Z",
     "start_time": "2019-09-10T00:21:06.490966Z"
    }
   },
   "outputs": [
    {
     "ename": "NameError",
     "evalue": "name 'plt' is not defined",
     "output_type": "error",
     "traceback": [
      "\u001b[0;31m---------------------------------------------------------------------------\u001b[0m",
      "\u001b[0;31mNameError\u001b[0m                                 Traceback (most recent call last)",
      "\u001b[0;32m<ipython-input-1-50c45c83701e>\u001b[0m in \u001b[0;36m<module>\u001b[0;34m\u001b[0m\n\u001b[0;32m----> 1\u001b[0;31m \u001b[0mplt\u001b[0m\u001b[0;34m.\u001b[0m\u001b[0mplot\u001b[0m\u001b[0;34m(\u001b[0m\u001b[0;34m-\u001b[0m\u001b[0mnp\u001b[0m\u001b[0;34m.\u001b[0m\u001b[0mlog\u001b[0m\u001b[0;34m(\u001b[0m\u001b[0my_plot\u001b[0m\u001b[0;34m)\u001b[0m\u001b[0;34m)\u001b[0m\u001b[0;34m\u001b[0m\u001b[0;34m\u001b[0m\u001b[0m\n\u001b[0m\u001b[1;32m      2\u001b[0m \u001b[0mplt\u001b[0m\u001b[0;34m.\u001b[0m\u001b[0mtitle\u001b[0m\u001b[0;34m(\u001b[0m\u001b[0;34m'GA - Genetic Algorithm'\u001b[0m\u001b[0;34m)\u001b[0m\u001b[0;34m\u001b[0m\u001b[0;34m\u001b[0m\u001b[0m\n\u001b[1;32m      3\u001b[0m \u001b[0mplt\u001b[0m\u001b[0;34m.\u001b[0m\u001b[0msubtitle\u001b[0m\u001b[0;34m(\u001b[0m\u001b[0;34m'log of f(x) for x = best'\u001b[0m\u001b[0;34m)\u001b[0m\u001b[0;34m\u001b[0m\u001b[0;34m\u001b[0m\u001b[0m\n\u001b[1;32m      4\u001b[0m \u001b[0mplt\u001b[0m\u001b[0;34m.\u001b[0m\u001b[0mxlabel\u001b[0m\u001b[0;34m(\u001b[0m\u001b[0;34m'generations'\u001b[0m\u001b[0;34m)\u001b[0m\u001b[0;34m\u001b[0m\u001b[0;34m\u001b[0m\u001b[0m\n\u001b[1;32m      5\u001b[0m \u001b[0mplt\u001b[0m\u001b[0;34m.\u001b[0m\u001b[0mylabel\u001b[0m\u001b[0;34m(\u001b[0m\u001b[0;34m'log of f'\u001b[0m\u001b[0;34m)\u001b[0m\u001b[0;34m\u001b[0m\u001b[0;34m\u001b[0m\u001b[0m\n",
      "\u001b[0;31mNameError\u001b[0m: name 'plt' is not defined"
     ]
    }
   ],
   "source": [
    "plt.plot(-np.log(y_plot))\n",
    "plt.title('GA - Genetic Algorithm')\n",
    "plt.subtitle('log of f(x) for x = best')\n",
    "plt.xlabel('generations')\n",
    "plt.ylabel('log of f')"
   ]
  },
  {
   "cell_type": "code",
   "execution_count": 33,
   "metadata": {
    "ExecuteTime": {
     "end_time": "2019-09-10T00:34:21.551704Z",
     "start_time": "2019-09-10T00:34:19.173899Z"
    }
   },
   "outputs": [
    {
     "name": "stdout",
     "output_type": "stream",
     "text": [
      "Dimensions: 2\n",
      "Iteration 00000, f_minx = +6.59825e+00\n",
      "Iteration 00100, f_minx = +7.42632e-03\n",
      "Iteration 00200, f_minx = +4.21754e-04\n",
      "Iteration 00300, f_minx = +7.76873e-08\n",
      "Iteration 00400, f_minx = +4.93512e-11\n",
      "Iteration 00500, f_minx = +3.99680e-15\n",
      "Iteration 00600, f_minx = +4.44089e-16\n",
      "Iteration 00700, f_minx = +4.44089e-16\n",
      "Iteration 00800, f_minx = +4.44089e-16\n",
      "Iteration 00900, f_minx = +4.44089e-16\n",
      "\tTop 5 f(x) values, after    2.36s\n",
      "\tf= [4.4408921e-16 4.4408921e-16 4.4408921e-16 4.4408921e-16 4.4408921e-16]\n"
     ]
    }
   ],
   "source": [
    "params = {\n",
    "    'seed': 5\n",
    "}\n",
    "\n",
    "results = []\n",
    "total_ndim = 2\n",
    "\n",
    "for _dim in range(2, total_ndim + 1):\n",
    "    params = {\n",
    "        'seed': 1,\n",
    "        'dimension': _dim,\n",
    "        'max_iterations': 1000,\n",
    "        'population': 100,\n",
    "        'upper': [30],\n",
    "        'lower': [-30],\n",
    "    }\n",
    "    print(f'Dimensions: {_dim}')\n",
    "    ga_result = pso_optimizer(ackley_function, params)\n",
    "    results.append(ga_result.copy())\n",
    "    print(f\"\\tTop 5 f(x) values, after {ga_result['time_elapsed']:7.2f}s\")\n",
    "    print('\\tf=', ga_result['metrics']['scores'][-5:])\n"
   ]
  },
  {
   "cell_type": "code",
   "execution_count": 34,
   "metadata": {
    "ExecuteTime": {
     "end_time": "2019-09-10T00:34:26.284717Z",
     "start_time": "2019-09-10T00:34:26.275250Z"
    }
   },
   "outputs": [],
   "source": [
    "dim = 2\n",
    "r_dim = results[0]\n",
    "y_plot = []\n",
    "for _iter2 in range(r_dim['metrics']['scores'].shape[0]):\n",
    "    y_plot.append(r_dim['metrics']['scores'][_iter2])"
   ]
  },
  {
   "cell_type": "code",
   "execution_count": 35,
   "metadata": {
    "ExecuteTime": {
     "end_time": "2019-09-10T00:34:27.170923Z",
     "start_time": "2019-09-10T00:34:27.062499Z"
    }
   },
   "outputs": [
    {
     "data": {
      "text/plain": [
       "Text(0, 0.5, 'log of f')"
      ]
     },
     "execution_count": 35,
     "metadata": {},
     "output_type": "execute_result"
    },
    {
     "data": {
      "image/png": "[encoded data removed]",
      "text/plain": [
       "<Figure size 432x288 with 1 Axes>"
      ]
     },
     "metadata": {
      "needs_background": "light"
     },
     "output_type": "display_data"
    }
   ],
   "source": [
    "plt.plot(-np.log(y_plot))\n",
    "plt.title('PSO - Particle Swarm Optimization')\n",
    "#plt.subtitle('log of f(x) for x = best')\n",
    "plt.xlabel('generations')\n",
    "plt.ylabel('log of f')"
   ]
  },
  {
   "cell_type": "code",
   "execution_count": null,
   "metadata": {},
   "outputs": [],
   "source": []
  }
 ],
 "metadata": {
  "kernelspec": {
   "display_name": "Python 3",
   "language": "python",
   "name": "python3"
  },
  "language_info": {
   "codemirror_mode": {
    "name": "ipython",
    "version": 3
   },
   "file_extension": ".py",
   "mimetype": "text/x-python",
   "name": "python",
   "nbconvert_exporter": "python",
   "pygments_lexer": "ipython3",
   "version": "3.7.3"
  },
  "varInspector": {
   "cols": {
    "lenName": 16,
    "lenType": 16,
    "lenVar": 40
   },
   "kernels_config": {
    "python": {
     "delete_cmd_postfix": "",
     "delete_cmd_prefix": "del ",
     "library": "var_list.py",
     "varRefreshCmd": "print(var_dic_list())"
    },
    "r": {
     "delete_cmd_postfix": ") ",
     "delete_cmd_prefix": "rm(",
     "library": "var_list.r",
     "varRefreshCmd": "cat(var_dic_list()) "
    }
   },
   "types_to_exclude": [
    "module",
    "function",
    "builtin_function_or_method",
    "instance",
    "_Feature"
   ],
   "window_display": false
  }
 },
 "nbformat": 4,
 "nbformat_minor": 4
}
