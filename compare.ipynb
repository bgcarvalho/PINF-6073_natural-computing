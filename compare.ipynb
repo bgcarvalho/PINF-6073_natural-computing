{
 "cells": [
  {
   "cell_type": "markdown",
   "metadata": {},
   "source": [
    "# Natural Computing\n",
    "\n",
    "This is an exercise from 2019/2 period of the course \"Natural Computing\" at UFES, in Vitória/ES - Brazil.\n",
    "\n",
    "Task: Compare different nature-inspired optimization algorithms.\n",
    "\n",
    "Master's degree candidate: Bruno Carvalho\n",
    "\n",
    "## Algorithms\n",
    "\n",
    "- GA - Genetic Algorithms\n",
    "- GP - Genetic Programming\n",
    "- ES - Evolution Strategy\n",
    "- DE - Differential Evolution\n",
    "\n",
    "- PSO - Particle Swarm Optimization [Kennedy and Eberhart, 1995]\n",
    "- ACO - Ant Colony Optimization [Korošec and Šilc, 2009]\n",
    "- CS - Cuckoo Search\n",
    "- GWO - Grey Wolf Optimizer\n",
    "- MVO - Multi-Verse Optimizer\n",
    "- MFO - Moth-flame Optimization \n",
    "- WOA - Whale Optimization Algorithm\n",
    "- BAT - Bat Algorithm\n",
    "- FFA - Firefly Algorithm\n",
    "\n",
    "## References\n",
    "\n",
    "."
   ]
  },
  {
   "cell_type": "code",
   "execution_count": 1,
   "metadata": {
    "ExecuteTime": {
     "end_time": "2019-09-10T00:39:37.595154Z",
     "start_time": "2019-09-10T00:39:37.327042Z"
    }
   },
   "outputs": [],
   "source": [
    "import os\n",
    "import sys\n",
    "import time\n",
    "import itertools\n",
    "import random\n",
    "\n",
    "import numpy as np\n",
    "import pandas as pd\n",
    "\n",
    "from tqdm import tqdm\n",
    "from matplotlib import pyplot as plt\n",
    "\n",
    "%matplotlib inline\n",
    "%config InlineBackend.figure_format = 'png'\n"
   ]
  },
  {
   "cell_type": "code",
   "execution_count": 2,
   "metadata": {
    "ExecuteTime": {
     "end_time": "2019-09-10T00:39:37.611880Z",
     "start_time": "2019-09-10T00:39:37.596191Z"
    }
   },
   "outputs": [],
   "source": [
    "%load_ext memory_profiler\n",
    "%load_ext autoreload\n",
    "%autoreload 2"
   ]
  },
  {
   "cell_type": "code",
   "execution_count": 3,
   "metadata": {
    "ExecuteTime": {
     "end_time": "2019-09-10T00:39:37.619632Z",
     "start_time": "2019-09-10T00:39:37.613031Z"
    }
   },
   "outputs": [],
   "source": [
    "execution_dict = {\n",
    "    'time_elapsed': 0,\n",
    "    'algorithm': '',\n",
    "    'metrics': {\n",
    "        'best': [],\n",
    "        'time': [],\n",
    "        'objective': [],\n",
    "        'scores': [],\n",
    "    }\n",
    "}"
   ]
  },
  {
   "cell_type": "code",
   "execution_count": 4,
   "metadata": {
    "ExecuteTime": {
     "end_time": "2019-09-10T00:39:37.642510Z",
     "start_time": "2019-09-10T00:39:37.620724Z"
    },
    "code_folding": [
     0.0
    ]
   },
   "outputs": [],
   "source": [
    "def ga_optimizer(obj_func, parameters):\n",
    "    \"\"\"\n",
    "\n",
    "    Inspired by:\n",
    "    https://github.com/7ossam81/EvoloPy/blob/master/GA.py\n",
    "\n",
    "    \"\"\"\n",
    "    lower = parameters.get('lower', [-1.0])\n",
    "    upper = parameters.get('upper', [1.0])\n",
    "    dimension = parameters.get('dimension', 30)\n",
    "    seed = parameters.get('seed', 1)\n",
    "    max_iterations = parameters.get('max_iterations', 100)\n",
    "    population = parameters.get('population', 100)\n",
    "    crossover_rate = parameters.get('crossover_rate', 1.0)\n",
    "    mutation_rate = parameters.get('mutation_rate', 0.01)\n",
    "    best_to_keep = parameters.get('best_to_keep', 2)\n",
    "    crossover_alpha = parameters.get('crossover_alpha', 0.25)\n",
    "    \n",
    "    np.random.seed(seed)\n",
    "    \n",
    "    # Input Objective function has variable dimensions\n",
    "    # consider equi-distance \"square\"\n",
    "    if not isinstance(lower, list):\n",
    "        lower = [lower]\n",
    "    if not isinstance(upper, list):\n",
    "        upper = [upper]\n",
    "\n",
    "    lower = lower * dimension\n",
    "    upper = upper * dimension\n",
    "\n",
    "    # track execution\n",
    "    exec_info = execution_dict.copy()\n",
    "    \n",
    "    # allocate memory\n",
    "    exec_info['metrics']['time'] = np.zeros([max_iterations], dtype='float')\n",
    "    exec_info['metrics']['best'] = np.zeros([max_iterations, dimension], dtype='float')\n",
    "    exec_info['metrics']['objective'] = np.zeros([max_iterations], dtype='float')\n",
    "    exec_info['metrics']['scores'] = np.full([max_iterations, population], np.inf, dtype='float')\n",
    "\n",
    "    begin = time.time()\n",
    "\n",
    "    # search space - Zero init array\n",
    "    #space = np.full([population, dimension], 0.0)\n",
    "    space = np.random.uniform(0, 1, [population, dimension])\n",
    "\n",
    "    # objective evaluation scores\n",
    "    scores = np.random.uniform(0.0, 1.0, population)\n",
    "    \n",
    "    def crossover(space, scores):\n",
    "        search_space = np.zeros_like(space) + np.random.uniform(0, 1)\n",
    "        #search_space = np.zeros_like(space)\n",
    "        search_space[0:best_to_keep, :] = space[0:best_to_keep, :]\n",
    "        \n",
    "        # renew BETA every generation\n",
    "        beta = np.random.uniform(-crossover_alpha, 1 + crossover_alpha)\n",
    "        \n",
    "        for cross  in range(best_to_keep + 1, population - 1, 2):\n",
    "\n",
    "            # using SET parents will always be different\n",
    "            #parents = set()\n",
    "            \n",
    "            # using LIST parents can repeat!\n",
    "            parents = []\n",
    "            \n",
    "            parent1_idx = np.random.randint(0, population)\n",
    "            parent2_idx = np.random.randint(0, population)\n",
    "            \n",
    "            parents.append(parent1_idx)\n",
    "            parents.append(parent2_idx)\n",
    "\n",
    "            \"\"\"\n",
    "            while len(parents) < 2:\n",
    "                parent1_idx = np.random.randint(0, population)\n",
    "                parent2_idx = np.random.randint(0, population)\n",
    "            \n",
    "                if scores[parent1_idx] > scores[parent2_idx]:\n",
    "                    # p1 is better then p2\n",
    "                    parents.add(parent1_idx)\n",
    "                else:\n",
    "                    parents.add(parent2_idx)               \n",
    "            \"\"\"\n",
    "            \n",
    "            lp = list(parents)\n",
    "            parent1 = space[lp[0], :]\n",
    "            parent2 = space[lp[1], :]\n",
    "            \n",
    "            # ARITHMETIC CROSSOVER\n",
    "            child1 = parent1 * beta + (1.0 - beta) * parent2\n",
    "            child2 = parent2 * beta + (1.0 - beta) * parent1\n",
    "            \n",
    "            crossover_chance = np.random.uniform(0.0, 1.0)\n",
    "            if crossover_chance < crossover_rate:\n",
    "                search_space[cross, :] = np.copy(child1)\n",
    "                search_space[cross + 1, :] = np.copy(child2)  \n",
    "            else:\n",
    "                search_space[cross, :] = np.copy(parent1)\n",
    "                search_space[cross + 1, :] = np.copy(parent2)\n",
    "            \n",
    "            for j in range(dimension):\n",
    "                search_space[cross, j] = np.clip(search_space[cross, j], lower[j], upper[j])\n",
    "                search_space[cross + 1, j] = np.clip(search_space[cross + 1, j], lower[j], upper[j])\n",
    "                \n",
    "        return search_space\n",
    "    \n",
    "    def mutation(space, gen):\n",
    "        n_mutate = np.int(population * mutation_rate)\n",
    "        for m in range(n_mutate):\n",
    "            # keep best => do not mutate\n",
    "            rand_individual = np.random.randint(best_to_keep + 1, population)\n",
    "            #rand_individual = np.random.randint(0, population)\n",
    "            # decrease stdev with generations\n",
    "            #stdev = 5.0 / np.sqrt(gen)\n",
    "            stdev = 2\n",
    "            new_value = np.zeros(dimension)\n",
    "            for j in range(dimension):\n",
    "                new_value[j] = np.random.normal(space[rand_individual, j], stdev)\n",
    "                new_value[j] = np.clip(new_value[j], lower[j], upper[j])\n",
    "\n",
    "            # store\n",
    "            space[rand_individual, :] = new_value\n",
    "\n",
    "        return space\n",
    "    \n",
    "    def sort_iter(_space, _scores):\n",
    "        idx = scores.argsort()\n",
    "        _space = _space[idx]\n",
    "        _scores = _scores[idx]\n",
    "        return _space, _scores\n",
    "    \n",
    "    def eval_obj(func, _space):\n",
    "        _scores = np.full(population, np.inf)\n",
    "        for p in range(population):\n",
    "            _scores[p] = func(_space[p, :])\n",
    "        return _scores\n",
    "\n",
    "    for i in range(dimension):\n",
    "        space[:, i] = np.random.uniform(0, 1, population) * (upper[i] - lower[i]) + lower[i]\n",
    "    \n",
    "    for _iter in range(1, max_iterations):\n",
    "        \n",
    "        # crossover\n",
    "        space = crossover(space, scores)\n",
    "        \n",
    "        # mutation\n",
    "        space = mutation(space, _iter)\n",
    "        \n",
    "        # evaluate objective\n",
    "        scores = eval_obj(obj_func, space)\n",
    "        \n",
    "        # remove duplicates\n",
    "        \n",
    "        # sort\n",
    "        space, scores = sort_iter(space, scores)\n",
    "        \n",
    "        # save\n",
    "        exec_info['metrics']['scores'][_iter] = scores\n",
    "        exec_info['metrics']['time'][_iter] = time.time() - begin\n",
    "        exec_info['metrics']['best'][_iter] = space[0, :]\n",
    "        \n",
    "        if _iter % np.int(max_iterations / 10) == 0:\n",
    "            print(f'\\tGen {_iter:06d} (10%), '\n",
    "                  f'f_min = {scores[0]:+13.5e}, '\n",
    "            )\n",
    "            #print(\n",
    "            #      f'\\tx[0, 0] = {space[0, 0]:+13.5e}, '\n",
    "            #      f'x[0, d] = {space[0, -1]:+13.5e}, '\n",
    "            #      f'x[p, d] = {space[-1, -1]:+13.5e}'\n",
    "            #)\n",
    "            #print(space)\n",
    "            #print(scores)\n",
    "\n",
    "    exec_info['algorithm'] = 'GA - Genetic Algorithm'\n",
    "    exec_info['time_elapsed'] = time.time() - begin\n",
    "    #print(space)\n",
    "    #print(scores)\n",
    "    #print(scores.shape)\n",
    "    \n",
    "    return exec_info"
   ]
  },
  {
   "cell_type": "code",
   "execution_count": 5,
   "metadata": {
    "ExecuteTime": {
     "end_time": "2019-09-10T00:39:37.659739Z",
     "start_time": "2019-09-10T00:39:37.643542Z"
    },
    "code_folding": [
     0.0
    ],
    "collapsed": true
   },
   "outputs": [],
   "source": [
    "def pso_optimizer(obj_func, parameters):\n",
    "    \"\"\"\n",
    "\n",
    "    Inspired by:\n",
    "    https://github.com/7ossam81/EvoloPy/blob/master/PSO.py\n",
    "\n",
    "    \"\"\"\n",
    "    lower = parameters.get('lower', [-1.0])\n",
    "    upper = parameters.get('upper', [1.0])\n",
    "    dimension = parameters.get('dimension', 30)\n",
    "    population = parameters.get('population', 100)\n",
    "    seed = parameters.get('seed', 1)\n",
    "    max_iterations = parameters.get('max_iterations', 100)\n",
    "    velocity_max = np.full(dimension, parameters.get('velocity_max', 5.0))\n",
    "    \n",
    "    w_max = parameters.get('w_max', 0.9)\n",
    "    w_min = parameters.get('w_min', 0.2)\n",
    "\n",
    "    if not isinstance(lower, list):\n",
    "        lower = [lower]\n",
    "    if not isinstance(upper, list):\n",
    "        upper = [upper]\n",
    "\n",
    "    lower = lower * dimension\n",
    "    upper = upper * dimension\n",
    "\n",
    "    # track execution\n",
    "    exec_info = execution_dict.copy()\n",
    "    exec_info['metrics']['scores'] = np.zeros(max_iterations, dtype='float')\n",
    "\n",
    "    # inner variables\n",
    "    \n",
    "    c1 = 2.0\n",
    "    c2 = 2.0\n",
    "    \n",
    "    velocity = np.full([population, dimension], 0.0)\n",
    "    \n",
    "    p_best_score = np.full(population, np.inf)\n",
    "    p_best = np.full([population, dimension], 0.0)\n",
    "    \n",
    "    g_best_score = np.inf\n",
    "    g_best = np.full(population, 0.0)\n",
    "    \n",
    "    space = np.full([population, dimension], 0.0)\n",
    "    \n",
    "    begin = time.time()\n",
    "\n",
    "    # init fill\n",
    "    for _d in range(dimension):\n",
    "        rand_dim = np.random.uniform(0, 1, population)\n",
    "        space[:, _d] = rand_dim * (upper[_d] - lower[_d]) + lower[_d]\n",
    "    \n",
    "    for _iter in range(max_iterations):\n",
    "        for _p in range(population):\n",
    "            # keep inside bounds / search limits\n",
    "            space[_p, :] = np.clip(space[_p, :], lower, upper)\n",
    "            \n",
    "            # eval\n",
    "            score = obj_func(space[_p, :])\n",
    "            \n",
    "            # check\n",
    "            if p_best_score[_p] > score:\n",
    "                p_best_score[_p] = score\n",
    "                p_best[_p, :] = np.copy(space[_p, :])\n",
    "            \n",
    "            if g_best_score > score:\n",
    "                g_best_score = score\n",
    "                g_best = np.copy(space[_p, :])\n",
    "        \n",
    "        w = w_max - _iter * ((w_max - w_min) / max_iterations)\n",
    "        \n",
    "        for _p in range(population):\n",
    "            r1 = np.random.random([dimension])\n",
    "            r2 = np.random.random([dimension])\n",
    "            \n",
    "            v = velocity[_p, :]\n",
    "            \n",
    "            a1 = c1 * r1 * (p_best[_p, :] - space[_p, :])\n",
    "            a2 = c2 * r2 * (g_best - space[_p, :])\n",
    "            \n",
    "            #r = w * v + a1 + a2\n",
    "            #print(r)\n",
    "            \n",
    "            velocity[_p, :] = w * v + a1 + a2\n",
    "            \n",
    "            velocity[_p, :] = np.fmax(velocity[_p, :], -velocity_max)  # negative!!\n",
    "            velocity[_p, :] = np.fmin(velocity[_p, :],  velocity_max)\n",
    "            \n",
    "            # UPDATE space\n",
    "            space[_p, :] += velocity[_p, :]\n",
    "\n",
    "        # save data to analyse and plot later\n",
    "        exec_info['metrics']['scores'][_iter] = g_best_score\n",
    "        \n",
    "        # some logging\n",
    "        if _iter % np.int(max_iterations / 10.0) == 0:\n",
    "            print(f'\\tIteration {_iter:05d}, f_minx = {g_best_score:+12.5e}')\n",
    "\n",
    "    # finished\n",
    "    exec_info['algorithm'] = 'PSO - Particle Swarm Optimization'\n",
    "    exec_info['time_elapsed'] = time.time() - begin\n",
    "\n",
    "    return exec_info"
   ]
  },
  {
   "cell_type": "code",
   "execution_count": null,
   "metadata": {},
   "outputs": [],
   "source": [
    "def bb_pso_optimizer():\n",
    "    \"\"\"\n",
    "\n",
    "\n",
    "    \"\"\"\n",
    "    lower = parameters.get('lower', [-1.0])\n",
    "    upper = parameters.get('upper', [1.0])\n",
    "    dimension = parameters.get('dimension', 30)\n",
    "    population = parameters.get('population', 100)\n",
    "    seed = parameters.get('seed', 1)\n",
    "    max_iterations = parameters.get('max_iterations', 100)\n",
    "    velocity_max = np.full(dimension, parameters.get('velocity_max', 5.0))\n",
    "\n",
    "    np.random.seed(seed)\n",
    "\n",
    "    w_max = parameters.get('w_max', 0.9)\n",
    "    w_min = parameters.get('w_min', 0.2)\n",
    "\n",
    "    if not isinstance(lower, list):\n",
    "        lower = [lower]\n",
    "    if not isinstance(upper, list):\n",
    "        upper = [upper]\n",
    "\n",
    "    lower = lower * dimension\n",
    "    upper = upper * dimension\n",
    "\n",
    "    # track execution\n",
    "    exec_info = execution_dict.copy()\n",
    "    exec_info['metrics']['scores'] = np.zeros(max_iterations, dtype='float')\n",
    "\n",
    "    # inner variables\n",
    "\n",
    "    c1 = 2.0\n",
    "    c2 = 2.0\n",
    "\n",
    "    velocity = np.full([population, dimension], 0.0)\n",
    "\n",
    "    p_best_score = np.full(population, np.inf)\n",
    "    p_best = np.full([population, dimension], 0.0)\n",
    "\n",
    "    g_best_score = np.inf\n",
    "    g_best = np.full(population, 0.0)\n",
    "\n",
    "    space = np.full([population, dimension], 0.0)\n",
    "\n",
    "    begin = time.time()\n",
    "\n",
    "    # init fill\n",
    "    for _d in range(dimension):\n",
    "        rand_dim = np.random.uniform(0, 1, population)\n",
    "        space[:, _d] = rand_dim * (upper[_d] - lower[_d]) + lower[_d]\n",
    "\n",
    "    for _iter in range(max_iterations):\n",
    "        for _p in range(population):\n",
    "            # keep inside bounds / search limits\n",
    "            space[_p, :] = np.clip(space[_p, :], lower, upper)\n",
    "\n",
    "            # eval\n",
    "            score = obj_func(space[_p, :])\n",
    "\n",
    "            # check\n",
    "            if p_best_score[_p] > score:\n",
    "                p_best_score[_p] = score\n",
    "                p_best[_p, :] = np.copy(space[_p, :])\n",
    "\n",
    "            if g_best_score > score:\n",
    "                g_best_score = score\n",
    "                g_best = np.copy(space[_p, :])\n",
    "\n",
    "        w = w_max - _iter * ((w_max - w_min) / max_iterations)\n",
    "\n",
    "        for _p in range(population):\n",
    "            r1 = np.random.random([dimension])\n",
    "            r2 = np.random.random([dimension])\n",
    "\n",
    "            v = velocity[_p, :]\n",
    "\n",
    "            a1 = c1 * r1 * (p_best[_p, :] - space[_p, :])\n",
    "            a2 = c2 * r2 * (g_best - space[_p, :])\n",
    "\n",
    "            velocity[_p, :] = w * v + a1 + a2\n",
    "\n",
    "            velocity[_p, :] = np.fmax(velocity[_p, :], -velocity_max)  # negative!!\n",
    "            velocity[_p, :] = np.fmin(velocity[_p, :],  velocity_max)\n",
    "\n",
    "            # UPDATE space\n",
    "            space[_p, :] += velocity[_p, :]\n",
    "\n",
    "        # save data to analyse and plot later\n",
    "        exec_info['metrics']['scores'][_iter] = g_best_score\n",
    "\n",
    "        # some logging\n",
    "        if _iter % np.int(max_iterations / 10.0) == 0:\n",
    "            print(f'\\tIteration {_iter:05d}, f_minx = {g_best_score:+12.5e}')\n",
    "\n",
    "    # finished\n",
    "    exec_info['algorithm'] = 'PSO - Particle Swarm Optimization'\n",
    "    exec_info['time_elapsed'] = time.time() - begin\n",
    "\n",
    "    return exec_info"
   ]
  },
  {
   "cell_type": "code",
   "execution_count": null,
   "metadata": {},
   "outputs": [],
   "source": [
    "def es_optimizer()"
   ]
  },
  {
   "cell_type": "code",
   "execution_count": 6,
   "metadata": {
    "ExecuteTime": {
     "end_time": "2019-09-10T00:39:37.668672Z",
     "start_time": "2019-09-10T00:39:37.660718Z"
    },
    "code_folding": [
     0.0
    ]
   },
   "outputs": [],
   "source": [
    "def ackley_function(x):\n",
    "    \"\"\"David Ackley, 1987.\n",
    "    \n",
    "    Minimum is ZERO at x = [0, 0, ..., 0]\n",
    "    \n",
    "    \"\"\"\n",
    "    n = x.shape[0]\n",
    "    exp1 = -0.2 * np.sqrt((1/n) * np.dot(x.T, x))\n",
    "    exp2 = (1/n) * np.sum(np.cos(2 * np.pi * x))\n",
    "    return np.squeeze(-20 * np.exp(exp1) - np.exp(exp2) + 20 + np.e)"
   ]
  },
  {
   "cell_type": "code",
   "execution_count": 7,
   "metadata": {
    "ExecuteTime": {
     "end_time": "2019-09-10T00:39:37.676190Z",
     "start_time": "2019-09-10T00:39:37.669832Z"
    }
   },
   "outputs": [],
   "source": [
    "def rastrigin_function(x):\n",
    "    pass"
   ]
  },
  {
   "cell_type": "code",
   "execution_count": 8,
   "metadata": {
    "ExecuteTime": {
     "end_time": "2019-09-10T00:39:37.683870Z",
     "start_time": "2019-09-10T00:39:37.677702Z"
    }
   },
   "outputs": [],
   "source": [
    "def sphere_function(x):\n",
    "    pass"
   ]
  },
  {
   "cell_type": "code",
   "execution_count": 9,
   "metadata": {
    "ExecuteTime": {
     "end_time": "2019-09-10T00:39:37.691569Z",
     "start_time": "2019-09-10T00:39:37.685079Z"
    }
   },
   "outputs": [],
   "source": [
    "def rosenbrock_function(x):\n",
    "    pass"
   ]
  },
  {
   "cell_type": "code",
   "execution_count": 10,
   "metadata": {
    "ExecuteTime": {
     "end_time": "2019-09-10T00:39:37.698705Z",
     "start_time": "2019-09-10T00:39:37.692679Z"
    }
   },
   "outputs": [],
   "source": [
    "def beale_function(x):\n",
    "    pass"
   ]
  },
  {
   "cell_type": "code",
   "execution_count": 11,
   "metadata": {
    "ExecuteTime": {
     "end_time": "2019-09-10T00:39:37.706148Z",
     "start_time": "2019-09-10T00:39:37.699563Z"
    }
   },
   "outputs": [],
   "source": [
    "def goldstein_price_function(x):\n",
    "    pass"
   ]
  },
  {
   "cell_type": "code",
   "execution_count": 12,
   "metadata": {
    "ExecuteTime": {
     "end_time": "2019-09-10T00:39:37.713498Z",
     "start_time": "2019-09-10T00:39:37.707196Z"
    }
   },
   "outputs": [],
   "source": [
    "def booth_function(x):\n",
    "    pass"
   ]
  },
  {
   "cell_type": "code",
   "execution_count": 13,
   "metadata": {
    "ExecuteTime": {
     "end_time": "2019-09-10T00:39:37.721052Z",
     "start_time": "2019-09-10T00:39:37.714600Z"
    }
   },
   "outputs": [],
   "source": [
    "def bukin_function_6(x):\n",
    "    pass"
   ]
  },
  {
   "cell_type": "code",
   "execution_count": 14,
   "metadata": {
    "ExecuteTime": {
     "end_time": "2019-09-10T00:39:37.728741Z",
     "start_time": "2019-09-10T00:39:37.722036Z"
    }
   },
   "outputs": [],
   "source": [
    "def matyas_function(x):\n",
    "    pass"
   ]
  },
  {
   "cell_type": "code",
   "execution_count": 15,
   "metadata": {
    "ExecuteTime": {
     "end_time": "2019-09-10T00:39:37.736518Z",
     "start_time": "2019-09-10T00:39:37.729872Z"
    }
   },
   "outputs": [],
   "source": [
    "def levi_function_13(x):\n",
    "    pass"
   ]
  },
  {
   "cell_type": "code",
   "execution_count": 16,
   "metadata": {
    "ExecuteTime": {
     "end_time": "2019-09-10T00:39:37.743910Z",
     "start_time": "2019-09-10T00:39:37.737478Z"
    }
   },
   "outputs": [],
   "source": [
    "def himmelblau_function(x):\n",
    "    pass"
   ]
  },
  {
   "cell_type": "code",
   "execution_count": 17,
   "metadata": {
    "ExecuteTime": {
     "end_time": "2019-09-10T00:39:37.751387Z",
     "start_time": "2019-09-10T00:39:37.745061Z"
    }
   },
   "outputs": [],
   "source": [
    "def three_hump_camel_function(x):\n",
    "    pass"
   ]
  },
  {
   "cell_type": "code",
   "execution_count": 18,
   "metadata": {
    "ExecuteTime": {
     "end_time": "2019-09-10T00:39:37.759339Z",
     "start_time": "2019-09-10T00:39:37.752492Z"
    }
   },
   "outputs": [],
   "source": [
    "def easom_function(x):\n",
    "    pass"
   ]
  },
  {
   "cell_type": "code",
   "execution_count": 19,
   "metadata": {
    "ExecuteTime": {
     "end_time": "2019-09-10T00:39:37.767096Z",
     "start_time": "2019-09-10T00:39:37.760449Z"
    }
   },
   "outputs": [],
   "source": [
    "def cross_in_tray_function(x):\n",
    "    pass"
   ]
  },
  {
   "cell_type": "code",
   "execution_count": 20,
   "metadata": {
    "ExecuteTime": {
     "end_time": "2019-09-10T00:39:37.774606Z",
     "start_time": "2019-09-10T00:39:37.768165Z"
    }
   },
   "outputs": [],
   "source": [
    "def eggholder_function(x):\n",
    "    pass"
   ]
  },
  {
   "cell_type": "code",
   "execution_count": 21,
   "metadata": {
    "ExecuteTime": {
     "end_time": "2019-09-10T00:39:37.783029Z",
     "start_time": "2019-09-10T00:39:37.775743Z"
    }
   },
   "outputs": [],
   "source": [
    "def hoelder_table_function(x):\n",
    "    pass"
   ]
  },
  {
   "cell_type": "code",
   "execution_count": 22,
   "metadata": {
    "ExecuteTime": {
     "end_time": "2019-09-10T00:39:37.790712Z",
     "start_time": "2019-09-10T00:39:37.784194Z"
    }
   },
   "outputs": [],
   "source": [
    "def mccormick_function(x):\n",
    "    pass"
   ]
  },
  {
   "cell_type": "code",
   "execution_count": 23,
   "metadata": {
    "ExecuteTime": {
     "end_time": "2019-09-10T00:39:37.799475Z",
     "start_time": "2019-09-10T00:39:37.793382Z"
    }
   },
   "outputs": [],
   "source": [
    "def schaffer_function_2(x):\n",
    "    pass"
   ]
  },
  {
   "cell_type": "code",
   "execution_count": 24,
   "metadata": {
    "ExecuteTime": {
     "end_time": "2019-09-10T00:39:37.807366Z",
     "start_time": "2019-09-10T00:39:37.800915Z"
    }
   },
   "outputs": [],
   "source": [
    "def schaffer_function_4(x):\n",
    "    pass"
   ]
  },
  {
   "cell_type": "code",
   "execution_count": 25,
   "metadata": {
    "ExecuteTime": {
     "end_time": "2019-09-10T00:39:37.815081Z",
     "start_time": "2019-09-10T00:39:37.808381Z"
    }
   },
   "outputs": [],
   "source": [
    "def styblinski_tang_function(x):\n",
    "    pass"
   ]
  },
  {
   "cell_type": "code",
   "execution_count": 26,
   "metadata": {
    "ExecuteTime": {
     "end_time": "2019-09-10T00:39:56.648599Z",
     "start_time": "2019-09-10T00:39:37.816193Z"
    }
   },
   "outputs": [
    {
     "name": "stdout",
     "output_type": "stream",
     "text": [
      "Dimensions: 2\n",
      "\tGen 000100 (10%), f_min =  +1.24516e-02, \n",
      "\tGen 000200 (10%), f_min =  +7.35933e-03, \n",
      "\tGen 000300 (10%), f_min =  +4.47820e-03, \n",
      "\tGen 000400 (10%), f_min =  +3.03154e-03, \n",
      "\tGen 000500 (10%), f_min =  +3.03154e-03, \n",
      "\tGen 000600 (10%), f_min =  +2.64912e-03, \n",
      "\tGen 000700 (10%), f_min =  +2.57036e-03, \n",
      "\tGen 000800 (10%), f_min =  +2.57036e-03, \n",
      "\tGen 000900 (10%), f_min =  +5.76225e-04, \n",
      "\tTop 5 f(x) values, after    1.70s\n",
      "\tf= [0.00057623 0.00060124 0.02075629 0.04492558 0.04832589]\n",
      "\tx=\n",
      "\t\t -1.7152391e-04\n",
      "\t\t +1.0920422e-04\n",
      "Dimensions: 3\n",
      "\tGen 000100 (10%), f_min =  +5.52037e-03, \n",
      "\tGen 000200 (10%), f_min =  +4.92657e-03, \n",
      "\tGen 000300 (10%), f_min =  +2.01951e-03, \n",
      "\tGen 000400 (10%), f_min =  +2.01951e-03, \n",
      "\tGen 000500 (10%), f_min =  +2.01951e-03, \n",
      "\tGen 000600 (10%), f_min =  +2.01951e-03, \n",
      "\tGen 000700 (10%), f_min =  +2.01951e-03, \n",
      "\tGen 000800 (10%), f_min =  +2.01951e-03, \n",
      "\tGen 000900 (10%), f_min =  +2.01951e-03, \n",
      "\tTop 5 f(x) values, after    1.73s\n",
      "\tf= [0.00201951 0.00201951 0.00360298 0.00376168 1.01044687]\n",
      "\tx=\n",
      "\t\t -4.2669886e-04\n",
      "\t\t +7.3650944e-04\n",
      "\t\t -1.7341265e-04\n",
      "Dimensions: 4\n",
      "\tGen 000100 (10%), f_min =  +3.39479e-03, \n",
      "\tGen 000200 (10%), f_min =  +3.31853e-03, \n",
      "\tGen 000300 (10%), f_min =  +2.48558e-03, \n",
      "\tGen 000400 (10%), f_min =  +1.35513e-03, \n",
      "\tGen 000500 (10%), f_min =  +1.35472e-03, \n",
      "\tGen 000600 (10%), f_min =  +1.35472e-03, \n",
      "\tGen 000700 (10%), f_min =  +5.04326e-04, \n",
      "\tGen 000800 (10%), f_min =  +4.72695e-04, \n",
      "\tGen 000900 (10%), f_min =  +4.72695e-04, \n",
      "\tTop 5 f(x) values, after    1.84s\n",
      "\tf= [4.72695458e-04 4.72695458e-04 5.49848926e-01 1.00572627e+00\n",
      " 1.13539291e+00]\n",
      "\tx=\n",
      "\t\t -1.1043387e-04\n",
      "\t\t -1.0137940e-04\n",
      "\t\t -5.0309685e-05\n",
      "\t\t -1.7515899e-04\n",
      "Dimensions: 5\n",
      "\tGen 000100 (10%), f_min =  +2.81249e-02, \n",
      "\tGen 000200 (10%), f_min =  +3.53191e-03, \n",
      "\tGen 000300 (10%), f_min =  +2.24581e-03, \n",
      "\tGen 000400 (10%), f_min =  +2.24581e-03, \n",
      "\tGen 000500 (10%), f_min =  +2.19061e-03, \n",
      "\tGen 000600 (10%), f_min =  +2.19061e-03, \n",
      "\tGen 000700 (10%), f_min =  +1.89611e-03, \n",
      "\tGen 000800 (10%), f_min =  +1.89599e-03, \n",
      "\tGen 000900 (10%), f_min =  +1.88417e-03, \n",
      "\tTop 5 f(x) values, after    1.94s\n",
      "\tf= [0.00188417 0.00189005 0.18249413 0.18417821 0.27903776]\n",
      "\tx=\n",
      "\t\t -8.1965632e-04\n",
      "\t\t -6.3443680e-05\n",
      "\t\t +6.2264884e-04\n",
      "\t\t +2.8188079e-06\n",
      "\t\t +1.7928534e-04\n",
      "Dimensions: 6\n",
      "\tGen 000100 (10%), f_min =  +8.39654e-03, \n",
      "\tGen 000200 (10%), f_min =  +7.07832e-03, \n",
      "\tGen 000300 (10%), f_min =  +6.88689e-03, \n",
      "\tGen 000400 (10%), f_min =  +6.33969e-04, \n",
      "\tGen 000500 (10%), f_min =  +6.24829e-04, \n",
      "\tGen 000600 (10%), f_min =  +3.69212e-04, \n",
      "\tGen 000700 (10%), f_min =  +3.69212e-04, \n",
      "\tGen 000800 (10%), f_min =  +3.69212e-04, \n",
      "\tGen 000900 (10%), f_min =  +3.69212e-04, \n",
      "\tTop 5 f(x) values, after    2.06s\n",
      "\tf= [0.00036921 0.00036921 0.12239003 0.18089731 0.20115768]\n",
      "\tx=\n",
      "\t\t -2.0134714e-06\n",
      "\t\t +1.6937339e-04\n",
      "\t\t +1.3210247e-04\n",
      "\t\t -1.3900575e-05\n",
      "\t\t -6.8200822e-05\n",
      "\t\t -2.5923686e-06\n",
      "Dimensions: 7\n",
      "\tGen 000100 (10%), f_min =  +3.31969e-03, \n",
      "\tGen 000200 (10%), f_min =  +2.98658e-03, \n",
      "\tGen 000300 (10%), f_min =  +2.92080e-03, \n",
      "\tGen 000400 (10%), f_min =  +2.92080e-03, \n",
      "\tGen 000500 (10%), f_min =  +2.92080e-03, \n",
      "\tGen 000600 (10%), f_min =  +2.89380e-03, \n",
      "\tGen 000700 (10%), f_min =  +2.57255e-03, \n",
      "\tGen 000800 (10%), f_min =  +2.57255e-03, \n",
      "\tGen 000900 (10%), f_min =  +2.54711e-03, \n",
      "\tTop 5 f(x) values, after    2.21s\n",
      "\tf= [0.00254711 0.00257255 0.01919216 0.03832905 0.15393772]\n",
      "\tx=\n",
      "\t\t +1.5515439e-04\n",
      "\t\t -9.8873710e-04\n",
      "\t\t -6.1111684e-04\n",
      "\t\t +9.4284405e-05\n",
      "\t\t +9.2626293e-04\n",
      "\t\t +3.6319336e-04\n",
      "\t\t -6.4603916e-04\n",
      "Dimensions: 8\n",
      "\tGen 000100 (10%), f_min =  +4.29329e-03, \n",
      "\tGen 000200 (10%), f_min =  +3.40706e-03, \n",
      "\tGen 000300 (10%), f_min =  +3.40360e-03, \n",
      "\tGen 000400 (10%), f_min =  +3.40360e-03, \n",
      "\tGen 000500 (10%), f_min =  +3.30839e-03, \n",
      "\tGen 000600 (10%), f_min =  +3.30839e-03, \n",
      "\tGen 000700 (10%), f_min =  +3.30839e-03, \n",
      "\tGen 000800 (10%), f_min =  +3.30839e-03, \n",
      "\tGen 000900 (10%), f_min =  +2.96362e-03, \n",
      "\tTop 5 f(x) values, after    2.30s\n",
      "\tf= [0.00296362 0.0029987  0.56075039 0.57180996 0.59110714]\n",
      "\tx=\n",
      "\t\t -1.8152529e-04\n",
      "\t\t +1.0217707e-03\n",
      "\t\t +1.4233698e-03\n",
      "\t\t -2.2608799e-04\n",
      "\t\t -3.7009454e-05\n",
      "\t\t -4.5020607e-04\n",
      "\t\t -7.8378613e-04\n",
      "\t\t -5.7838285e-04\n",
      "Dimensions: 9\n",
      "\tGen 000100 (10%), f_min =  +3.23109e-03, \n",
      "\tGen 000200 (10%), f_min =  +7.22088e-04, \n",
      "\tGen 000300 (10%), f_min =  +7.22088e-04, \n",
      "\tGen 000400 (10%), f_min =  +7.22088e-04, \n",
      "\tGen 000500 (10%), f_min =  +6.23639e-04, \n",
      "\tGen 000600 (10%), f_min =  +6.23639e-04, \n",
      "\tGen 000700 (10%), f_min =  +6.23639e-04, \n",
      "\tGen 000800 (10%), f_min =  +6.23639e-04, \n",
      "\tGen 000900 (10%), f_min =  +6.23639e-04, \n",
      "\tTop 5 f(x) values, after    2.45s\n",
      "\tf= [0.00062364 0.00062364 0.21055471 0.57087728 0.60902458]\n",
      "\tx=\n",
      "\t\t +9.8760033e-05\n",
      "\t\t +3.1282372e-05\n",
      "\t\t -2.3639512e-04\n",
      "\t\t -2.8332172e-04\n",
      "\t\t +1.4802823e-04\n",
      "\t\t +1.8528250e-05\n",
      "\t\t -6.7661028e-05\n",
      "\t\t +2.0719239e-04\n",
      "\t\t -3.4911369e-05\n",
      "Dimensions: 10\n",
      "\tGen 000100 (10%), f_min =  +1.21591e-02, \n",
      "\tGen 000200 (10%), f_min =  +1.00171e-03, \n",
      "\tGen 000300 (10%), f_min =  +3.07040e-04, \n",
      "\tGen 000400 (10%), f_min =  +3.07040e-04, \n",
      "\tGen 000500 (10%), f_min =  +3.07040e-04, \n",
      "\tGen 000600 (10%), f_min =  +3.07040e-04, \n",
      "\tGen 000700 (10%), f_min =  +3.07040e-04, \n",
      "\tGen 000800 (10%), f_min =  +3.07040e-04, \n",
      "\tGen 000900 (10%), f_min =  +3.07040e-04, \n",
      "\tTop 5 f(x) values, after    2.60s\n",
      "\tf= [3.07039543e-04 3.07039543e-04 3.19683329e-01 3.45006187e-01\n",
      " 3.89374779e-01]\n",
      "\tx=\n",
      "\t\t -1.4470003e-04\n",
      "\t\t +7.6776068e-05\n",
      "\t\t +1.5749073e-05\n",
      "\t\t +4.2888547e-05\n",
      "\t\t +4.2654519e-05\n",
      "\t\t -5.5049433e-05\n",
      "\t\t -1.2712267e-05\n",
      "\t\t -2.6037348e-05\n",
      "\t\t +1.1704156e-04\n",
      "\t\t +1.0243256e-04\n"
     ]
    }
   ],
   "source": [
    "params = {\n",
    "    'seed': 5\n",
    "}\n",
    "results = []\n",
    "\n",
    "total_ndim = 10\n",
    "for _dim in range(2, total_ndim + 1):\n",
    "    params = {\n",
    "        'seed': 1,\n",
    "        'dimension': _dim,\n",
    "        'max_iterations': 1000,\n",
    "        'population': 100,\n",
    "        'upper': [30],\n",
    "        'lower': [-30],\n",
    "    }\n",
    "    print(f'Dimensions: {_dim}')\n",
    "    ga_result = ga_optimizer(ackley_function, params)\n",
    "    results.append(ga_result.copy())\n",
    "    print(f\"\\tTop 5 f(x) values, after {ga_result['time_elapsed']:7.2f}s\")\n",
    "    print('\\tf=', ga_result['metrics']['scores'][-1][:5])\n",
    "    print('\\tx=')\n",
    "    for xv in ga_result['metrics']['best'][-1]:\n",
    "        print(f'\\t\\t {xv:+12.7e}')\n"
   ]
  },
  {
   "cell_type": "code",
   "execution_count": 27,
   "metadata": {
    "ExecuteTime": {
     "end_time": "2019-09-10T00:39:56.657577Z",
     "start_time": "2019-09-10T00:39:56.649729Z"
    }
   },
   "outputs": [],
   "source": [
    "dim = 2\n",
    "r_dim = results[0]\n",
    "y_plot = []\n",
    "for _iter2 in range(r_dim['metrics']['scores'].shape[0]):\n",
    "    y_plot.append(r_dim['metrics']['scores'][_iter2][0])"
   ]
  },
  {
   "cell_type": "code",
   "execution_count": 29,
   "metadata": {
    "ExecuteTime": {
     "end_time": "2019-09-10T00:40:06.925132Z",
     "start_time": "2019-09-10T00:40:06.823178Z"
    }
   },
   "outputs": [
    {
     "data": {
      "text/plain": [
       "Text(0, 0.5, 'log of f')"
      ]
     },
     "execution_count": 29,
     "metadata": {},
     "output_type": "execute_result"
    },
    {
     "data": {
      "image/png": "[encoded data removed]",
      "text/plain": [
       "<Figure size 432x288 with 1 Axes>"
      ]
     },
     "metadata": {
      "needs_background": "light"
     },
     "output_type": "display_data"
    }
   ],
   "source": [
    "# change plot scale to LOG => better view\n",
    "plt.plot(-np.log(y_plot))\n",
    "\n",
    "plt.title('GA - Genetic Algorithm')\n",
    "#plt.subtitle('log of f(x) for x = best')\n",
    "plt.xlabel('generations')\n",
    "plt.ylabel('log of f')"
   ]
  },
  {
   "cell_type": "code",
   "execution_count": 30,
   "metadata": {
    "ExecuteTime": {
     "end_time": "2019-09-10T00:40:41.396667Z",
     "start_time": "2019-09-10T00:40:19.094917Z"
    }
   },
   "outputs": [
    {
     "name": "stdout",
     "output_type": "stream",
     "text": [
      "Dimensions: 2\n",
      "Iteration 00000, f_minx = +6.94877e+00\n",
      "Iteration 00100, f_minx = +1.09278e-02\n",
      "Iteration 00200, f_minx = +3.75330e-04\n",
      "Iteration 00300, f_minx = +4.53395e-07\n",
      "Iteration 00400, f_minx = +3.24154e-11\n",
      "Iteration 00500, f_minx = +3.99680e-15\n",
      "Iteration 00600, f_minx = +4.44089e-16\n",
      "Iteration 00700, f_minx = +4.44089e-16\n",
      "Iteration 00800, f_minx = +4.44089e-16\n",
      "Iteration 00900, f_minx = +4.44089e-16\n",
      "\tTop 5 f(x) values, after    2.34s\n",
      "\tf= [4.4408921e-16 4.4408921e-16 4.4408921e-16 4.4408921e-16 4.4408921e-16]\n",
      "Dimensions: 3\n",
      "Iteration 00000, f_minx = +1.37851e+01\n",
      "Iteration 00100, f_minx = +3.71637e-01\n",
      "Iteration 00200, f_minx = +1.30966e-02\n",
      "Iteration 00300, f_minx = +5.57709e-06\n",
      "Iteration 00400, f_minx = +6.61587e-09\n",
      "Iteration 00500, f_minx = +2.63345e-13\n",
      "Iteration 00600, f_minx = +4.44089e-16\n",
      "Iteration 00700, f_minx = +4.44089e-16\n",
      "Iteration 00800, f_minx = +4.44089e-16\n",
      "Iteration 00900, f_minx = +4.44089e-16\n",
      "\tTop 5 f(x) values, after    2.35s\n",
      "\tf= [4.4408921e-16 4.4408921e-16 4.4408921e-16 4.4408921e-16 4.4408921e-16]\n",
      "Dimensions: 4\n",
      "Iteration 00000, f_minx = +1.46362e+01\n",
      "Iteration 00100, f_minx = +2.23995e-01\n",
      "Iteration 00200, f_minx = +8.85328e-03\n",
      "Iteration 00300, f_minx = +8.78758e-04\n",
      "Iteration 00400, f_minx = +3.26321e-06\n",
      "Iteration 00500, f_minx = +8.87706e-10\n",
      "Iteration 00600, f_minx = +1.11022e-14\n",
      "Iteration 00700, f_minx = +3.99680e-15\n",
      "Iteration 00800, f_minx = +3.99680e-15\n",
      "Iteration 00900, f_minx = +4.44089e-16\n",
      "\tTop 5 f(x) values, after    2.41s\n",
      "\tf= [4.4408921e-16 4.4408921e-16 4.4408921e-16 4.4408921e-16 4.4408921e-16]\n",
      "Dimensions: 5\n",
      "Iteration 00000, f_minx = +1.35991e+01\n",
      "Iteration 00100, f_minx = +9.53966e-01\n",
      "Iteration 00200, f_minx = +1.47620e-01\n",
      "Iteration 00300, f_minx = +4.47579e-03\n",
      "Iteration 00400, f_minx = +1.64331e-05\n",
      "Iteration 00500, f_minx = +1.22427e-08\n",
      "Iteration 00600, f_minx = +7.14984e-14\n",
      "Iteration 00700, f_minx = +3.99680e-15\n",
      "Iteration 00800, f_minx = +4.44089e-16\n",
      "Iteration 00900, f_minx = +4.44089e-16\n",
      "\tTop 5 f(x) values, after    2.47s\n",
      "\tf= [4.4408921e-16 4.4408921e-16 4.4408921e-16 4.4408921e-16 4.4408921e-16]\n",
      "Dimensions: 6\n",
      "Iteration 00000, f_minx = +1.89865e+01\n",
      "Iteration 00100, f_minx = +2.34057e+00\n",
      "Iteration 00200, f_minx = +2.76246e-01\n",
      "Iteration 00300, f_minx = +1.58646e-02\n",
      "Iteration 00400, f_minx = +2.46193e-04\n",
      "Iteration 00500, f_minx = +3.57399e-07\n",
      "Iteration 00600, f_minx = +2.96230e-11\n",
      "Iteration 00700, f_minx = +3.99680e-15\n",
      "Iteration 00800, f_minx = +4.44089e-16\n",
      "Iteration 00900, f_minx = +4.44089e-16\n",
      "\tTop 5 f(x) values, after    2.53s\n",
      "\tf= [4.4408921e-16 4.4408921e-16 4.4408921e-16 4.4408921e-16 4.4408921e-16]\n",
      "Dimensions: 7\n",
      "Iteration 00000, f_minx = +1.68652e+01\n",
      "Iteration 00100, f_minx = +2.31773e+00\n",
      "Iteration 00200, f_minx = +2.39867e-01\n",
      "Iteration 00300, f_minx = +2.96044e-02\n",
      "Iteration 00400, f_minx = +3.27292e-04\n",
      "Iteration 00500, f_minx = +1.70460e-06\n",
      "Iteration 00600, f_minx = +2.89046e-10\n",
      "Iteration 00700, f_minx = +3.99680e-15\n",
      "Iteration 00800, f_minx = +3.99680e-15\n",
      "Iteration 00900, f_minx = +3.99680e-15\n",
      "\tTop 5 f(x) values, after    2.53s\n",
      "\tf= [3.99680289e-15 3.99680289e-15 3.99680289e-15 3.99680289e-15\n",
      " 3.99680289e-15]\n",
      "Dimensions: 8\n",
      "Iteration 00000, f_minx = +1.95290e+01\n",
      "Iteration 00100, f_minx = +2.88092e+00\n",
      "Iteration 00200, f_minx = +2.30829e-01\n",
      "Iteration 00300, f_minx = +1.73194e-02\n",
      "Iteration 00400, f_minx = +1.06956e-03\n",
      "Iteration 00500, f_minx = +2.78395e-06\n",
      "Iteration 00600, f_minx = +6.68600e-10\n",
      "Iteration 00700, f_minx = +1.11022e-14\n",
      "Iteration 00800, f_minx = +3.99680e-15\n",
      "Iteration 00900, f_minx = +3.99680e-15\n",
      "\tTop 5 f(x) values, after    2.56s\n",
      "\tf= [3.99680289e-15 3.99680289e-15 3.99680289e-15 3.99680289e-15\n",
      " 3.99680289e-15]\n",
      "Dimensions: 9\n",
      "Iteration 00000, f_minx = +1.92070e+01\n",
      "Iteration 00100, f_minx = +3.25679e+00\n",
      "Iteration 00200, f_minx = +1.08365e+00\n",
      "Iteration 00300, f_minx = +1.02469e-01\n",
      "Iteration 00400, f_minx = +3.57706e-03\n",
      "Iteration 00500, f_minx = +1.19345e-05\n",
      "Iteration 00600, f_minx = +5.05339e-09\n",
      "Iteration 00700, f_minx = +4.23217e-13\n",
      "Iteration 00800, f_minx = +3.99680e-15\n",
      "Iteration 00900, f_minx = +3.99680e-15\n",
      "\tTop 5 f(x) values, after    2.52s\n",
      "\tf= [3.99680289e-15 3.99680289e-15 3.99680289e-15 3.99680289e-15\n",
      " 3.99680289e-15]\n",
      "Dimensions: 10\n",
      "Iteration 00000, f_minx = +1.86791e+01\n",
      "Iteration 00100, f_minx = +3.63147e+00\n",
      "Iteration 00200, f_minx = +2.29257e+00\n",
      "Iteration 00300, f_minx = +2.18390e-01\n",
      "Iteration 00400, f_minx = +1.20252e-02\n",
      "Iteration 00500, f_minx = +7.85649e-05\n",
      "Iteration 00600, f_minx = +1.46406e-07\n",
      "Iteration 00700, f_minx = +1.02394e-11\n",
      "Iteration 00800, f_minx = +3.99680e-15\n",
      "Iteration 00900, f_minx = +3.99680e-15\n",
      "\tTop 5 f(x) values, after    2.58s\n",
      "\tf= [3.99680289e-15 3.99680289e-15 3.99680289e-15 3.99680289e-15\n",
      " 3.99680289e-15]\n"
     ]
    }
   ],
   "source": [
    "params = {\n",
    "    'seed': 5\n",
    "}\n",
    "\n",
    "results = []\n",
    "total_ndim = 10\n",
    "\n",
    "for _dim in range(2, total_ndim + 1):\n",
    "    params = {\n",
    "        'seed': 1,\n",
    "        'dimension': _dim,\n",
    "        'max_iterations': 1000,\n",
    "        'population': 100,\n",
    "        'upper': [30],\n",
    "        'lower': [-30],\n",
    "    }\n",
    "    print(f'Dimensions: {_dim}')\n",
    "    ga_result = pso_optimizer(ackley_function, params)\n",
    "    results.append(ga_result.copy())\n",
    "    print(f\"\\tTop 5 f(x) values, after {ga_result['time_elapsed']:7.2f}s\")\n",
    "    print('\\tf=', ga_result['metrics']['scores'][-5:])\n"
   ]
  },
  {
   "cell_type": "code",
   "execution_count": 31,
   "metadata": {
    "ExecuteTime": {
     "end_time": "2019-09-10T00:40:55.070870Z",
     "start_time": "2019-09-10T00:40:55.060443Z"
    }
   },
   "outputs": [],
   "source": [
    "dim = 2\n",
    "r_dim = results[0]\n",
    "y_plot = []\n",
    "for _iter2 in range(r_dim['metrics']['scores'].shape[0]):\n",
    "    y_plot.append(r_dim['metrics']['scores'][_iter2])"
   ]
  },
  {
   "cell_type": "code",
   "execution_count": 32,
   "metadata": {
    "ExecuteTime": {
     "end_time": "2019-09-10T00:40:56.348595Z",
     "start_time": "2019-09-10T00:40:56.244636Z"
    }
   },
   "outputs": [
    {
     "data": {
      "text/plain": [
       "Text(0, 0.5, 'log of f')"
      ]
     },
     "execution_count": 32,
     "metadata": {},
     "output_type": "execute_result"
    },
    {
     "data": {
      "image/png": "[encoded data removed]",
      "text/plain": [
       "<Figure size 432x288 with 1 Axes>"
      ]
     },
     "metadata": {
      "needs_background": "light"
     },
     "output_type": "display_data"
    }
   ],
   "source": [
    "plt.plot(-np.log(y_plot))\n",
    "plt.title('PSO - Particle Swarm Optimization')\n",
    "#plt.subtitle('log of f(x) for x = best')\n",
    "plt.xlabel('generations')\n",
    "plt.ylabel('log of f')"
   ]
  },
  {
   "cell_type": "code",
   "execution_count": null,
   "metadata": {},
   "outputs": [],
   "source": []
  }
 ],
 "metadata": {
  "kernelspec": {
   "display_name": "Python 3",
   "language": "python",
   "name": "python3"
  },
  "language_info": {
   "codemirror_mode": {
    "name": "ipython",
    "version": 3
   },
   "file_extension": ".py",
   "mimetype": "text/x-python",
   "name": "python",
   "nbconvert_exporter": "python",
   "pygments_lexer": "ipython3",
   "version": "3.7.3"
  },
  "varInspector": {
   "cols": {
    "lenName": 16.0,
    "lenType": 16.0,
    "lenVar": 40.0
   },
   "kernels_config": {
    "python": {
     "delete_cmd_postfix": "",
     "delete_cmd_prefix": "del ",
     "library": "var_list.py",
     "varRefreshCmd": "print(var_dic_list())"
    },
    "r": {
     "delete_cmd_postfix": ") ",
     "delete_cmd_prefix": "rm(",
     "library": "var_list.r",
     "varRefreshCmd": "cat(var_dic_list()) "
    }
   },
   "types_to_exclude": [
    "module",
    "function",
    "builtin_function_or_method",
    "instance",
    "_Feature"
   ],
   "window_display": false
  }
 },
 "nbformat": 4,
 "nbformat_minor": 4
}
