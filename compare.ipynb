{
 "cells": [
  {
   "cell_type": "markdown",
   "metadata": {},
   "source": [
    "# Natural Computing\n",
    "\n",
    "This is an exercise from 2019/2 period of the course \"Natural Computing\" at UFES, in Vitória/ES - Brazil.\n",
    "\n",
    "Task: Compare different nature-inspired optimization algorithms.\n",
    "\n",
    "Master's degree candidate: Bruno Carvalho\n",
    "\n",
    "## Algorithms\n",
    "\n",
    "- GA - Genetic Algorithms\n",
    "- GP - Genetic Programming\n",
    "- ES - Evolution Strategy\n",
    "- DE - Differential Evolution\n",
    "\n",
    "- PSO - Particle Swarm Optimization [Kennedy and Eberhart, 1995]\n",
    "- ACO - Ant Colony Optimization [Korošec and Šilc, 2009]\n",
    "- CS - Cuckoo Search\n",
    "- GWO - Grey Wolf Optimizer\n",
    "- MVO - Multi-Verse Optimizer\n",
    "- MFO - Moth-flame Optimization \n",
    "- WOA - Whale Optimization Algorithm\n",
    "- BAT - Bat Algorithm\n",
    "- FFA - Firefly Algorithm\n",
    "\n",
    "## References\n",
    "\n",
    "."
   ]
  },
  {
   "cell_type": "code",
   "execution_count": 1,
   "metadata": {},
   "outputs": [],
   "source": [
    "import os\n",
    "import sys\n",
    "import time\n",
    "import itertools\n",
    "import random\n",
    "\n",
    "import numpy as np\n",
    "import pandas as pd\n",
    "\n",
    "from tqdm import tqdm\n",
    "from matplotlib import pyplot as plt\n",
    "\n",
    "%matplotlib inline\n",
    "%config InlineBackend.figure_format = 'png'\n"
   ]
  },
  {
   "cell_type": "code",
   "execution_count": 2,
   "metadata": {},
   "outputs": [],
   "source": [
    "%load_ext memory_profiler\n",
    "%load_ext autoreload\n",
    "%autoreload 2"
   ]
  },
  {
   "cell_type": "code",
   "execution_count": 3,
   "metadata": {},
   "outputs": [],
   "source": [
    "execution_dict = {\n",
    "    'time_elapsed': 0,\n",
    "    'algorithm': '',\n",
    "    'metrics': {\n",
    "        'best': [],\n",
    "        'time': [],\n",
    "        'objective': [],\n",
    "        'scores': [],\n",
    "    }\n",
    "}"
   ]
  },
  {
   "cell_type": "code",
   "execution_count": 4,
   "metadata": {},
   "outputs": [],
   "source": [
    "def ga_optimizer(obj_func, parameters):\n",
    "    \"\"\"\n",
    "\n",
    "    Inspired by:\n",
    "    https://github.com/7ossam81/EvoloPy/blob/master/GA.py\n",
    "\n",
    "    \"\"\"\n",
    "    lower = parameters.get('lower', [-1.0])\n",
    "    upper = parameters.get('upper', [1.0])\n",
    "    dimension = parameters.get('dimension', 30)\n",
    "    seed = parameters.get('seed', 1)\n",
    "    max_iterations = parameters.get('max_iterations', 100)\n",
    "    population = parameters.get('population', 100)\n",
    "    crossover_rate = parameters.get('crossover_rate', 1.0)\n",
    "    mutation_rate = parameters.get('mutation_rate', 0.01)\n",
    "    best_to_keep = parameters.get('best_to_keep', 2)\n",
    "    crossover_alpha = parameters.get('crossover_alpha', 0.25)\n",
    "    \n",
    "    np.random.seed(seed)\n",
    "    \n",
    "    # Input Objective function has variable dimensions\n",
    "    # consider equi-distance \"square\"\n",
    "    if not isinstance(lower, list):\n",
    "        lower = [lower]\n",
    "    if not isinstance(upper, list):\n",
    "        upper = [upper]\n",
    "\n",
    "    lower = lower * dimension\n",
    "    upper = upper * dimension\n",
    "\n",
    "    # track execution\n",
    "    exec_info = execution_dict.copy()\n",
    "    \n",
    "    # allocate memory\n",
    "    exec_info['metrics']['time'] = np.zeros([max_iterations], dtype='float')\n",
    "    exec_info['metrics']['best'] = np.zeros([max_iterations, dimension], dtype='float')\n",
    "    exec_info['metrics']['objective'] = np.zeros([max_iterations], dtype='float')\n",
    "    exec_info['metrics']['scores'] = np.full([max_iterations, population], np.inf, dtype='float')\n",
    "\n",
    "    begin = time.time()\n",
    "\n",
    "    # search space - Zero init array\n",
    "    #space = np.full([population, dimension], 0.0)\n",
    "    space = np.random.uniform(0, 1, [population, dimension])\n",
    "\n",
    "    # objective evaluation scores\n",
    "    scores = np.random.uniform(0.0, 1.0, population)\n",
    "    \n",
    "    def crossover(space, scores):\n",
    "        search_space = np.zeros_like(space) + np.random.uniform(0, 1)\n",
    "        #search_space = np.zeros_like(space)\n",
    "        search_space[0:best_to_keep, :] = space[0:best_to_keep, :]\n",
    "        \n",
    "        # renew BETA every generation\n",
    "        beta = np.random.uniform(-crossover_alpha, 1 + crossover_alpha)\n",
    "        \n",
    "        for cross  in range(best_to_keep + 1, population - 1, 2):\n",
    "\n",
    "            # using SET parents will always be different\n",
    "            #parents = set()\n",
    "            \n",
    "            # using LIST parents can repeat!\n",
    "            parents = []\n",
    "            \n",
    "            parent1_idx = np.random.randint(0, population)\n",
    "            parent2_idx = np.random.randint(0, population)\n",
    "            \n",
    "            parents.append(parent1_idx)\n",
    "            parents.append(parent2_idx)\n",
    "\n",
    "            \"\"\"\n",
    "            while len(parents) < 2:\n",
    "                parent1_idx = np.random.randint(0, population)\n",
    "                parent2_idx = np.random.randint(0, population)\n",
    "            \n",
    "                if scores[parent1_idx] > scores[parent2_idx]:\n",
    "                    # p1 is better then p2\n",
    "                    parents.add(parent1_idx)\n",
    "                else:\n",
    "                    parents.add(parent2_idx)               \n",
    "            \"\"\"\n",
    "            \n",
    "            lp = list(parents)\n",
    "            parent1 = space[lp[0], :]\n",
    "            parent2 = space[lp[1], :]\n",
    "            \n",
    "            # ARITHMETIC CROSSOVER\n",
    "            child1 = parent1 * beta + (1.0 - beta) * parent2\n",
    "            child2 = parent2 * beta + (1.0 - beta) * parent1\n",
    "            \n",
    "            crossover_chance = np.random.uniform(0.0, 1.0)\n",
    "            if crossover_chance < crossover_rate:\n",
    "                search_space[cross, :] = np.copy(child1)\n",
    "                search_space[cross + 1, :] = np.copy(child2)  \n",
    "            else:\n",
    "                search_space[cross, :] = np.copy(parent1)\n",
    "                search_space[cross + 1, :] = np.copy(parent2)\n",
    "            \n",
    "            for j in range(dimension):\n",
    "                search_space[cross, j] = np.clip(search_space[cross, j], lower[j], upper[j])\n",
    "                search_space[cross + 1, j] = np.clip(search_space[cross + 1, j], lower[j], upper[j])\n",
    "                \n",
    "        return search_space\n",
    "    \n",
    "    def mutation(space, gen):\n",
    "        n_mutate = np.int(population * mutation_rate)\n",
    "        for m in range(n_mutate):\n",
    "            # keep best => do not mutate\n",
    "            rand_individual = np.random.randint(best_to_keep + 1, population)\n",
    "            #rand_individual = np.random.randint(0, population)\n",
    "            # decrease stdev with generations\n",
    "            #stdev = 5.0 / np.sqrt(gen)\n",
    "            stdev = 2\n",
    "            new_value = np.zeros(dimension)\n",
    "            for j in range(dimension):\n",
    "                new_value[j] = np.random.normal(space[rand_individual, j], stdev)\n",
    "                new_value[j] = np.clip(new_value[j], lower[j], upper[j])\n",
    "\n",
    "            # store\n",
    "            space[rand_individual, :] = new_value\n",
    "\n",
    "        return space\n",
    "    \n",
    "    def sort_iter(_space, _scores):\n",
    "        idx = scores.argsort()\n",
    "        _space = _space[idx]\n",
    "        _scores = _scores[idx]\n",
    "        return _space, _scores\n",
    "    \n",
    "    def eval_obj(func, _space):\n",
    "        _scores = np.full(population, np.inf)\n",
    "        for p in range(population):\n",
    "            _scores[p] = func(_space[p, :])\n",
    "        return _scores\n",
    "\n",
    "    for i in range(dimension):\n",
    "        space[:, i] = np.random.uniform(0, 1, population) * (upper[i] - lower[i]) + lower[i]\n",
    "    \n",
    "    for _iter in range(1, max_iterations):\n",
    "        \n",
    "        # crossover\n",
    "        space = crossover(space, scores)\n",
    "        \n",
    "        # mutation\n",
    "        space = mutation(space, _iter)\n",
    "        \n",
    "        # evaluate objective\n",
    "        scores = eval_obj(obj_func, space)\n",
    "        \n",
    "        # remove duplicates\n",
    "        \n",
    "        # sort\n",
    "        space, scores = sort_iter(space, scores)\n",
    "        \n",
    "        # save\n",
    "        exec_info['metrics']['scores'][_iter] = scores\n",
    "        exec_info['metrics']['time'][_iter] = time.time() - begin\n",
    "        exec_info['metrics']['best'][_iter] = space[0, :]\n",
    "        \n",
    "        if _iter % np.int(max_iterations / 10) == 0:\n",
    "            print(f'\\tGen {_iter:06d} (10%), '\n",
    "                  f'f_min = {scores[0]:+13.5e}, '\n",
    "            )\n",
    "            #print(\n",
    "            #      f'\\tx[0, 0] = {space[0, 0]:+13.5e}, '\n",
    "            #      f'x[0, d] = {space[0, -1]:+13.5e}, '\n",
    "            #      f'x[p, d] = {space[-1, -1]:+13.5e}'\n",
    "            #)\n",
    "            #print(space)\n",
    "            #print(scores)\n",
    "\n",
    "    exec_info['algorithm'] = 'GA - Genetic Algorithm'\n",
    "    exec_info['time_elapsed'] = time.time() - begin\n",
    "    #print(space)\n",
    "    #print(scores)\n",
    "    #print(scores.shape)\n",
    "    \n",
    "    return exec_info"
   ]
  },
  {
   "cell_type": "code",
   "execution_count": 5,
   "metadata": {},
   "outputs": [],
   "source": [
    "def ackley_function(x):\n",
    "    \"\"\"David Ackley, 1987.\n",
    "    \n",
    "    Minimum is ZERO at x = [0, 0, ..., 0]\n",
    "    \n",
    "    \"\"\"\n",
    "    n = x.shape[0]\n",
    "    exp1 = -0.2 * np.sqrt((1/n) * np.dot(x.T, x))\n",
    "    exp2 = (1/n) * np.sum(np.cos(2 * np.pi * x))\n",
    "    return np.squeeze(-20 * np.exp(exp1) - np.exp(exp2) + 20 + np.e)"
   ]
  },
  {
   "cell_type": "code",
   "execution_count": 6,
   "metadata": {},
   "outputs": [],
   "source": [
    "def rastrigin_function(x):\n",
    "    pass"
   ]
  },
  {
   "cell_type": "code",
   "execution_count": 7,
   "metadata": {},
   "outputs": [],
   "source": [
    "def sphere_function(x):\n",
    "    pass"
   ]
  },
  {
   "cell_type": "code",
   "execution_count": 8,
   "metadata": {},
   "outputs": [],
   "source": [
    "def rosenbrock_function(x):\n",
    "    pass"
   ]
  },
  {
   "cell_type": "code",
   "execution_count": 9,
   "metadata": {},
   "outputs": [],
   "source": [
    "def beale_function(x):\n",
    "    pass"
   ]
  },
  {
   "cell_type": "code",
   "execution_count": 10,
   "metadata": {},
   "outputs": [],
   "source": [
    "def goldstein_price_function(x):\n",
    "    pass"
   ]
  },
  {
   "cell_type": "code",
   "execution_count": 11,
   "metadata": {},
   "outputs": [],
   "source": [
    "def booth_function(x):\n",
    "    pass"
   ]
  },
  {
   "cell_type": "code",
   "execution_count": 12,
   "metadata": {},
   "outputs": [],
   "source": [
    "def bukin_function_6(x):\n",
    "    pass"
   ]
  },
  {
   "cell_type": "code",
   "execution_count": 13,
   "metadata": {},
   "outputs": [],
   "source": [
    "def matyas_function(x):\n",
    "    pass"
   ]
  },
  {
   "cell_type": "code",
   "execution_count": 14,
   "metadata": {},
   "outputs": [],
   "source": [
    "def levi_function_13(x):\n",
    "    pass"
   ]
  },
  {
   "cell_type": "code",
   "execution_count": 15,
   "metadata": {},
   "outputs": [],
   "source": [
    "def himmelblau_function(x):\n",
    "    pass"
   ]
  },
  {
   "cell_type": "code",
   "execution_count": 16,
   "metadata": {},
   "outputs": [],
   "source": [
    "def three_hump_camel_function(x):\n",
    "    pass"
   ]
  },
  {
   "cell_type": "code",
   "execution_count": 17,
   "metadata": {},
   "outputs": [],
   "source": [
    "def easom_function(x):\n",
    "    pass"
   ]
  },
  {
   "cell_type": "code",
   "execution_count": 18,
   "metadata": {},
   "outputs": [],
   "source": [
    "def cross_in_tray_function(x):\n",
    "    pass"
   ]
  },
  {
   "cell_type": "code",
   "execution_count": 19,
   "metadata": {},
   "outputs": [],
   "source": [
    "def eggholder_function(x):\n",
    "    pass"
   ]
  },
  {
   "cell_type": "code",
   "execution_count": 20,
   "metadata": {},
   "outputs": [],
   "source": [
    "def hoelder_table_function(x):\n",
    "    pass"
   ]
  },
  {
   "cell_type": "code",
   "execution_count": 21,
   "metadata": {},
   "outputs": [],
   "source": [
    "def mccormick_function(x):\n",
    "    pass"
   ]
  },
  {
   "cell_type": "code",
   "execution_count": 22,
   "metadata": {},
   "outputs": [],
   "source": [
    "def schaffer_function_2(x):\n",
    "    pass"
   ]
  },
  {
   "cell_type": "code",
   "execution_count": 23,
   "metadata": {},
   "outputs": [],
   "source": [
    "def schaffer_function_4(x):\n",
    "    pass"
   ]
  },
  {
   "cell_type": "code",
   "execution_count": 24,
   "metadata": {},
   "outputs": [],
   "source": [
    "def styblinski_tang_function(x):\n",
    "    pass"
   ]
  },
  {
   "cell_type": "code",
   "execution_count": 25,
   "metadata": {},
   "outputs": [
    {
     "name": "stdout",
     "output_type": "stream",
     "text": [
      "Dimensions: 2\n",
      "\tGen 010000 (10%), f_min =  +4.63255e-05, \n",
      "\tGen 020000 (10%), f_min =  +9.82377e-06, \n",
      "\tGen 030000 (10%), f_min =  +9.82377e-06, \n",
      "\tGen 040000 (10%), f_min =  +8.76370e-06, \n",
      "\tGen 050000 (10%), f_min =  +5.35473e-06, \n",
      "\tGen 060000 (10%), f_min =  +5.35473e-06, \n",
      "\tGen 070000 (10%), f_min =  +5.35473e-06, \n",
      "\tGen 080000 (10%), f_min =  +4.14630e-06, \n",
      "\tGen 090000 (10%), f_min =  +4.14630e-06, \n",
      "\tTop 5 f(x) values, after  155.44s\n",
      "\tf= [4.14629846e-06 4.14629846e-06 1.20012345e-01 1.60236443e-01\n",
      " 2.26085492e-01]\n",
      "\tx=\n",
      "\t\t -1.1995791e-06\n",
      "\t\t +8.4257020e-07\n"
     ]
    }
   ],
   "source": [
    "params = {\n",
    "    'seed': 5\n",
    "}\n",
    "results = []\n",
    "\n",
    "total_ndim = 2\n",
    "for _dim in range(2, total_ndim + 1):\n",
    "    params = {\n",
    "        'seed': 1,\n",
    "        'dimension': _dim,\n",
    "        'max_iterations': 100000,\n",
    "        'population': 100,\n",
    "        'upper': [30],\n",
    "        'lower': [-30],\n",
    "    }\n",
    "    print(f'Dimensions: {_dim}')\n",
    "    ga_result = ga_optimizer(ackley_function, params)\n",
    "    results.append(ga_result.copy())\n",
    "    print(f\"\\tTop 5 f(x) values, after {ga_result['time_elapsed']:7.2f}s\")\n",
    "    print('\\tf=', ga_result['metrics']['scores'][-1][:5])\n",
    "    print('\\tx=')\n",
    "    for xv in ga_result['metrics']['best'][-1]:\n",
    "        print(f'\\t\\t {xv:+12.7e}')\n"
   ]
  },
  {
   "cell_type": "code",
   "execution_count": 26,
   "metadata": {},
   "outputs": [],
   "source": [
    "dim = 2\n",
    "r_dim = results[0]\n",
    "y_plot = []\n",
    "for _iter2 in range(r_dim['metrics']['scores'].shape[0]):\n",
    "    y_plot.append(r_dim['metrics']['scores'][_iter2][0])"
   ]
  },
  {
   "cell_type": "code",
   "execution_count": 27,
   "metadata": {},
   "outputs": [
    {
     "data": {
      "text/plain": [
       "Text(0, 0.5, 'log of f')"
      ]
     },
     "execution_count": 27,
     "metadata": {},
     "output_type": "execute_result"
    },
    {
     "data": {
      "image/png": "[encoded data removed]",
      "text/plain": [
       "<Figure size 432x288 with 1 Axes>"
      ]
     },
     "metadata": {
      "needs_background": "light"
     },
     "output_type": "display_data"
    }
   ],
   "source": [
    "plt.plot(-np.log(y_plot))\n",
    "plt.title('log of f(x) for x = best')\n",
    "plt.xlabel('generations')\n",
    "plt.ylabel('log of f')"
   ]
  },
  {
   "cell_type": "code",
   "execution_count": null,
   "metadata": {},
   "outputs": [],
   "source": []
  }
 ],
 "metadata": {
  "kernelspec": {
   "display_name": "Python 3",
   "language": "python",
   "name": "python3"
  },
  "language_info": {
   "codemirror_mode": {
    "name": "ipython",
    "version": 3
   },
   "file_extension": ".py",
   "mimetype": "text/x-python",
   "name": "python",
   "nbconvert_exporter": "python",
   "pygments_lexer": "ipython3",
   "version": "3.7.3"
  }
 },
 "nbformat": 4,
 "nbformat_minor": 4
}
